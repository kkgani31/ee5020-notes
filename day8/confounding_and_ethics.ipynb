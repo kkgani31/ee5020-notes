{
 "cells": [
  {
   "cell_type": "markdown",
   "id": "976b15e9-6c4e-43b5-88cf-ecd5a8be02cb",
   "metadata": {},
   "source": [
    "# Confounding and Ethics\n",
    "\n",
    "## Confounding variables\n",
    "\n",
    "**Confounding**: when a variable exists that is related to both the explanatory (independent) and response (dependent) variables that cannot be separated from the effects of the explanatory variable.\n",
    "\n",
    "In other words, confounding occurs when responses can be affected by something inherent (confounding variables) with the sample groups.\n",
    "\n",
    "![Study Design and Confounding Table](confounding_table.png)\n",
    "\n",
    "*Figure 1: Study design to maximize chances of detecting causation*"
   ]
  },
  {
   "cell_type": "code",
   "execution_count": 1,
   "id": "1002ebf4-e399-4e69-a9d8-abb641965b22",
   "metadata": {},
   "outputs": [
    {
     "data": {
      "image/jpeg": "[encoded data removed]",
      "text/html": [
       "\n",
       "        <iframe\n",
       "            width=\"600\"\n",
       "            height=\"300\"\n",
       "            src=\"https://www.youtube.com/embed/BaETnBzM7yU\"\n",
       "            frameborder=\"0\"\n",
       "            allowfullscreen\n",
       "        ></iframe>\n",
       "        "
      ],
      "text/plain": [
       "<IPython.lib.display.YouTubeVideo at 0x1a67027eeb0>"
      ]
     },
     "execution_count": 1,
     "metadata": {},
     "output_type": "execute_result"
    }
   ],
   "source": [
    "from IPython.display import YouTubeVideo\n",
    "YouTubeVideo(id=\"BaETnBzM7yU\", width=600, height=300)"
   ]
  },
  {
   "cell_type": "markdown",
   "id": "917456cf-75ea-4dcc-8c62-1e7028d1c556",
   "metadata": {},
   "source": [
    "## Misuses of statistics\n",
    "\n",
    "1. **\"Correlation is not causation\":** \n",
    "2. **Biased framing:** \n",
    "3. **Omitted statistics:** \n",
    "4. **Bad data:** \n",
    "\n",
    "### WWII Plane Bullet Study\n",
    "\n",
    "What is wrong with the following study? During WWII, there was a design problem of how to optimize armor so that planes could remain mobile. The army officers concluded that armor should be concentrated on bullet hole spots (see Figure 2). However, [Dr. Abraham Wald](https://en.wikipedia.org/wiki/Abraham_Wald) disagreed. Who was correct and why?\n",
    "\n",
    "![Spread of bullets on WWII Plane](example_ww2_plane_bullets.png)\n",
    "\n",
    "*Figure 2: Example of spread of bullets on American planes after a WWII mission.*"
   ]
  },
  {
   "cell_type": "markdown",
   "id": "e15916c0-56d5-4a71-9fa1-126e7c2d93bb",
   "metadata": {},
   "source": [
    "### Ways to abuse the p-value (data dredging)  <!-- Exploiting research degrees of freedom until p < 0.05 -->\n",
    "\n",
    "What does the p-value really mean?\n",
    "\n",
    "1. **Selective reporting**:  <!-- Report only data or studies that \"worked\" -->\n",
    "2. **Hypothesizing after results are known**: <!-- Check the data, then revise your statistical hypotheses -->\n",
    "3. **Confirmation bias**: <!-- Cognitively, we always look at what doesn't make sense to us -->\n",
    "\n",
    "### Venomous spiders and spelling champions\n",
    "\n",
    "![Venomous spider killings linked to spelling bee champions](example_spelling.png)\n",
    "\n",
    "*Figure 3: Correlation of spelling bee champions to spider killings.*\n",
    "\n",
    "### Eating chocolate to lose weight\n",
    "\n",
    "[Link to Chocolate study](https://gizmodo.com/i-fooled-millions-into-thinking-chocolate-helps-weight-1707251800)\n",
    "\n",
    "### p-value Infographic\n",
    "\n",
    "![p-value infographic](pvalue_infographic.png)\n",
    "\n",
    "*Figure 4: Infographic for p-values. Source: https://www.nature.com/articles/506150a*"
   ]
  },
  {
   "cell_type": "markdown",
   "id": "29e51667-d926-4991-b897-f24817490a12",
   "metadata": {},
   "source": [
    "## Approaching studies written by others\n",
    "\n",
    "Let's create a process when reading reports created by others to detect malformed statistics:\n",
    "\n",
    "<!-- \n",
    "1. Number of samples\n",
    "2. All sample group variables considered\n",
    "3. Consider how samples relate to population\n",
    "4. Study design: questionnaire, framing, etc.\n",
    "5. Data analysis: grouping, dropping outlier points\n",
    "-->"
   ]
  },
  {
   "cell_type": "code",
   "execution_count": null,
   "id": "b8c7e419-67e6-4516-900a-0a287444ecad",
   "metadata": {},
   "outputs": [],
   "source": []
  },
  {
   "cell_type": "markdown",
   "id": "21c006e6-4ec5-4384-9fd6-1347e0f9531b",
   "metadata": {},
   "source": [
    "## Final notes on ethics\n",
    "\n",
    "You may end up working with data in the following protected categories:\n",
    "\n",
    "1. **FERPA**\n",
    "2. **HIPAA**\n",
    "3. **GDPR**\n",
    "4. **CCPA**\n",
    "5. **Identity**\n",
    "\n",
    "![Ethics table](ethics_table.PNG)"
   ]
  },
  {
   "cell_type": "code",
   "execution_count": null,
   "id": "d6f66edc-e82a-4ae4-a4df-0369cbe6ffd1",
   "metadata": {},
   "outputs": [],
   "source": []
  }
 ],
 "metadata": {
  "kernelspec": {
   "display_name": "Python 3 (ipykernel)",
   "language": "python",
   "name": "python3"
  },
  "language_info": {
   "codemirror_mode": {
    "name": "ipython",
    "version": 3
   },
   "file_extension": ".py",
   "mimetype": "text/x-python",
   "name": "python",
   "nbconvert_exporter": "python",
   "pygments_lexer": "ipython3",
   "version": "3.8.6"
  }
 },
 "nbformat": 4,
 "nbformat_minor": 5
}
