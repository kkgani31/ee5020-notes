{
 "cells": [
  {
   "cell_type": "markdown",
   "id": "9eab3b16-8be4-4312-a3ea-bebe00d973e4",
   "metadata": {
    "tags": []
   },
   "source": [
    "# EE 5020 Homework 3: Frequentist inference and regression\n",
    "\n",
    "Name: \n",
    "\n",
    "CIN: "
   ]
  },
  {
   "cell_type": "markdown",
   "id": "9e776d9a-583b-4534-8e9f-b8b7c592d6ad",
   "metadata": {
    "tags": []
   },
   "source": [
    "## Overview\n",
    "\n",
    "In this homework, you will practice applying your frequentist inference and regression modeling skills on different datasets. Like the previous homework, this set of problems will be presented as datasets and associated research questions for you to answer with your own Markdown and Python Code cells.\n",
    "\n",
    "## Rubric for this homework\n",
    "\n",
    "**Make sure you write down the statistical reasoning and justification for any Python code cells created.**  The Python code is only there to support you computationally for your own statistical hypotheses and analyses. Additionally, make sure to justify any conclusions you make to answer questions with statistical reasoning.  Make sure you justify the statistical test chosen as well (for instance, unpaired vs. paired t-test).\n",
    "\n",
    "Grading breakdown:\n",
    "\n",
    "- 25% organization and flow of statistical analysis\n",
    "- 25% correct statistical analysis\n",
    "- 25% organization and flow of Python code\n",
    "- 25% correct Python code\n",
    "\n",
    "**[Click here to watch a video about Academic Dishonesty in the Electrical and Computer Engineering Department](https://calstatela.zoom.us/rec/share/xWIpPJA8P5itIqGmXv5zjDcHfFO5Qi8hjURVGhkZ7adpwfxDas_6Kd6KdhcDTlAk.a2p_HGobNOEEwXNZ?startTime=1633466851000)**\n",
    "\n",
    "**Any cheating or academic dishonesty with this homework will result in an automatic zero grade and referral to the College for discipline, including dismissal from the graduate program.**\n",
    "\n",
    "Please refer to the [Student Handbook](https://www.calstatela.edu/studentconduct/california-code-regulations-standards-student-conduct) for more information."
   ]
  },
  {
   "cell_type": "markdown",
   "id": "afd5cc86-6141-42fb-b5ff-3cf63e92567a",
   "metadata": {
    "tags": []
   },
   "source": [
    "## Global imports\n",
    "\n",
    "Write your imports here so you don't have to write imports below."
   ]
  },
  {
   "cell_type": "code",
   "execution_count": null,
   "id": "bdf24eac-2f0d-4f50-b148-ee056763edfe",
   "metadata": {},
   "outputs": [],
   "source": []
  },
  {
   "cell_type": "markdown",
   "id": "5f0fed40-7bc4-41b0-b009-9a6cd9d164ce",
   "metadata": {
    "tags": []
   },
   "source": [
    "## Problem 1\n",
    "\n",
    "**Dataset:** `as_datasets/eyecolorgenderdata.csv`\n",
    "\n",
    "**Dataset description:** A dataset containing information from college students: the gender, age, year in college, eye color, height in inches, how many miles driven per week, number of brothers, number of sisters, average hours of computer time per week, whether regular exercise is performed, how many hours on average of exercise is performed per week, how many music CDs owned, how many hours of gaming per week, and how many hours of tv per week.\n",
    "\n",
    "**Write and discuss the steps to answering the following research question:** Subsample the full dataset by the last two digits of your CIN floor divided by 4. Does a male college student have an even chance of having blue, brown, green, or hazel eyes?"
   ]
  },
  {
   "cell_type": "code",
   "execution_count": null,
   "id": "25205fc2-c062-47c1-85b7-f5572a9a7057",
   "metadata": {},
   "outputs": [],
   "source": []
  },
  {
   "cell_type": "markdown",
   "id": "f7d85e72-fa5d-4a43-a76f-b5e8ed53f9af",
   "metadata": {
    "tags": []
   },
   "source": [
    "## Problem 2\n",
    "\n",
    "**Dataset:** `as_datasets/eyecolorgenderdata.csv`\n",
    "\n",
    "**Dataset description:** A dataset containing information from college students: the gender, age, year in college, eye color, height in inches, how many miles driven per week, number of brothers, number of sisters, average hours of computer time per week, whether regular exercise is performed, how many hours on average of exercise is performed per week, how many music CDs owned, how many hours of gaming per week, and how many hours of tv per week.\n",
    "\n",
    "**Write and discuss the steps to answering the following research question:** Subsample the full dataset by the last two digits of your CIN floor divided by 4. Are students who drive more miles per week more likely to exercise less hours per week?"
   ]
  },
  {
   "cell_type": "code",
   "execution_count": null,
   "id": "a52df794-c92e-4930-9cef-967a628bf3e6",
   "metadata": {},
   "outputs": [],
   "source": []
  },
  {
   "cell_type": "markdown",
   "id": "3273efc0-fdf7-489f-b1d6-b02ac407ac31",
   "metadata": {},
   "source": [
    "## Problem 3\n",
    "\n",
    "**Dataset:** `as_datasets/eyecolorgenderdata.csv`\n",
    "\n",
    "**Dataset description:** A dataset containing information from college students: the gender, age, year in college, eye color, height in inches, how many miles driven per week, number of brothers, number of sisters, average hours of computer time per week, whether regular exercise is performed, how many hours on average of exercise is performed per week, how many music CDs owned, how many hours of gaming per week, and how many hours of tv per week.\n",
    "\n",
    "**Write and discuss the steps to answering the following research question:** Subsample the full dataset by the last two digits of your CIN floor divided by 4. Which attributes in your subsampled dataset work best to estimate the number of hours on average of exercise per week? Are the attributes that work plausible to be able to estimate the number of hours of exercise per week?"
   ]
  },
  {
   "cell_type": "code",
   "execution_count": null,
   "id": "16de257d-a707-455b-81e8-bb48bd7332e0",
   "metadata": {},
   "outputs": [],
   "source": []
  },
  {
   "cell_type": "markdown",
   "id": "cdeb4b2b-97a3-4a69-94f3-c848a3b69a2f",
   "metadata": {},
   "source": [
    "## Problem 4\n",
    "\n",
    "**Dataset:** `as_datasets/eyecolorgenderdata.csv`\n",
    "\n",
    "**Dataset description:** A dataset containing information from college students: the gender, age, year in college, eye color, height in inches, how many miles driven per week, number of brothers, number of sisters, average hours of computer time per week, whether regular exercise is performed, how many hours on average of exercise is performed per week, how many music CDs owned, how many hours of gaming per week, and how many hours of tv per week.\n",
    "\n",
    "**Write and discuss the steps to answering the following research problem:** Using the full dataset, build a regression model that is able to estimate the number of exercise hours of a college student.  Which features work best? Which machine learning algorithm produces the most accurate results without overfitting? Justify the machine learning algorithm you chose."
   ]
  },
  {
   "cell_type": "code",
   "execution_count": null,
   "id": "078f298c-4033-4686-82d2-419ffc971826",
   "metadata": {},
   "outputs": [],
   "source": []
  },
  {
   "cell_type": "markdown",
   "id": "daca46c3-d6d9-4072-8c36-595ed9a6175a",
   "metadata": {
    "tags": []
   },
   "source": [
    "## Problem 5\n",
    "\n",
    "**Dataset:** `ml_datasets/building_energy_efficiency.csv` (Dataset creators: Angeliki Xifara and Athanasios Tsanas)\n",
    "\n",
    "**Dataset description:** A dataset containing energy analysis using 12 different building shapes simulated in Ecotect. The buildings differ with respect to the glazing area, the glazing area distribution, and the orientation, amongst other parameters. We simulate various settings as functions of the afore-mentioned characteristics to obtain 768 building shapes. The dataset comprises 768 samples and 8 features, aiming to predict two real valued responses.\n",
    "\n",
    "The dataset contains eight attributes (or features, denoted by X1...X8) and two responses (or outcomes, denoted by y1 and y2):\n",
    "\n",
    "- X1 Relative Compactness\n",
    "- X2 Surface Area\n",
    "- X3 Wall Area\n",
    "- X4 Roof Area\n",
    "- X5 Overall Height\n",
    "- X6 Orientation\n",
    "- X7 Glazing Area\n",
    "- X8 Glazing Area Distribution\n",
    "- y1 Heating Load\n",
    "- y2 Cooling Load\n",
    "\n",
    "**Write and discuss the steps to answering the following research problem:** Build a regression model to predict the heating load. Which features work best? Which machine learning algorithm produces the most accurate results without overfitting? Justify the machine learning algorithm you chose."
   ]
  },
  {
   "cell_type": "code",
   "execution_count": null,
   "id": "323027e9-bd7e-423e-b969-b0b48b447923",
   "metadata": {},
   "outputs": [],
   "source": []
  }
 ],
 "metadata": {
  "kernelspec": {
   "display_name": "Python 3 (ipykernel)",
   "language": "python",
   "name": "python3"
  },
  "language_info": {
   "codemirror_mode": {
    "name": "ipython",
    "version": 3
   },
   "file_extension": ".py",
   "mimetype": "text/x-python",
   "name": "python",
   "nbconvert_exporter": "python",
   "pygments_lexer": "ipython3",
   "version": "3.8.6"
  }
 },
 "nbformat": 4,
 "nbformat_minor": 5
}
