{
 "cells": [
  {
   "cell_type": "markdown",
   "id": "9eab3b16-8be4-4312-a3ea-bebe00d973e4",
   "metadata": {
    "tags": []
   },
   "source": [
    "# EE 5020 Homework 2: Statistical inference (frequentist)\n",
    "\n",
    "Name: \n",
    "\n",
    "CIN: "
   ]
  },
  {
   "cell_type": "markdown",
   "id": "9e776d9a-583b-4534-8e9f-b8b7c592d6ad",
   "metadata": {
    "tags": []
   },
   "source": [
    "## Overview\n",
    "\n",
    "In this homework, you will practice applying your statistical inference skills on different datasets within the book. Like the previous homework's Section 2, this set of problems will be presented as datasets and associated research questions for you to answer with your own Markdown and Code cells.\n",
    "\n",
    "## Rubric for this homework\n",
    "\n",
    "Make sure you write down the reasoning and method of creation for any additional columns or transformations of data you need to create.  Additionally, make sure to justify any conclusions you make to answer questions with statistical tests.  Make sure you justify the statistical test chosen as well (for instance, unpaired vs. paired t-test).\n",
    "\n",
    "- 25% organization and flow of justification for statistical inference\n",
    "- 25% organization and flow of Python code\n",
    "- 25% correct statistical inference\n",
    "- 25% correct Python code"
   ]
  },
  {
   "cell_type": "markdown",
   "id": "afd5cc86-6141-42fb-b5ff-3cf63e92567a",
   "metadata": {
    "tags": []
   },
   "source": [
    "## Global imports\n",
    "\n",
    "Write your imports here so you don't have to write imports below."
   ]
  },
  {
   "cell_type": "code",
   "execution_count": null,
   "id": "bdf24eac-2f0d-4f50-b148-ee056763edfe",
   "metadata": {},
   "outputs": [],
   "source": []
  },
  {
   "cell_type": "markdown",
   "id": "5f0fed40-7bc4-41b0-b009-9a6cd9d164ce",
   "metadata": {},
   "source": [
    "## Problem 1\n",
    "\n",
    "**Dataset:** `as_datasets/hof.csv`\n",
    "\n",
    "**Dataset description:** A data set containing number of hits and hall of fame status of various baseball players\n",
    "\n",
    "**Write and discuss the steps to answering the following research question:** Subsample the full dataset again by the last two digits of your CIN floor divided by 4. Is it more likely for a hall of famer to have more hits than a non-hall of famer?"
   ]
  },
  {
   "cell_type": "code",
   "execution_count": null,
   "id": "25205fc2-c062-47c1-85b7-f5572a9a7057",
   "metadata": {},
   "outputs": [],
   "source": []
  },
  {
   "cell_type": "markdown",
   "id": "f7d85e72-fa5d-4a43-a76f-b5e8ed53f9af",
   "metadata": {},
   "source": [
    "## Problem 2\n",
    "\n",
    "**Dataset:** `as_datasets/bac.csv`\n",
    "\n",
    "**Dataset description:** Data on blood alcohol content (BAC) and whether the subject passed or failed the standardized field sobriety test\n",
    "\n",
    "**Write and discuss the steps to answering the following research question:** How accurate is a police officer's sobriety test? In other words, do subjects who fail the sobriety test have higher BAC than subjects who passed the sobriety test?"
   ]
  },
  {
   "cell_type": "code",
   "execution_count": null,
   "id": "a52df794-c92e-4930-9cef-967a628bf3e6",
   "metadata": {},
   "outputs": [],
   "source": []
  },
  {
   "cell_type": "markdown",
   "id": "3273efc0-fdf7-489f-b1d6-b02ac407ac31",
   "metadata": {},
   "source": [
    "## Problem 3\n",
    "\n",
    "**Dataset:** `as_datasets/caffeine.csv`\n",
    "\n",
    "**Dataset description:** Endurance times of 9 athletes when given 5 mg and 13 mg of caffeine\n",
    "\n",
    "**Write and discuss the steps to answering the following research question:** Does a higher concentration of actually prolong the endurance time of an athlete?"
   ]
  },
  {
   "cell_type": "code",
   "execution_count": null,
   "id": "16de257d-a707-455b-81e8-bb48bd7332e0",
   "metadata": {},
   "outputs": [],
   "source": []
  },
  {
   "cell_type": "markdown",
   "id": "cdeb4b2b-97a3-4a69-94f3-c848a3b69a2f",
   "metadata": {},
   "source": [
    "## Problem 4\n",
    "\n",
    "**Dataset:** `as_datasets/rent.csv`\n",
    "\n",
    "**Dataset description:** Monthly rent of 10 randomly selected apartments with less than 100 sq ft in 6 American cities\n",
    "\n",
    "**Write and discuss the steps to answering the following research question:** Which cities have similar monthly rent means?"
   ]
  },
  {
   "cell_type": "code",
   "execution_count": null,
   "id": "078f298c-4033-4686-82d2-419ffc971826",
   "metadata": {},
   "outputs": [],
   "source": []
  },
  {
   "cell_type": "markdown",
   "id": "daca46c3-d6d9-4072-8c36-595ed9a6175a",
   "metadata": {},
   "source": [
    "## Problem 5\n",
    "\n",
    "**Dataset:** `as_datasets/gpa.csv`\n",
    "\n",
    "**Dataset description:** A toy data set containing the heights and gpa of 35 students\n",
    "\n",
    "**Write and discuss the steps to answering the following research question:** Is there a GPA difference between with students in each quartile (25%) of height?  In other words, do students who are in the bottom 25% of height have a different GPA than students who are in the 25-50% or 50-75% or 75-100% of height?"
   ]
  },
  {
   "cell_type": "code",
   "execution_count": null,
   "id": "323027e9-bd7e-423e-b969-b0b48b447923",
   "metadata": {},
   "outputs": [],
   "source": []
  }
 ],
 "metadata": {
  "kernelspec": {
   "display_name": "Python 3 (ipykernel)",
   "language": "python",
   "name": "python3"
  },
  "language_info": {
   "codemirror_mode": {
    "name": "ipython",
    "version": 3
   },
   "file_extension": ".py",
   "mimetype": "text/x-python",
   "name": "python",
   "nbconvert_exporter": "python",
   "pygments_lexer": "ipython3",
   "version": "3.8.6"
  }
 },
 "nbformat": 4,
 "nbformat_minor": 5
}
