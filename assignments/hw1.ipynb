{
 "cells": [
  {
   "cell_type": "markdown",
   "id": "9eab3b16-8be4-4312-a3ea-bebe00d973e4",
   "metadata": {
    "tags": []
   },
   "source": [
    "# EE 5020 Homework 1: Pandas and Writing Practice\n",
    "\n",
    "Name: \n",
    "\n",
    "CIN: "
   ]
  },
  {
   "cell_type": "markdown",
   "id": "9e776d9a-583b-4534-8e9f-b8b7c592d6ad",
   "metadata": {
    "tags": []
   },
   "source": [
    "## Overview\n",
    "\n",
    "In this homework, you will practice writing some Python code and using the Python data analysis libraries (seaborn, pandas, numpy, matplotlib).  You will analyze one of the example datasets we have in the `as_datasets` folder, `hof.csv`.  This dataset  is based on the number of hits of a baseball player in their career and whether or not they are in the Hall of Fame.  The dataset contains two columns, \"Hits\" and \"HOF\"."
   ]
  },
  {
   "cell_type": "markdown",
   "id": "afd5cc86-6141-42fb-b5ff-3cf63e92567a",
   "metadata": {
    "tags": []
   },
   "source": [
    "## Section 1: Python Practice\n",
    "\n",
    "First, import the following libraries with usable names:\n",
    "- pandas\n",
    "- matplotlib.pyplot\n",
    "- seaborn\n",
    "- numpy"
   ]
  },
  {
   "cell_type": "code",
   "execution_count": null,
   "id": "bdf24eac-2f0d-4f50-b148-ee056763edfe",
   "metadata": {},
   "outputs": [],
   "source": []
  },
  {
   "cell_type": "markdown",
   "id": "095aadba-3e36-4e77-8b0b-d7087f9b3f7f",
   "metadata": {},
   "source": [
    "Next, use pandas' `read_csv` function to import the CSV as a DataFrame, with a friendly, descriptive name:"
   ]
  },
  {
   "cell_type": "code",
   "execution_count": null,
   "id": "0dc605c8-a5a6-4277-9e85-d5188b6a1443",
   "metadata": {},
   "outputs": [],
   "source": []
  },
  {
   "cell_type": "markdown",
   "id": "bd3e9f86-3788-4fd2-a4fd-dba621b6ad4a",
   "metadata": {},
   "source": [
    "Now, let's get some preliminary information and descriptive statistics (count, mean, standard deviation, min, max, quartiles) about our dataset:"
   ]
  },
  {
   "cell_type": "code",
   "execution_count": null,
   "id": "8f06727a-e8d4-4b78-b9f4-47eec01e0a67",
   "metadata": {},
   "outputs": [],
   "source": []
  },
  {
   "cell_type": "markdown",
   "id": "adcd524f-f1bf-4895-b7ca-aa116f43d513",
   "metadata": {},
   "source": [
    "As an exercise, let's use the last two digits of your CIN to sample the data in a systematic way.  Write a function that uses the [`np.arange()`](https://docs.scipy.org/doc/numpy/reference/generated/numpy.arange.html) function that creates a \"selection vector\" (a `ndarray` with the row indices that we would like to select) to subsample an input DataFrame. \n",
    "\n",
    "The selection vector should contains multiples based on one quarter (floor divide by 4, the operator is two division symbols together like `//`) of the last two digits of a CIN and returns a subsampled version of the input DataFrame. You can get the last two digits of your CIN by using the modulo operator, which is the `%` operator.\n",
    "\n",
    "For example, if the last two digits a CIN are 34, and our input DataFrame had 200 rows (obtained from the `len()` function), then the selection vector would be `[0, 8, 16, ...]`.  Then, this selection vector would be used to subsample the input DataFrame, so only rows 0, 8, 16, etc. are used.  You can select specific rows by just using the square brackets, like: `df_full_table.iloc[selection_vector]`, then just save the result into a new varable.\n",
    "\n",
    "The signature for your function should be similar to:\n",
    "```\n",
    "def cin_subsample_dataframe(df_input: pd.DataFrame, cin: int) -> pd.DataFrame:\n",
    "```"
   ]
  },
  {
   "cell_type": "code",
   "execution_count": null,
   "id": "d49145d1-93fb-4e35-a367-fbb0f0402e3c",
   "metadata": {},
   "outputs": [],
   "source": []
  },
  {
   "cell_type": "markdown",
   "id": "d14b89cd-cfa9-4211-a72d-bb514ec43d5e",
   "metadata": {},
   "source": [
    "Now, use your function to get a new DataFrame that is the subsampled version of the original DataFrame above, and save it to a new variable name:"
   ]
  },
  {
   "cell_type": "code",
   "execution_count": null,
   "id": "466dc899-3bc3-4a50-8cb2-b4a5661e1e75",
   "metadata": {},
   "outputs": [],
   "source": []
  },
  {
   "cell_type": "markdown",
   "id": "dbdec632-543d-45ab-a9c8-68aa3cb065a2",
   "metadata": {},
   "source": [
    "Let's look at the descriptive statistics for the subsampled DataFrame now.  What can we run in the cell below to get some descriptive statistics for our subsampled DataFrame?"
   ]
  },
  {
   "cell_type": "code",
   "execution_count": null,
   "id": "fc20306c-1d04-4baa-bb38-35789ecd8c49",
   "metadata": {},
   "outputs": [],
   "source": []
  },
  {
   "cell_type": "markdown",
   "id": "7036911a-b8b0-453b-9f99-4aba43b4f725",
   "metadata": {},
   "source": [
    "Now, edit (double-click) this cell to answer the following questions:\n",
    "\n",
    "\n",
    "1. How many rows of data does your systematically subsampled DataFrame contain? \n",
    "2. What is the mean number of hits of the players in your subsampled DataFrame? \n",
    "3. What is the standard deviation of the hits of the players in your subsampled DataFrame? \n",
    "\n",
    "Next, let's plot the histograms for each column in your subsampled DataFrame.  Use the DataFrame's built-in `.hist()` function first, but also pass in the `figsize` parameter with a tuple of two values (width, height) to create a larger plot.  Try starting with `figsize=(5, 5)` and adjust the numbers individually until you like the plot."
   ]
  },
  {
   "cell_type": "code",
   "execution_count": null,
   "id": "2aab2856-7c8a-47f0-997d-eab7d767385a",
   "metadata": {},
   "outputs": [],
   "source": []
  },
  {
   "cell_type": "markdown",
   "id": "27f02399-9ce6-4175-b3ab-f8060ab56918",
   "metadata": {},
   "source": [
    "Next, use seaborn's [`histplot()`](https://seaborn.pydata.org/generated/seaborn.histplot.html) function instead, which accepts a pandas DataFrame as the data.  Show the number of hits and the counts of whether the player is in the hall of fame separately.  Which parameter can you pass into `histplot()` to make it so the gap between 0 and 1 in the \"HOF\" data does not appear?"
   ]
  },
  {
   "cell_type": "code",
   "execution_count": null,
   "id": "42b65d95-fe1a-491f-9ac8-5a2c690a9a6b",
   "metadata": {},
   "outputs": [],
   "source": []
  },
  {
   "cell_type": "markdown",
   "id": "5f0fed40-7bc4-41b0-b009-9a6cd9d164ce",
   "metadata": {},
   "source": [
    "## Section 2: Dataset Analysis\n",
    "\n",
    "Now, let's start analyzing our dataset and see if we can draw some conclusions!  For the rest of this section, you will add your own cells (either Markdown or Code) to show your analysis code and discuss your results.\n",
    "\n",
    "**Write and discuss the steps to answering the following research question:** For the subsampled dataset, is having more hits than the mean number of hits more likely to achieve \"hall of fame\" status than random chance?\n",
    "\n",
    "You will be graded on the following criteria:\n",
    "- 25% statistical analysis is backed with reasoning and tests/scores\n",
    "- 50% Python code is correct, logical, readable, and not excessive\n",
    "- 25% clear writing and flow of the this section of the Jupyter notebook\n",
    "\n",
    "Make sure you write down the reasoning and method of creation for any additional columns you need to create."
   ]
  },
  {
   "cell_type": "code",
   "execution_count": null,
   "id": "ee34ee53-3531-4230-9b0f-cbd8d5e1cf7b",
   "metadata": {},
   "outputs": [],
   "source": []
  }
 ],
 "metadata": {
  "kernelspec": {
   "display_name": "Python 3 (ipykernel)",
   "language": "python",
   "name": "python3"
  },
  "language_info": {
   "codemirror_mode": {
    "name": "ipython",
    "version": 3
   },
   "file_extension": ".py",
   "mimetype": "text/x-python",
   "name": "python",
   "nbconvert_exporter": "python",
   "pygments_lexer": "ipython3",
   "version": "3.8.6"
  }
 },
 "nbformat": 4,
 "nbformat_minor": 5
}
