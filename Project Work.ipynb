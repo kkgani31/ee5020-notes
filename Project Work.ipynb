{
 "cells": [
  {
   "cell_type": "markdown",
   "id": "dea89813-4f36-4f7e-a778-2699b85e3994",
   "metadata": {},
   "source": [
    "Name: Ganesh Anirudh Kasa Kota\n"
   ]
  },
  {
   "cell_type": "markdown",
   "id": "ef121694-f3e9-4077-a17f-353bf8a35ebb",
   "metadata": {},
   "source": [
    "CIN: 401975311"
   ]
  },
  {
   "cell_type": "markdown",
   "id": "10209a73-29ba-440a-a30f-5815b6b162ca",
   "metadata": {},
   "source": [
    "Why Computer-gpu.csv Dataset?"
   ]
  },
  {
   "cell_type": "markdown",
   "id": "79e7b3d0-4daf-4078-8f92-da0b244ac016",
   "metadata": {},
   "source": [
    "I am interested in computer engineering because it combines electrical engineering with computer science. We learn about Computer Science and how programming can be integrated into the hardware and form embedded system solutions. We will also learn how transistors work together to formulate chips that are commonly used,  will also learn about data structures in your curriculum and how they make the programming world go round and you will also learn about Digital logic /Systems Design and understand how Verilog /VHDL works with hardware and how to program FPGA. The list goes on and on intl Signals and Systems, AI machine learning, and every branch you can think of in the realm of computing."
   ]
  },
  {
   "cell_type": "markdown",
   "id": "c73d73a6-102c-4b5d-80b1-c6372ffa9ab5",
   "metadata": {},
   "source": [
    "Computer engineers use many of the principles and techniques of electrical engineering and many of computer science. Computer engineering, however, is more than a blend of two other fields."
   ]
  },
  {
   "cell_type": "markdown",
   "id": "fba96c15-06c8-4c33-aaae-97a2bee62d46",
   "metadata": {},
   "source": [
    "Cybersecurity, Networking, Design automation, Machine intelligence, Computer software, Biomedical,Embedded System"
   ]
  },
  {
   "cell_type": "markdown",
   "id": "46de2e57-8039-4ef8-9dd4-38bbb4e0cff4",
   "metadata": {},
   "source": [
    "PROJECT- 1 "
   ]
  },
  {
   "cell_type": "code",
   "execution_count": 4,
   "id": "7743999a-d7d9-4e6d-bbf6-48903269da43",
   "metadata": {},
   "outputs": [],
   "source": [
    "import numpy as np\n",
    "import pandas as pd\n",
    "import matplotlib.pyplot as plt\n",
    "import seaborn as sns"
   ]
  },
  {
   "cell_type": "code",
   "execution_count": 29,
   "id": "23455795",
   "metadata": {},
   "outputs": [],
   "source": [
    "dataset = pd.read_csv('project_datasets/computer_gpu.csv')\n"
   ]
  },
  {
   "cell_type": "code",
   "execution_count": 6,
   "id": "24a3b984",
   "metadata": {},
   "outputs": [
    {
     "data": {
      "text/html": [
       "<div>\n",
       "<style scoped>\n",
       "    .dataframe tbody tr th:only-of-type {\n",
       "        vertical-align: middle;\n",
       "    }\n",
       "\n",
       "    .dataframe tbody tr th {\n",
       "        vertical-align: top;\n",
       "    }\n",
       "\n",
       "    .dataframe thead th {\n",
       "        text-align: right;\n",
       "    }\n",
       "</style>\n",
       "<table border=\"1\" class=\"dataframe\">\n",
       "  <thead>\n",
       "    <tr style=\"text-align: right;\">\n",
       "      <th></th>\n",
       "      <th>Workgrp_m</th>\n",
       "      <th>Workgrp_n</th>\n",
       "      <th>Workgrp_k</th>\n",
       "      <th>Local_m</th>\n",
       "      <th>Local_n</th>\n",
       "      <th>Mem_m</th>\n",
       "      <th>Mem_n</th>\n",
       "      <th>Kernel_unroll</th>\n",
       "      <th>VectorWidth_m</th>\n",
       "      <th>VectorWidth_n</th>\n",
       "      <th>Stride_m</th>\n",
       "      <th>Stride_n</th>\n",
       "      <th>Cache_A</th>\n",
       "      <th>Cache_B</th>\n",
       "      <th>Runtime</th>\n",
       "    </tr>\n",
       "  </thead>\n",
       "  <tbody>\n",
       "    <tr>\n",
       "      <th>0</th>\n",
       "      <td>16</td>\n",
       "      <td>16</td>\n",
       "      <td>16</td>\n",
       "      <td>8</td>\n",
       "      <td>8</td>\n",
       "      <td>8</td>\n",
       "      <td>8</td>\n",
       "      <td>2</td>\n",
       "      <td>1</td>\n",
       "      <td>1</td>\n",
       "      <td>0</td>\n",
       "      <td>0</td>\n",
       "      <td>0</td>\n",
       "      <td>0</td>\n",
       "      <td>116.3700</td>\n",
       "    </tr>\n",
       "    <tr>\n",
       "      <th>1</th>\n",
       "      <td>16</td>\n",
       "      <td>16</td>\n",
       "      <td>16</td>\n",
       "      <td>8</td>\n",
       "      <td>8</td>\n",
       "      <td>8</td>\n",
       "      <td>8</td>\n",
       "      <td>2</td>\n",
       "      <td>1</td>\n",
       "      <td>1</td>\n",
       "      <td>0</td>\n",
       "      <td>0</td>\n",
       "      <td>0</td>\n",
       "      <td>1</td>\n",
       "      <td>78.7050</td>\n",
       "    </tr>\n",
       "    <tr>\n",
       "      <th>2</th>\n",
       "      <td>16</td>\n",
       "      <td>16</td>\n",
       "      <td>16</td>\n",
       "      <td>8</td>\n",
       "      <td>8</td>\n",
       "      <td>8</td>\n",
       "      <td>8</td>\n",
       "      <td>2</td>\n",
       "      <td>1</td>\n",
       "      <td>1</td>\n",
       "      <td>0</td>\n",
       "      <td>0</td>\n",
       "      <td>1</td>\n",
       "      <td>0</td>\n",
       "      <td>80.5650</td>\n",
       "    </tr>\n",
       "    <tr>\n",
       "      <th>3</th>\n",
       "      <td>16</td>\n",
       "      <td>16</td>\n",
       "      <td>16</td>\n",
       "      <td>8</td>\n",
       "      <td>8</td>\n",
       "      <td>8</td>\n",
       "      <td>8</td>\n",
       "      <td>2</td>\n",
       "      <td>1</td>\n",
       "      <td>1</td>\n",
       "      <td>0</td>\n",
       "      <td>0</td>\n",
       "      <td>1</td>\n",
       "      <td>1</td>\n",
       "      <td>86.6375</td>\n",
       "    </tr>\n",
       "    <tr>\n",
       "      <th>4</th>\n",
       "      <td>16</td>\n",
       "      <td>16</td>\n",
       "      <td>16</td>\n",
       "      <td>8</td>\n",
       "      <td>8</td>\n",
       "      <td>8</td>\n",
       "      <td>8</td>\n",
       "      <td>2</td>\n",
       "      <td>1</td>\n",
       "      <td>1</td>\n",
       "      <td>0</td>\n",
       "      <td>1</td>\n",
       "      <td>0</td>\n",
       "      <td>0</td>\n",
       "      <td>118.6625</td>\n",
       "    </tr>\n",
       "  </tbody>\n",
       "</table>\n",
       "</div>"
      ],
      "text/plain": [
       "   Workgrp_m  Workgrp_n  Workgrp_k  Local_m  Local_n  Mem_m  Mem_n  \\\n",
       "0         16         16         16        8        8      8      8   \n",
       "1         16         16         16        8        8      8      8   \n",
       "2         16         16         16        8        8      8      8   \n",
       "3         16         16         16        8        8      8      8   \n",
       "4         16         16         16        8        8      8      8   \n",
       "\n",
       "   Kernel_unroll  VectorWidth_m  VectorWidth_n  Stride_m  Stride_n  Cache_A  \\\n",
       "0              2              1              1         0         0        0   \n",
       "1              2              1              1         0         0        0   \n",
       "2              2              1              1         0         0        1   \n",
       "3              2              1              1         0         0        1   \n",
       "4              2              1              1         0         1        0   \n",
       "\n",
       "   Cache_B   Runtime  \n",
       "0        0  116.3700  \n",
       "1        1   78.7050  \n",
       "2        0   80.5650  \n",
       "3        1   86.6375  \n",
       "4        0  118.6625  "
      ]
     },
     "execution_count": 6,
     "metadata": {},
     "output_type": "execute_result"
    }
   ],
   "source": [
    "dataset.head()"
   ]
  },
  {
   "cell_type": "markdown",
   "id": "53ba7cd4-de8f-4480-904e-8eba2ebd9726",
   "metadata": {},
   "source": [
    "The head() function is used to get the first n rows. It is useful for quickly testing if your object has the right type of data in it."
   ]
  },
  {
   "cell_type": "markdown",
   "id": "120f3ca2",
   "metadata": {},
   "source": [
    "## Computer engineering: GPU workload design\n",
    "\n",
    "### Dataset: project_datasets/computer_gpu.csv\n",
    "\n",
    "#### Dataset description: This is a dataset from running an OpenCL benchmark on an AMD GPU. This benchmark breaks up matrix math by resizing a very large matrix (or large number of matrices) into matrices that can fit in hardware memory and cache by using a third dimension. Columns:\n",
    "\n",
    "###### 1.Workgrp_m (Workgroup size (number of compute units) used for first dimension of matrices)\n",
    "###### 2.Workgrp_n (Workgroup size (number of compute units) used for second dimension of matrices)\n",
    "###### 3.Workgrp_k (Workgroup size (number of compute units) used for third dimension of matrices)\n",
    "###### 4.Local_m (Local workgroup size (number of kernels running on one compute unit) used for first dimension of matrices)\n",
    "###### 5.Local_n (Local workgroup size (number of kernels running on one compute unit) used for second dimension of matrices)\n",
    "###### 6.Mem_m (Local memory length used for first dimension of matrices)\n",
    "###### 7.Mem_n (Local memory length used for second dimension of matrices)\n",
    "###### 8.Kernel_unroll (Number of times loops are unrolled)\n",
    "###### 9.VectorWidth_m (Width of vector instruction used for first dimension of matrices)\n",
    "###### 10.VectorWidth_n (Width of vector instruction used for second dimension of matrices)\n",
    "###### 11.Stride_m (Use of off-chip memory for the first dimension of matrices)\n",
    "###### 12.Stride_n (Use of off-chip memory for the second dimension of matrices)\n",
    "###### 13.Cache_A (Use of caching scheme A)\n",
    "###### 14.Cache_B (Use of caching scheme B)\n",
    "###### 15.Runtime (target, runtime in ms)\n",
    "\n",
    "###### Problem: For this GPU, which features of the OpenCL benchmark seem to affect runtime the largest? Which statistical modeling technique works best to predict the runtime based on this data? If so, which features are the most important for your model?"
   ]
  },
  {
   "cell_type": "code",
   "execution_count": 7,
   "id": "8651b301",
   "metadata": {},
   "outputs": [
    {
     "data": {
      "text/html": [
       "<div>\n",
       "<style scoped>\n",
       "    .dataframe tbody tr th:only-of-type {\n",
       "        vertical-align: middle;\n",
       "    }\n",
       "\n",
       "    .dataframe tbody tr th {\n",
       "        vertical-align: top;\n",
       "    }\n",
       "\n",
       "    .dataframe thead th {\n",
       "        text-align: right;\n",
       "    }\n",
       "</style>\n",
       "<table border=\"1\" class=\"dataframe\">\n",
       "  <thead>\n",
       "    <tr style=\"text-align: right;\">\n",
       "      <th></th>\n",
       "      <th>Workgrp_m</th>\n",
       "      <th>Workgrp_n</th>\n",
       "      <th>Workgrp_k</th>\n",
       "      <th>Local_m</th>\n",
       "      <th>Local_n</th>\n",
       "      <th>Mem_m</th>\n",
       "      <th>Mem_n</th>\n",
       "      <th>Kernel_unroll</th>\n",
       "      <th>VectorWidth_m</th>\n",
       "      <th>VectorWidth_n</th>\n",
       "      <th>Stride_m</th>\n",
       "      <th>Stride_n</th>\n",
       "      <th>Cache_A</th>\n",
       "      <th>Cache_B</th>\n",
       "      <th>Runtime</th>\n",
       "    </tr>\n",
       "  </thead>\n",
       "  <tbody>\n",
       "    <tr>\n",
       "      <th>count</th>\n",
       "      <td>241600.000000</td>\n",
       "      <td>241600.000000</td>\n",
       "      <td>241600.000000</td>\n",
       "      <td>241600.000000</td>\n",
       "      <td>241600.000000</td>\n",
       "      <td>241600.000000</td>\n",
       "      <td>241600.000000</td>\n",
       "      <td>241600.000000</td>\n",
       "      <td>241600.000000</td>\n",
       "      <td>241600.000000</td>\n",
       "      <td>241600.000000</td>\n",
       "      <td>241600.000000</td>\n",
       "      <td>241600.000000</td>\n",
       "      <td>241600.000000</td>\n",
       "      <td>241600.000000</td>\n",
       "    </tr>\n",
       "    <tr>\n",
       "      <th>mean</th>\n",
       "      <td>80.415364</td>\n",
       "      <td>80.415364</td>\n",
       "      <td>25.513113</td>\n",
       "      <td>13.935894</td>\n",
       "      <td>13.935894</td>\n",
       "      <td>17.371126</td>\n",
       "      <td>17.371126</td>\n",
       "      <td>5.000000</td>\n",
       "      <td>2.448609</td>\n",
       "      <td>2.448609</td>\n",
       "      <td>0.500000</td>\n",
       "      <td>0.500000</td>\n",
       "      <td>0.500000</td>\n",
       "      <td>0.500000</td>\n",
       "      <td>217.571953</td>\n",
       "    </tr>\n",
       "    <tr>\n",
       "      <th>std</th>\n",
       "      <td>42.469220</td>\n",
       "      <td>42.469220</td>\n",
       "      <td>7.855619</td>\n",
       "      <td>7.873662</td>\n",
       "      <td>7.873662</td>\n",
       "      <td>9.389418</td>\n",
       "      <td>9.389418</td>\n",
       "      <td>3.000006</td>\n",
       "      <td>1.953759</td>\n",
       "      <td>1.953759</td>\n",
       "      <td>0.500001</td>\n",
       "      <td>0.500001</td>\n",
       "      <td>0.500001</td>\n",
       "      <td>0.500001</td>\n",
       "      <td>368.750161</td>\n",
       "    </tr>\n",
       "    <tr>\n",
       "      <th>min</th>\n",
       "      <td>16.000000</td>\n",
       "      <td>16.000000</td>\n",
       "      <td>16.000000</td>\n",
       "      <td>8.000000</td>\n",
       "      <td>8.000000</td>\n",
       "      <td>8.000000</td>\n",
       "      <td>8.000000</td>\n",
       "      <td>2.000000</td>\n",
       "      <td>1.000000</td>\n",
       "      <td>1.000000</td>\n",
       "      <td>0.000000</td>\n",
       "      <td>0.000000</td>\n",
       "      <td>0.000000</td>\n",
       "      <td>0.000000</td>\n",
       "      <td>13.317500</td>\n",
       "    </tr>\n",
       "    <tr>\n",
       "      <th>25%</th>\n",
       "      <td>32.000000</td>\n",
       "      <td>32.000000</td>\n",
       "      <td>16.000000</td>\n",
       "      <td>8.000000</td>\n",
       "      <td>8.000000</td>\n",
       "      <td>8.000000</td>\n",
       "      <td>8.000000</td>\n",
       "      <td>2.000000</td>\n",
       "      <td>1.000000</td>\n",
       "      <td>1.000000</td>\n",
       "      <td>0.000000</td>\n",
       "      <td>0.000000</td>\n",
       "      <td>0.000000</td>\n",
       "      <td>0.000000</td>\n",
       "      <td>40.667500</td>\n",
       "    </tr>\n",
       "    <tr>\n",
       "      <th>50%</th>\n",
       "      <td>64.000000</td>\n",
       "      <td>64.000000</td>\n",
       "      <td>32.000000</td>\n",
       "      <td>8.000000</td>\n",
       "      <td>8.000000</td>\n",
       "      <td>16.000000</td>\n",
       "      <td>16.000000</td>\n",
       "      <td>5.000000</td>\n",
       "      <td>2.000000</td>\n",
       "      <td>2.000000</td>\n",
       "      <td>0.500000</td>\n",
       "      <td>0.500000</td>\n",
       "      <td>0.500000</td>\n",
       "      <td>0.500000</td>\n",
       "      <td>69.790000</td>\n",
       "    </tr>\n",
       "    <tr>\n",
       "      <th>75%</th>\n",
       "      <td>128.000000</td>\n",
       "      <td>128.000000</td>\n",
       "      <td>32.000000</td>\n",
       "      <td>16.000000</td>\n",
       "      <td>16.000000</td>\n",
       "      <td>32.000000</td>\n",
       "      <td>32.000000</td>\n",
       "      <td>8.000000</td>\n",
       "      <td>4.000000</td>\n",
       "      <td>4.000000</td>\n",
       "      <td>1.000000</td>\n",
       "      <td>1.000000</td>\n",
       "      <td>1.000000</td>\n",
       "      <td>1.000000</td>\n",
       "      <td>228.387500</td>\n",
       "    </tr>\n",
       "    <tr>\n",
       "      <th>max</th>\n",
       "      <td>128.000000</td>\n",
       "      <td>128.000000</td>\n",
       "      <td>32.000000</td>\n",
       "      <td>32.000000</td>\n",
       "      <td>32.000000</td>\n",
       "      <td>32.000000</td>\n",
       "      <td>32.000000</td>\n",
       "      <td>8.000000</td>\n",
       "      <td>8.000000</td>\n",
       "      <td>8.000000</td>\n",
       "      <td>1.000000</td>\n",
       "      <td>1.000000</td>\n",
       "      <td>1.000000</td>\n",
       "      <td>1.000000</td>\n",
       "      <td>3341.507500</td>\n",
       "    </tr>\n",
       "  </tbody>\n",
       "</table>\n",
       "</div>"
      ],
      "text/plain": [
       "           Workgrp_m      Workgrp_n      Workgrp_k        Local_m  \\\n",
       "count  241600.000000  241600.000000  241600.000000  241600.000000   \n",
       "mean       80.415364      80.415364      25.513113      13.935894   \n",
       "std        42.469220      42.469220       7.855619       7.873662   \n",
       "min        16.000000      16.000000      16.000000       8.000000   \n",
       "25%        32.000000      32.000000      16.000000       8.000000   \n",
       "50%        64.000000      64.000000      32.000000       8.000000   \n",
       "75%       128.000000     128.000000      32.000000      16.000000   \n",
       "max       128.000000     128.000000      32.000000      32.000000   \n",
       "\n",
       "             Local_n          Mem_m          Mem_n  Kernel_unroll  \\\n",
       "count  241600.000000  241600.000000  241600.000000  241600.000000   \n",
       "mean       13.935894      17.371126      17.371126       5.000000   \n",
       "std         7.873662       9.389418       9.389418       3.000006   \n",
       "min         8.000000       8.000000       8.000000       2.000000   \n",
       "25%         8.000000       8.000000       8.000000       2.000000   \n",
       "50%         8.000000      16.000000      16.000000       5.000000   \n",
       "75%        16.000000      32.000000      32.000000       8.000000   \n",
       "max        32.000000      32.000000      32.000000       8.000000   \n",
       "\n",
       "       VectorWidth_m  VectorWidth_n       Stride_m       Stride_n  \\\n",
       "count  241600.000000  241600.000000  241600.000000  241600.000000   \n",
       "mean        2.448609       2.448609       0.500000       0.500000   \n",
       "std         1.953759       1.953759       0.500001       0.500001   \n",
       "min         1.000000       1.000000       0.000000       0.000000   \n",
       "25%         1.000000       1.000000       0.000000       0.000000   \n",
       "50%         2.000000       2.000000       0.500000       0.500000   \n",
       "75%         4.000000       4.000000       1.000000       1.000000   \n",
       "max         8.000000       8.000000       1.000000       1.000000   \n",
       "\n",
       "             Cache_A        Cache_B        Runtime  \n",
       "count  241600.000000  241600.000000  241600.000000  \n",
       "mean        0.500000       0.500000     217.571953  \n",
       "std         0.500001       0.500001     368.750161  \n",
       "min         0.000000       0.000000      13.317500  \n",
       "25%         0.000000       0.000000      40.667500  \n",
       "50%         0.500000       0.500000      69.790000  \n",
       "75%         1.000000       1.000000     228.387500  \n",
       "max         1.000000       1.000000    3341.507500  "
      ]
     },
     "execution_count": 7,
     "metadata": {},
     "output_type": "execute_result"
    }
   ],
   "source": [
    "dataset.describe()"
   ]
  },
  {
   "cell_type": "markdown",
   "id": "7f1fb551-c56e-4e88-9338-16411677a084",
   "metadata": {},
   "source": [
    "describe() The describe() method is used for calculating some statistical data like percentile, mean and std of the numerical values of the Series or DataFrame. It analyzes both numeric and object series and also the DataFrame column sets of mixed data types."
   ]
  },
  {
   "cell_type": "markdown",
   "id": "f8792966-e676-4f46-956b-c587942b3be9",
   "metadata": {},
   "source": [
    "The head() function is used to get the first n rows. It is useful for quickly testing if your object has the right type of data in it. So hence the Numbers of rows taken are 0 to 24"
   ]
  },
  {
   "cell_type": "code",
   "execution_count": 8,
   "id": "95fedef5",
   "metadata": {},
   "outputs": [
    {
     "data": {
      "text/html": [
       "<div>\n",
       "<style scoped>\n",
       "    .dataframe tbody tr th:only-of-type {\n",
       "        vertical-align: middle;\n",
       "    }\n",
       "\n",
       "    .dataframe tbody tr th {\n",
       "        vertical-align: top;\n",
       "    }\n",
       "\n",
       "    .dataframe thead th {\n",
       "        text-align: right;\n",
       "    }\n",
       "</style>\n",
       "<table border=\"1\" class=\"dataframe\">\n",
       "  <thead>\n",
       "    <tr style=\"text-align: right;\">\n",
       "      <th></th>\n",
       "      <th>Workgrp_m</th>\n",
       "      <th>Workgrp_n</th>\n",
       "      <th>Workgrp_k</th>\n",
       "      <th>Local_m</th>\n",
       "      <th>Local_n</th>\n",
       "      <th>Mem_m</th>\n",
       "      <th>Mem_n</th>\n",
       "      <th>Kernel_unroll</th>\n",
       "      <th>VectorWidth_m</th>\n",
       "      <th>VectorWidth_n</th>\n",
       "      <th>Stride_m</th>\n",
       "      <th>Stride_n</th>\n",
       "      <th>Cache_A</th>\n",
       "      <th>Cache_B</th>\n",
       "      <th>Runtime</th>\n",
       "    </tr>\n",
       "  </thead>\n",
       "  <tbody>\n",
       "    <tr>\n",
       "      <th>0</th>\n",
       "      <td>16</td>\n",
       "      <td>16</td>\n",
       "      <td>16</td>\n",
       "      <td>8</td>\n",
       "      <td>8</td>\n",
       "      <td>8</td>\n",
       "      <td>8</td>\n",
       "      <td>2</td>\n",
       "      <td>1</td>\n",
       "      <td>1</td>\n",
       "      <td>0</td>\n",
       "      <td>0</td>\n",
       "      <td>0</td>\n",
       "      <td>0</td>\n",
       "      <td>116.3700</td>\n",
       "    </tr>\n",
       "    <tr>\n",
       "      <th>1</th>\n",
       "      <td>16</td>\n",
       "      <td>16</td>\n",
       "      <td>16</td>\n",
       "      <td>8</td>\n",
       "      <td>8</td>\n",
       "      <td>8</td>\n",
       "      <td>8</td>\n",
       "      <td>2</td>\n",
       "      <td>1</td>\n",
       "      <td>1</td>\n",
       "      <td>0</td>\n",
       "      <td>0</td>\n",
       "      <td>0</td>\n",
       "      <td>1</td>\n",
       "      <td>78.7050</td>\n",
       "    </tr>\n",
       "    <tr>\n",
       "      <th>2</th>\n",
       "      <td>16</td>\n",
       "      <td>16</td>\n",
       "      <td>16</td>\n",
       "      <td>8</td>\n",
       "      <td>8</td>\n",
       "      <td>8</td>\n",
       "      <td>8</td>\n",
       "      <td>2</td>\n",
       "      <td>1</td>\n",
       "      <td>1</td>\n",
       "      <td>0</td>\n",
       "      <td>0</td>\n",
       "      <td>1</td>\n",
       "      <td>0</td>\n",
       "      <td>80.5650</td>\n",
       "    </tr>\n",
       "    <tr>\n",
       "      <th>3</th>\n",
       "      <td>16</td>\n",
       "      <td>16</td>\n",
       "      <td>16</td>\n",
       "      <td>8</td>\n",
       "      <td>8</td>\n",
       "      <td>8</td>\n",
       "      <td>8</td>\n",
       "      <td>2</td>\n",
       "      <td>1</td>\n",
       "      <td>1</td>\n",
       "      <td>0</td>\n",
       "      <td>0</td>\n",
       "      <td>1</td>\n",
       "      <td>1</td>\n",
       "      <td>86.6375</td>\n",
       "    </tr>\n",
       "    <tr>\n",
       "      <th>4</th>\n",
       "      <td>16</td>\n",
       "      <td>16</td>\n",
       "      <td>16</td>\n",
       "      <td>8</td>\n",
       "      <td>8</td>\n",
       "      <td>8</td>\n",
       "      <td>8</td>\n",
       "      <td>2</td>\n",
       "      <td>1</td>\n",
       "      <td>1</td>\n",
       "      <td>0</td>\n",
       "      <td>1</td>\n",
       "      <td>0</td>\n",
       "      <td>0</td>\n",
       "      <td>118.6625</td>\n",
       "    </tr>\n",
       "    <tr>\n",
       "      <th>5</th>\n",
       "      <td>16</td>\n",
       "      <td>16</td>\n",
       "      <td>16</td>\n",
       "      <td>8</td>\n",
       "      <td>8</td>\n",
       "      <td>8</td>\n",
       "      <td>8</td>\n",
       "      <td>2</td>\n",
       "      <td>1</td>\n",
       "      <td>1</td>\n",
       "      <td>0</td>\n",
       "      <td>1</td>\n",
       "      <td>0</td>\n",
       "      <td>1</td>\n",
       "      <td>83.1650</td>\n",
       "    </tr>\n",
       "    <tr>\n",
       "      <th>6</th>\n",
       "      <td>16</td>\n",
       "      <td>16</td>\n",
       "      <td>16</td>\n",
       "      <td>8</td>\n",
       "      <td>8</td>\n",
       "      <td>8</td>\n",
       "      <td>8</td>\n",
       "      <td>2</td>\n",
       "      <td>1</td>\n",
       "      <td>1</td>\n",
       "      <td>0</td>\n",
       "      <td>1</td>\n",
       "      <td>1</td>\n",
       "      <td>0</td>\n",
       "      <td>84.4350</td>\n",
       "    </tr>\n",
       "    <tr>\n",
       "      <th>7</th>\n",
       "      <td>16</td>\n",
       "      <td>16</td>\n",
       "      <td>16</td>\n",
       "      <td>8</td>\n",
       "      <td>8</td>\n",
       "      <td>8</td>\n",
       "      <td>8</td>\n",
       "      <td>2</td>\n",
       "      <td>1</td>\n",
       "      <td>1</td>\n",
       "      <td>0</td>\n",
       "      <td>1</td>\n",
       "      <td>1</td>\n",
       "      <td>1</td>\n",
       "      <td>94.5125</td>\n",
       "    </tr>\n",
       "    <tr>\n",
       "      <th>8</th>\n",
       "      <td>16</td>\n",
       "      <td>16</td>\n",
       "      <td>16</td>\n",
       "      <td>8</td>\n",
       "      <td>8</td>\n",
       "      <td>8</td>\n",
       "      <td>8</td>\n",
       "      <td>2</td>\n",
       "      <td>1</td>\n",
       "      <td>1</td>\n",
       "      <td>1</td>\n",
       "      <td>0</td>\n",
       "      <td>0</td>\n",
       "      <td>0</td>\n",
       "      <td>119.0775</td>\n",
       "    </tr>\n",
       "    <tr>\n",
       "      <th>9</th>\n",
       "      <td>16</td>\n",
       "      <td>16</td>\n",
       "      <td>16</td>\n",
       "      <td>8</td>\n",
       "      <td>8</td>\n",
       "      <td>8</td>\n",
       "      <td>8</td>\n",
       "      <td>2</td>\n",
       "      <td>1</td>\n",
       "      <td>1</td>\n",
       "      <td>1</td>\n",
       "      <td>0</td>\n",
       "      <td>0</td>\n",
       "      <td>1</td>\n",
       "      <td>86.3025</td>\n",
       "    </tr>\n",
       "    <tr>\n",
       "      <th>10</th>\n",
       "      <td>16</td>\n",
       "      <td>16</td>\n",
       "      <td>16</td>\n",
       "      <td>8</td>\n",
       "      <td>8</td>\n",
       "      <td>8</td>\n",
       "      <td>8</td>\n",
       "      <td>2</td>\n",
       "      <td>1</td>\n",
       "      <td>1</td>\n",
       "      <td>1</td>\n",
       "      <td>0</td>\n",
       "      <td>1</td>\n",
       "      <td>0</td>\n",
       "      <td>83.9400</td>\n",
       "    </tr>\n",
       "    <tr>\n",
       "      <th>11</th>\n",
       "      <td>16</td>\n",
       "      <td>16</td>\n",
       "      <td>16</td>\n",
       "      <td>8</td>\n",
       "      <td>8</td>\n",
       "      <td>8</td>\n",
       "      <td>8</td>\n",
       "      <td>2</td>\n",
       "      <td>1</td>\n",
       "      <td>1</td>\n",
       "      <td>1</td>\n",
       "      <td>0</td>\n",
       "      <td>1</td>\n",
       "      <td>1</td>\n",
       "      <td>86.8425</td>\n",
       "    </tr>\n",
       "    <tr>\n",
       "      <th>12</th>\n",
       "      <td>16</td>\n",
       "      <td>16</td>\n",
       "      <td>16</td>\n",
       "      <td>8</td>\n",
       "      <td>8</td>\n",
       "      <td>8</td>\n",
       "      <td>8</td>\n",
       "      <td>2</td>\n",
       "      <td>1</td>\n",
       "      <td>1</td>\n",
       "      <td>1</td>\n",
       "      <td>1</td>\n",
       "      <td>0</td>\n",
       "      <td>0</td>\n",
       "      <td>118.2750</td>\n",
       "    </tr>\n",
       "    <tr>\n",
       "      <th>13</th>\n",
       "      <td>16</td>\n",
       "      <td>16</td>\n",
       "      <td>16</td>\n",
       "      <td>8</td>\n",
       "      <td>8</td>\n",
       "      <td>8</td>\n",
       "      <td>8</td>\n",
       "      <td>2</td>\n",
       "      <td>1</td>\n",
       "      <td>1</td>\n",
       "      <td>1</td>\n",
       "      <td>1</td>\n",
       "      <td>0</td>\n",
       "      <td>1</td>\n",
       "      <td>92.3800</td>\n",
       "    </tr>\n",
       "    <tr>\n",
       "      <th>14</th>\n",
       "      <td>16</td>\n",
       "      <td>16</td>\n",
       "      <td>16</td>\n",
       "      <td>8</td>\n",
       "      <td>8</td>\n",
       "      <td>8</td>\n",
       "      <td>8</td>\n",
       "      <td>2</td>\n",
       "      <td>1</td>\n",
       "      <td>1</td>\n",
       "      <td>1</td>\n",
       "      <td>1</td>\n",
       "      <td>1</td>\n",
       "      <td>0</td>\n",
       "      <td>86.1675</td>\n",
       "    </tr>\n",
       "    <tr>\n",
       "      <th>15</th>\n",
       "      <td>16</td>\n",
       "      <td>16</td>\n",
       "      <td>16</td>\n",
       "      <td>8</td>\n",
       "      <td>8</td>\n",
       "      <td>8</td>\n",
       "      <td>8</td>\n",
       "      <td>2</td>\n",
       "      <td>1</td>\n",
       "      <td>1</td>\n",
       "      <td>1</td>\n",
       "      <td>1</td>\n",
       "      <td>1</td>\n",
       "      <td>1</td>\n",
       "      <td>105.9950</td>\n",
       "    </tr>\n",
       "    <tr>\n",
       "      <th>16</th>\n",
       "      <td>16</td>\n",
       "      <td>16</td>\n",
       "      <td>16</td>\n",
       "      <td>8</td>\n",
       "      <td>8</td>\n",
       "      <td>8</td>\n",
       "      <td>8</td>\n",
       "      <td>2</td>\n",
       "      <td>1</td>\n",
       "      <td>2</td>\n",
       "      <td>0</td>\n",
       "      <td>0</td>\n",
       "      <td>0</td>\n",
       "      <td>0</td>\n",
       "      <td>77.3050</td>\n",
       "    </tr>\n",
       "    <tr>\n",
       "      <th>17</th>\n",
       "      <td>16</td>\n",
       "      <td>16</td>\n",
       "      <td>16</td>\n",
       "      <td>8</td>\n",
       "      <td>8</td>\n",
       "      <td>8</td>\n",
       "      <td>8</td>\n",
       "      <td>2</td>\n",
       "      <td>1</td>\n",
       "      <td>2</td>\n",
       "      <td>0</td>\n",
       "      <td>0</td>\n",
       "      <td>0</td>\n",
       "      <td>1</td>\n",
       "      <td>65.1175</td>\n",
       "    </tr>\n",
       "    <tr>\n",
       "      <th>18</th>\n",
       "      <td>16</td>\n",
       "      <td>16</td>\n",
       "      <td>16</td>\n",
       "      <td>8</td>\n",
       "      <td>8</td>\n",
       "      <td>8</td>\n",
       "      <td>8</td>\n",
       "      <td>2</td>\n",
       "      <td>1</td>\n",
       "      <td>2</td>\n",
       "      <td>0</td>\n",
       "      <td>0</td>\n",
       "      <td>1</td>\n",
       "      <td>0</td>\n",
       "      <td>72.0700</td>\n",
       "    </tr>\n",
       "    <tr>\n",
       "      <th>19</th>\n",
       "      <td>16</td>\n",
       "      <td>16</td>\n",
       "      <td>16</td>\n",
       "      <td>8</td>\n",
       "      <td>8</td>\n",
       "      <td>8</td>\n",
       "      <td>8</td>\n",
       "      <td>2</td>\n",
       "      <td>1</td>\n",
       "      <td>2</td>\n",
       "      <td>0</td>\n",
       "      <td>0</td>\n",
       "      <td>1</td>\n",
       "      <td>1</td>\n",
       "      <td>63.8900</td>\n",
       "    </tr>\n",
       "    <tr>\n",
       "      <th>20</th>\n",
       "      <td>16</td>\n",
       "      <td>16</td>\n",
       "      <td>16</td>\n",
       "      <td>8</td>\n",
       "      <td>8</td>\n",
       "      <td>8</td>\n",
       "      <td>8</td>\n",
       "      <td>2</td>\n",
       "      <td>1</td>\n",
       "      <td>2</td>\n",
       "      <td>0</td>\n",
       "      <td>1</td>\n",
       "      <td>0</td>\n",
       "      <td>0</td>\n",
       "      <td>77.2775</td>\n",
       "    </tr>\n",
       "    <tr>\n",
       "      <th>21</th>\n",
       "      <td>16</td>\n",
       "      <td>16</td>\n",
       "      <td>16</td>\n",
       "      <td>8</td>\n",
       "      <td>8</td>\n",
       "      <td>8</td>\n",
       "      <td>8</td>\n",
       "      <td>2</td>\n",
       "      <td>1</td>\n",
       "      <td>2</td>\n",
       "      <td>0</td>\n",
       "      <td>1</td>\n",
       "      <td>0</td>\n",
       "      <td>1</td>\n",
       "      <td>65.4325</td>\n",
       "    </tr>\n",
       "    <tr>\n",
       "      <th>22</th>\n",
       "      <td>16</td>\n",
       "      <td>16</td>\n",
       "      <td>16</td>\n",
       "      <td>8</td>\n",
       "      <td>8</td>\n",
       "      <td>8</td>\n",
       "      <td>8</td>\n",
       "      <td>2</td>\n",
       "      <td>1</td>\n",
       "      <td>2</td>\n",
       "      <td>0</td>\n",
       "      <td>1</td>\n",
       "      <td>1</td>\n",
       "      <td>0</td>\n",
       "      <td>70.5350</td>\n",
       "    </tr>\n",
       "    <tr>\n",
       "      <th>23</th>\n",
       "      <td>16</td>\n",
       "      <td>16</td>\n",
       "      <td>16</td>\n",
       "      <td>8</td>\n",
       "      <td>8</td>\n",
       "      <td>8</td>\n",
       "      <td>8</td>\n",
       "      <td>2</td>\n",
       "      <td>1</td>\n",
       "      <td>2</td>\n",
       "      <td>0</td>\n",
       "      <td>1</td>\n",
       "      <td>1</td>\n",
       "      <td>1</td>\n",
       "      <td>63.1825</td>\n",
       "    </tr>\n",
       "    <tr>\n",
       "      <th>24</th>\n",
       "      <td>16</td>\n",
       "      <td>16</td>\n",
       "      <td>16</td>\n",
       "      <td>8</td>\n",
       "      <td>8</td>\n",
       "      <td>8</td>\n",
       "      <td>8</td>\n",
       "      <td>2</td>\n",
       "      <td>1</td>\n",
       "      <td>2</td>\n",
       "      <td>1</td>\n",
       "      <td>0</td>\n",
       "      <td>0</td>\n",
       "      <td>0</td>\n",
       "      <td>79.1900</td>\n",
       "    </tr>\n",
       "  </tbody>\n",
       "</table>\n",
       "</div>"
      ],
      "text/plain": [
       "    Workgrp_m  Workgrp_n  Workgrp_k  Local_m  Local_n  Mem_m  Mem_n  \\\n",
       "0          16         16         16        8        8      8      8   \n",
       "1          16         16         16        8        8      8      8   \n",
       "2          16         16         16        8        8      8      8   \n",
       "3          16         16         16        8        8      8      8   \n",
       "4          16         16         16        8        8      8      8   \n",
       "5          16         16         16        8        8      8      8   \n",
       "6          16         16         16        8        8      8      8   \n",
       "7          16         16         16        8        8      8      8   \n",
       "8          16         16         16        8        8      8      8   \n",
       "9          16         16         16        8        8      8      8   \n",
       "10         16         16         16        8        8      8      8   \n",
       "11         16         16         16        8        8      8      8   \n",
       "12         16         16         16        8        8      8      8   \n",
       "13         16         16         16        8        8      8      8   \n",
       "14         16         16         16        8        8      8      8   \n",
       "15         16         16         16        8        8      8      8   \n",
       "16         16         16         16        8        8      8      8   \n",
       "17         16         16         16        8        8      8      8   \n",
       "18         16         16         16        8        8      8      8   \n",
       "19         16         16         16        8        8      8      8   \n",
       "20         16         16         16        8        8      8      8   \n",
       "21         16         16         16        8        8      8      8   \n",
       "22         16         16         16        8        8      8      8   \n",
       "23         16         16         16        8        8      8      8   \n",
       "24         16         16         16        8        8      8      8   \n",
       "\n",
       "    Kernel_unroll  VectorWidth_m  VectorWidth_n  Stride_m  Stride_n  Cache_A  \\\n",
       "0               2              1              1         0         0        0   \n",
       "1               2              1              1         0         0        0   \n",
       "2               2              1              1         0         0        1   \n",
       "3               2              1              1         0         0        1   \n",
       "4               2              1              1         0         1        0   \n",
       "5               2              1              1         0         1        0   \n",
       "6               2              1              1         0         1        1   \n",
       "7               2              1              1         0         1        1   \n",
       "8               2              1              1         1         0        0   \n",
       "9               2              1              1         1         0        0   \n",
       "10              2              1              1         1         0        1   \n",
       "11              2              1              1         1         0        1   \n",
       "12              2              1              1         1         1        0   \n",
       "13              2              1              1         1         1        0   \n",
       "14              2              1              1         1         1        1   \n",
       "15              2              1              1         1         1        1   \n",
       "16              2              1              2         0         0        0   \n",
       "17              2              1              2         0         0        0   \n",
       "18              2              1              2         0         0        1   \n",
       "19              2              1              2         0         0        1   \n",
       "20              2              1              2         0         1        0   \n",
       "21              2              1              2         0         1        0   \n",
       "22              2              1              2         0         1        1   \n",
       "23              2              1              2         0         1        1   \n",
       "24              2              1              2         1         0        0   \n",
       "\n",
       "    Cache_B   Runtime  \n",
       "0         0  116.3700  \n",
       "1         1   78.7050  \n",
       "2         0   80.5650  \n",
       "3         1   86.6375  \n",
       "4         0  118.6625  \n",
       "5         1   83.1650  \n",
       "6         0   84.4350  \n",
       "7         1   94.5125  \n",
       "8         0  119.0775  \n",
       "9         1   86.3025  \n",
       "10        0   83.9400  \n",
       "11        1   86.8425  \n",
       "12        0  118.2750  \n",
       "13        1   92.3800  \n",
       "14        0   86.1675  \n",
       "15        1  105.9950  \n",
       "16        0   77.3050  \n",
       "17        1   65.1175  \n",
       "18        0   72.0700  \n",
       "19        1   63.8900  \n",
       "20        0   77.2775  \n",
       "21        1   65.4325  \n",
       "22        0   70.5350  \n",
       "23        1   63.1825  \n",
       "24        0   79.1900  "
      ]
     },
     "execution_count": 8,
     "metadata": {},
     "output_type": "execute_result"
    }
   ],
   "source": [
    "dataset.head(25)"
   ]
  },
  {
   "cell_type": "markdown",
   "id": "95835ecd",
   "metadata": {},
   "source": [
    "Here we would try to find the relation between \"Runtime\" column and other columns one by one."
   ]
  },
  {
   "cell_type": "markdown",
   "id": "03ba0125-20a8-4bd9-9212-d7de55c3b35a",
   "metadata": {},
   "source": [
    "The correlation function DataFrame.corr() calculates the pairwise correlation of the columns in the dataframe and outputs a correlation matrix."
   ]
  },
  {
   "cell_type": "code",
   "execution_count": 9,
   "id": "39847515",
   "metadata": {},
   "outputs": [
    {
     "name": "stdout",
     "output_type": "stream",
     "text": [
      "No Pattern\n"
     ]
    }
   ],
   "source": [
    "if dataset.corr()['Workgrp_m']['Runtime'] < 0:\n",
    "  print (\"Inverse Relation\")\n",
    "else:\n",
    "  print (\"No Pattern\")"
   ]
  },
  {
   "cell_type": "code",
   "execution_count": 10,
   "id": "bf8a65af",
   "metadata": {},
   "outputs": [
    {
     "name": "stdout",
     "output_type": "stream",
     "text": [
      "No Pattern\n"
     ]
    }
   ],
   "source": [
    "if dataset.corr()['Workgrp_n']['Runtime'] < 0:\n",
    "  print (\"Inverse Relation\")\n",
    "else:\n",
    "  print (\"No Pattern\")"
   ]
  },
  {
   "cell_type": "code",
   "execution_count": 11,
   "id": "b0825851",
   "metadata": {},
   "outputs": [
    {
     "name": "stdout",
     "output_type": "stream",
     "text": [
      "No Pattern\n"
     ]
    }
   ],
   "source": [
    "if dataset.corr()['Workgrp_k']['Runtime'] < 0:\n",
    "  print (\"Inverse Relation\")\n",
    "else:\n",
    "  print (\"No Pattern\")"
   ]
  },
  {
   "cell_type": "code",
   "execution_count": 12,
   "id": "768757b2",
   "metadata": {},
   "outputs": [
    {
     "name": "stdout",
     "output_type": "stream",
     "text": [
      "Inverse Relation\n"
     ]
    }
   ],
   "source": [
    "if dataset.corr()['Local_m']['Runtime'] < 0:\n",
    "  print (\"Inverse Relation\")\n",
    "else:\n",
    "  print (\"No Pattern\")"
   ]
  },
  {
   "cell_type": "code",
   "execution_count": 13,
   "id": "c8b39da6",
   "metadata": {},
   "outputs": [
    {
     "name": "stdout",
     "output_type": "stream",
     "text": [
      "Inverse Relation\n"
     ]
    }
   ],
   "source": [
    "if dataset.corr()['Local_n']['Runtime'] < 0:\n",
    "  print (\"Inverse Relation\")\n",
    "else:\n",
    "  print (\"No Pattern\")"
   ]
  },
  {
   "cell_type": "code",
   "execution_count": 14,
   "id": "6d059a28",
   "metadata": {},
   "outputs": [
    {
     "name": "stdout",
     "output_type": "stream",
     "text": [
      "Inverse Relation\n"
     ]
    }
   ],
   "source": [
    "if dataset.corr()['Mem_m']['Runtime'] < 0:\n",
    "  print (\"Inverse Relation\")\n",
    "else:\n",
    "  print (\"No Pattern\")"
   ]
  },
  {
   "cell_type": "code",
   "execution_count": 15,
   "id": "ab1c8d57",
   "metadata": {},
   "outputs": [
    {
     "name": "stdout",
     "output_type": "stream",
     "text": [
      "Inverse Relation\n"
     ]
    }
   ],
   "source": [
    "if dataset.corr()['Mem_n']['Runtime'] < 0:\n",
    "  print (\"Inverse Relation\")\n",
    "else:\n",
    "  print (\"No Pattern\")"
   ]
  },
  {
   "cell_type": "code",
   "execution_count": 16,
   "id": "0907ea12",
   "metadata": {},
   "outputs": [
    {
     "name": "stdout",
     "output_type": "stream",
     "text": [
      "No Pattern\n"
     ]
    }
   ],
   "source": [
    "if dataset.corr()['Kernel_unroll']['Runtime'] < 0:\n",
    "  print (\"Inverse Relation\")\n",
    "else:\n",
    "  print (\"No Pattern\")"
   ]
  },
  {
   "cell_type": "code",
   "execution_count": 17,
   "id": "b51d51bb",
   "metadata": {},
   "outputs": [
    {
     "name": "stdout",
     "output_type": "stream",
     "text": [
      "No Pattern\n"
     ]
    }
   ],
   "source": [
    "if dataset.corr()['VectorWidth_m']['Runtime'] < 0:\n",
    "  print (\"Inverse Relation\")\n",
    "else:\n",
    "  print (\"No Pattern\")"
   ]
  },
  {
   "cell_type": "code",
   "execution_count": 18,
   "id": "2a755855",
   "metadata": {},
   "outputs": [
    {
     "name": "stdout",
     "output_type": "stream",
     "text": [
      "No Pattern\n"
     ]
    }
   ],
   "source": [
    "if dataset.corr()['VectorWidth_n']['Runtime'] < 0:\n",
    "  print (\"Inverse Relation\")\n",
    "else:\n",
    "  print (\"No Pattern\")"
   ]
  },
  {
   "cell_type": "code",
   "execution_count": 19,
   "id": "b2a08345",
   "metadata": {},
   "outputs": [
    {
     "name": "stdout",
     "output_type": "stream",
     "text": [
      "Inverse Relation\n"
     ]
    }
   ],
   "source": [
    "if dataset.corr()['Stride_m']['Runtime'] < 0:\n",
    "  print (\"Inverse Relation\")\n",
    "else:\n",
    "  print (\"No Pattern\")"
   ]
  },
  {
   "cell_type": "code",
   "execution_count": 20,
   "id": "9393619e",
   "metadata": {},
   "outputs": [
    {
     "name": "stdout",
     "output_type": "stream",
     "text": [
      "Inverse Relation\n"
     ]
    }
   ],
   "source": [
    "if dataset.corr()['Stride_n']['Runtime'] < 0:\n",
    "  print (\"Inverse Relation\")\n",
    "else:\n",
    "  print (\"No Pattern\")"
   ]
  },
  {
   "cell_type": "code",
   "execution_count": 21,
   "id": "5c4baa44",
   "metadata": {},
   "outputs": [
    {
     "name": "stdout",
     "output_type": "stream",
     "text": [
      "No Pattern\n"
     ]
    }
   ],
   "source": [
    "if dataset.corr()['Cache_A']['Runtime'] < 0:\n",
    "  print (\"Inverse Relation\")\n",
    "else:\n",
    "  print (\"No Pattern\")"
   ]
  },
  {
   "cell_type": "code",
   "execution_count": 22,
   "id": "229d5103",
   "metadata": {},
   "outputs": [
    {
     "name": "stdout",
     "output_type": "stream",
     "text": [
      "No Pattern\n"
     ]
    }
   ],
   "source": [
    "if dataset.corr()['Cache_B']['Runtime'] < 0:\n",
    "  print (\"Inverse Relation\")\n",
    "else:\n",
    "  print (\"No Pattern\")"
   ]
  },
  {
   "cell_type": "markdown",
   "id": "a5f65ecb",
   "metadata": {},
   "source": [
    "So we came to know that the following have Inverse type relation with Runtime column and others have direct.\n",
    "Local_m , Local_n , Mem_m , Mem_n , Stride_m , Stride_n have effect on Runtime."
   ]
  },
  {
   "cell_type": "code",
   "execution_count": 23,
   "id": "c1421cfc",
   "metadata": {},
   "outputs": [],
   "source": [
    "from sklearn.linear_model import LinearRegression"
   ]
  },
  {
   "cell_type": "markdown",
   "id": "cb1c40e2",
   "metadata": {},
   "source": [
    "We would now use the regression to predict the value of \"Runtime\""
   ]
  },
  {
   "cell_type": "markdown",
   "id": "c006e80f-5fbe-4130-980c-4da8d4d04de0",
   "metadata": {},
   "source": [
    "What is Regression ?"
   ]
  },
  {
   "cell_type": "markdown",
   "id": "139cfebd-4723-4a75-b537-1ddfde55d62b",
   "metadata": {},
   "source": [
    "Linear regression performs the task to predict a dependent variable value (Y) based on a given independent variable (X). So, this regression technique finds out a linear relationship between X(input) and Y(output). Hence, the name is Linear Regression."
   ]
  },
  {
   "cell_type": "code",
   "execution_count": 24,
   "id": "91b9ca01",
   "metadata": {},
   "outputs": [],
   "source": [
    "dataset.dropna(how='all',inplace=True)"
   ]
  },
  {
   "cell_type": "markdown",
   "id": "188918ad",
   "metadata": {},
   "source": [
    "We know that All columns other than \"Runtime\" are elements which constitutes the Runtime , so on the basis of which we are now going to train all model againt \"Runtime\"."
   ]
  },
  {
   "cell_type": "code",
   "execution_count": 25,
   "id": "797d4d61",
   "metadata": {},
   "outputs": [],
   "source": [
    "X = np.array([[dataset[\"Workgrp_m\"],dataset['Workgrp_n'],dataset['Workgrp_k'],dataset[\"Local_m\"],dataset[\"Local_n\"],dataset[\"Mem_m\"],dataset[\"Mem_n\"],dataset['Kernel_unroll'],dataset['VectorWidth_m'],dataset['VectorWidth_n'],dataset[\"Stride_m\"]\n",
    "    ,dataset[\"Stride_n\"],dataset['Cache_A'],dataset['Cache_B']]])"
   ]
  },
  {
   "cell_type": "code",
   "execution_count": 26,
   "id": "25cabba9",
   "metadata": {},
   "outputs": [],
   "source": [
    "Y = np.array(dataset[\"Runtime\"].values.tolist())"
   ]
  },
  {
   "cell_type": "markdown",
   "id": "7e6e198e-4373-4db3-b042-e8a4110e374a",
   "metadata": {},
   "source": [
    "For Mapping Y to X we need to have Mappable Shape, For this we reshape X."
   ]
  },
  {
   "cell_type": "code",
   "execution_count": 39,
   "id": "c1e759aa",
   "metadata": {},
   "outputs": [
    {
     "data": {
      "text/plain": [
       "(1, 14, 241600)"
      ]
     },
     "execution_count": 39,
     "metadata": {},
     "output_type": "execute_result"
    }
   ],
   "source": [
    "X.shape"
   ]
  },
  {
   "cell_type": "markdown",
   "id": "0a6dc9a1-280c-4584-ac0e-85dce4f62f43",
   "metadata": {},
   "source": [
    "For the value X.shape. The shape property is usually used to get the current shape of an array, but may also be used to reshape the array in-place by assigning a tuple of array dimensions to it. As with numpy.reshape, one of the new shape dimensions can be -1, in which case its value is inferred from the size of the array and the remaining dimensions. Reshaping an array in-place will fail if a copy is required."
   ]
  },
  {
   "cell_type": "code",
   "execution_count": 40,
   "id": "e84531cc",
   "metadata": {},
   "outputs": [
    {
     "data": {
      "text/plain": [
       "(241600,)"
      ]
     },
     "execution_count": 40,
     "metadata": {},
     "output_type": "execute_result"
    }
   ],
   "source": [
    "Y.shape"
   ]
  },
  {
   "cell_type": "markdown",
   "id": "dd79e28a-4571-4603-9831-f4e2af8e1d0f",
   "metadata": {},
   "source": [
    "Similarly for value Y.shape.The shape property is usually used to get the current shape of an array, but may also be used to reshape the array in-place by assigning a tuple of array dimensions to it. As with numpy.reshape, one of the new shape dimensions can be -1, in which case its value is inferred from the size of the array and the remaining dimensions. Reshaping an array in-place will fail if a copy is required."
   ]
  },
  {
   "cell_type": "code",
   "execution_count": 41,
   "id": "2e5bf427",
   "metadata": {},
   "outputs": [],
   "source": [
    "X = X.reshape(X.shape[1:])"
   ]
  },
  {
   "cell_type": "code",
   "execution_count": 42,
   "id": "bc046ad4",
   "metadata": {},
   "outputs": [],
   "source": [
    "X = X.transpose()"
   ]
  },
  {
   "cell_type": "markdown",
   "id": "2e827ef6-c25f-4be2-afd6-7ac8dd85a7c3",
   "metadata": {},
   "source": [
    "Reverse or permute the axes of an array; returns the modified array.\n",
    "For an array a with two axes, transpose(x) gives the matrix transpos"
   ]
  },
  {
   "cell_type": "code",
   "execution_count": 43,
   "id": "54b0219c",
   "metadata": {},
   "outputs": [
    {
     "data": {
      "text/plain": [
       "(241600, 14)"
      ]
     },
     "execution_count": 43,
     "metadata": {},
     "output_type": "execute_result"
    }
   ],
   "source": [
    "X.shape"
   ]
  },
  {
   "cell_type": "code",
   "execution_count": 44,
   "id": "4e3f7999",
   "metadata": {},
   "outputs": [],
   "source": [
    "reg = LinearRegression().fit(X, Y)"
   ]
  },
  {
   "cell_type": "markdown",
   "id": "a41e614e-69c1-443d-b2f5-0173eac9e508",
   "metadata": {},
   "source": [
    "LinearRegression fits a linear model with coefficients X = (X1, …, Xp), Y= (Y1,....,Yp) to minimize the residual sum of squares between the observed targets in the dataset, and the targets predicted by the linear approximation. Whether to calculate the intercept for this model."
   ]
  },
  {
   "cell_type": "code",
   "execution_count": 45,
   "id": "ac74ef6f",
   "metadata": {},
   "outputs": [
    {
     "data": {
      "text/plain": [
       "0.40746998040814764"
      ]
     },
     "execution_count": 45,
     "metadata": {},
     "output_type": "execute_result"
    }
   ],
   "source": [
    "reg.score(X, Y)"
   ]
  },
  {
   "cell_type": "markdown",
   "id": "a8b4d074-627f-4b52-8806-3b8783f080f0",
   "metadata": {},
   "source": [
    "Linear Regression Scoring: This type of scoring is performed by implementing linear regression algorithm on the random sample of data."
   ]
  },
  {
   "cell_type": "markdown",
   "id": "c8121ed2",
   "metadata": {},
   "source": [
    "The prediction of Runtime."
   ]
  },
  {
   "cell_type": "code",
   "execution_count": 46,
   "id": "cd1ae8fe",
   "metadata": {},
   "outputs": [
    {
     "data": {
      "text/plain": [
       "array([-63.96933771])"
      ]
     },
     "execution_count": 46,
     "metadata": {},
     "output_type": "execute_result"
    }
   ],
   "source": [
    "reg.predict(np.array([16,16,16,8,8,8,8,2,1,1,0,0,0,1]).reshape(1,-1))\n"
   ]
  },
  {
   "cell_type": "markdown",
   "id": "b005222f-5eae-48fb-ac55-bb3836aedcf5",
   "metadata": {},
   "source": [
    "In this project, \n",
    "The given problem was to identify the benchmark factors which had greater impact on gpu runtime. For this one by one took its one feature and correlated it with runtime.corr() function of python. We came to know that Local_m,Local_n,Mem_m,Mem_n and Stride_m, Stride_n has relation that if they increase then Runtime is likely to be decreasing. So they are factors which effect runtime most. And in last we put a regression model and predicted the runtime on bases of it."
   ]
  },
  {
   "cell_type": "code",
   "execution_count": null,
   "id": "e465991b-0b6d-43d3-bf61-321ba5eb07b9",
   "metadata": {},
   "outputs": [],
   "source": []
  }
 ],
 "metadata": {
  "kernelspec": {
   "display_name": "Python 3 (ipykernel)",
   "language": "python",
   "name": "python3"
  },
  "language_info": {
   "codemirror_mode": {
    "name": "ipython",
    "version": 3
   },
   "file_extension": ".py",
   "mimetype": "text/x-python",
   "name": "python",
   "nbconvert_exporter": "python",
   "pygments_lexer": "ipython3",
   "version": "3.9.7"
  }
 },
 "nbformat": 4,
 "nbformat_minor": 5
}
