{
 "cells": [
  {
   "cell_type": "markdown",
   "id": "c49d0a2b-1a0b-4c6f-acf6-7995cb6b59f9",
   "metadata": {},
   "source": [
    "## Using the different types of cells\n",
    "\n",
    "Jupyter Notebooks allow for code to be interspersed with formatted written text.  This allows for you to make coherent arguments regarding your data that easily explain your work to your audience.  This feature also allows you to work on your scientific writing and figure creation.  To separate between formatted text and code, Jupyter Notebook uses boxes called cells.  There are three types of cells: Markdown, Code, and Raw.  This text (and the text you will be writing) is contained generally within a Markdown cell.  The code used for analyzing and plotting your data is run within a Code cell.  Anything that you wish to paste directly without any formatting is placed within a Raw cell.\n",
    "\n",
    "Markdown is a markup language that allows you to write rich-formatted text.  For a quick guide, go to the [Markdown Guide](https://www.markdownguide.org/basic-syntax/).\n",
    "\n",
    "Markdown also supports $\\LaTeX$ style equations using the dollar signs.  For example: $f(x) = x$."
   ]
  },
  {
   "cell_type": "code",
   "execution_count": null,
   "id": "da114655-9ac7-4cb6-96ff-98aa4c4aeb6b",
   "metadata": {},
   "outputs": [],
   "source": [
    "### Markdown cell trial\n",
    "\n",
    "To edit a Markdown cell, double-click the text you would like to edit.  The text will change to a monospaced font.  \n",
    "\n",
    "Edit this cell to put your name in: "
   ]
  },
  {
   "cell_type": "markdown",
   "id": "025e388f-2278-45d2-a977-c4bafd0fa24b",
   "metadata": {},
   "source": [
    "### Code cell trial\n",
    "\n",
    "To execute code, you can click on a code cell and press the Play button.  It is generally good practice to use a Markdown cell to explain the motivations and design behind your code before your code cell."
   ]
  },
  {
   "cell_type": "markdown",
   "id": "bae86b3c-ca75-4bba-b973-81c16e73bd7c",
   "metadata": {},
   "source": [
    "Try using the debugger to inspect what is wrong with the name variable in the following lines:"
   ]
  },
  {
   "cell_type": "code",
   "execution_count": 2,
   "id": "cd4596e4-3e16-43cb-8a8c-cddecd961bf1",
   "metadata": {},
   "outputs": [
    {
     "name": "stdout",
     "output_type": "stream",
     "text": [
      "Hello, my name is: Ganesh Anirudh\n"
     ]
    }
   ],
   "source": [
    "#This is a comment in python edit this cell here by\n",
    "#Tying your name into the print() function call.\n",
    "\n",
    "print('Hello, my name is: Ganesh Anirudh')\n"
   ]
  },
  {
   "cell_type": "code",
   "execution_count": 8,
   "id": "57cef6b0-bd2b-4b49-976b-8275e7e01a52",
   "metadata": {},
   "outputs": [
    {
     "name": "stdout",
     "output_type": "stream",
     "text": [
      "Hello, my name is Ganesh Anirudh\n"
     ]
    }
   ],
   "source": [
    "template = \"Hello, my name is\"\n",
    "Name = \"Ganesh Anirudh\"\n",
    "print(template,Name)\n"
   ]
  },
  {
   "cell_type": "code",
   "execution_count": null,
   "id": "a469c4c0-814b-4d4e-b4fb-58513485f60b",
   "metadata": {},
   "outputs": [],
   "source": []
  },
  {
   "cell_type": "code",
   "execution_count": null,
   "id": "4d8fa16d-b8d0-4a27-bfda-4d5246394c6c",
   "metadata": {},
   "outputs": [],
   "source": []
  }
 ],
 "metadata": {
  "kernelspec": {
   "display_name": "Python 3 (ipykernel)",
   "language": "python",
   "name": "python3"
  },
  "language_info": {
   "codemirror_mode": {
    "name": "ipython",
    "version": 3
   },
   "file_extension": ".py",
   "mimetype": "text/x-python",
   "name": "python",
   "nbconvert_exporter": "python",
   "pygments_lexer": "ipython3",
   "version": "3.9.6"
  }
 },
 "nbformat": 4,
 "nbformat_minor": 5
}
