{
 "cells": [
  {
   "cell_type": "markdown",
   "id": "c1b28730-b363-4f0b-a41e-732ad5057ceb",
   "metadata": {
    "tags": []
   },
   "source": [
    "# Introduction to JupyterLab\n",
    "\n",
    "## Hello!\n",
    "\n",
    "This Jupyter Notebook is here to introduce you to JupyterLab and the Python programming environment.\n",
    "\n",
    "If you've gotten here successfully, you've installed the following packages using `mamba`.  `mamba` is what is known as a package manager, or a software tool that manages installed software and updates for you.  Python has multiple package managers, but `mamba` is the fastest one.  Python also has different \"bundlers\" of the environments (much like different versions of Microsoft Office exist), of which we used the `conda-forge` distribution, which is the predominant distribution used by the open-source community.\n",
    "\n",
    "We installed the following packages (sometimes called `modules` in Python):\n",
    "- `numpy`: numerical computing (matrices and matrix operations) library\n",
    "- `scipy`: signal processing, integration, optimization, and interpolation library\n",
    "- `matplotlib`: MATLAB-inspired plotting library\n",
    "- `statsmodels`: statistics models and tools library\n",
    "- `ipython`: Interactive Python shell (autocomplete, etc.)\n",
    "- `debugpy`: Debugger for JupyterLab\n",
    "- `ipykernel`: Kernel (Python interpreter executor) for JupyterLab\n",
    "- `jupyterlab`: Integrated development environment for Python\n",
    "- `jupyterlab-drawio`: draw.io integration for JupyterLab\n",
    "- `jupyterlab-spellchecker`: spellchecker for JupyterLab\n",
    "- `jupyterlab-lsp`: Autocomplete, refactoring, documentation for JupyterLab\n",
    "- `python-lsp-server`: Autocomplete, refactoring, documentation server\n",
    "- `jupyterlab-mathjax3`: Math notation in Jupyter Notebooks for JupyterLab\n",
    "- `jupyterlab-variableinspector`: MATLAB-style variable inspector for JupyterLab\n"
   ]
  },
  {
   "cell_type": "markdown",
   "id": "c49d0a2b-1a0b-4c6f-acf6-7995cb6b59f9",
   "metadata": {},
   "source": [
    "## Using the different types of cells\n",
    "\n",
    "Jupyter Notebooks allow for code to be interspersed with formatted written text.  This allows for you to make coherent arguments regarding your data that easily explain your work to your audience.  This feature also allows you to work on your scientific writing and figure creation.  To separate between formatted text and code, Jupyter Notebook uses boxes called cells.  There are three types of cells: Markdown, Code, and Raw.  This text (and the text you will be writing) is contained generally within a Markdown cell.  The code used for analyzing and plotting your data is run within a Code cell.  Anything that you wish to paste directly without any formatting is placed within a Raw cell.\n",
    "\n",
    "Markdown is a markup language that allows you to write rich-formatted text.  For a quick guide, go to the [Markdown Guide](https://www.markdownguide.org/basic-syntax/).\n",
    "\n",
    "Markdown also supports $\\LaTeX$ style equations using the dollar signs.  For example: $f(x) = x$."
   ]
  },
  {
   "cell_type": "markdown",
   "id": "56d7bc56-7743-4128-87b1-71c5bded98be",
   "metadata": {},
   "source": [
    "### Markdown cell trial\n",
    "\n",
    "To edit a Markdown cell, double-click the text you would like to edit.  The text will change to a monospaced font.  \n",
    "\n",
    "Edit this cell to put your name in: "
   ]
  },
  {
   "cell_type": "markdown",
   "id": "025e388f-2278-45d2-a977-c4bafd0fa24b",
   "metadata": {},
   "source": [
    "### Code cell trial\n",
    "\n",
    "To execute code, you can click on a code cell and press the Play button.  It is generally good practice to use a Markdown cell to explain the motivations and design behind your code before your code cell."
   ]
  },
  {
   "cell_type": "code",
   "execution_count": null,
   "id": "90174e8c-031d-4392-85cd-39b65c7d7931",
   "metadata": {},
   "outputs": [],
   "source": [
    "# This is a comment in Python. Edit this cell here by\n",
    "#  typing your name into the print() function call.\n",
    "\n",
    "print('Hello, my name is: ')"
   ]
  },
  {
   "cell_type": "markdown",
   "id": "bae86b3c-ca75-4bba-b973-81c16e73bd7c",
   "metadata": {},
   "source": [
    "Try using the debugger to inspect what is wrong with the name variable in the following lines:"
   ]
  },
  {
   "cell_type": "code",
   "execution_count": null,
   "id": "9028c1bf-5c48-471b-ad2b-4304be893619",
   "metadata": {},
   "outputs": [],
   "source": [
    "template = \"Hello, my name is\"\n",
    "name = \"\"\n",
    "print(template, name)"
   ]
  },
  {
   "cell_type": "code",
   "execution_count": null,
   "id": "f4e49a61-c854-4a0f-8d8e-c6bff068810b",
   "metadata": {},
   "outputs": [],
   "source": []
  }
 ],
 "metadata": {
  "kernelspec": {
   "display_name": "Python 3 (ipykernel)",
   "language": "python",
   "name": "python3"
  },
  "language_info": {
   "codemirror_mode": {
    "name": "ipython",
    "version": 3
   },
   "file_extension": ".py",
   "mimetype": "text/x-python",
   "name": "python",
   "nbconvert_exporter": "python",
   "pygments_lexer": "ipython3",
   "version": "3.8.6"
  }
 },
 "nbformat": 4,
 "nbformat_minor": 5
}
