{
 "cells": [
  {
   "cell_type": "markdown",
   "id": "726b01c3-b3d4-42b0-8263-43ec2ce59897",
   "metadata": {},
   "source": [
    "# Introduction to `pandas` and `matplotlib`\n"
   ]
  },
  {
   "cell_type": "markdown",
   "id": "05115669-604e-43a3-851c-239846fbae59",
   "metadata": {},
   "source": [
    "This notebook shows how to import libraries in Python and how to use the `pandas` and `matplotlib` libraries to analyze CSV files.\n",
    "\n",
    "To import and define a function that loads a CSV:"
   ]
  },
  {
   "cell_type": "code",
   "execution_count": 5,
   "id": "70530e8e-925a-4c6d-b110-2e85683be792",
   "metadata": {},
   "outputs": [],
   "source": [
    "# import pandas, numpy, matplotlib\n",
    "import pandas as pd\n",
    "import numpy as np\n",
    "import matplotlib.pyplot as plt\n",
    "\n",
    "\n",
    "def load_dataset(name_of_file: str) -> pd.DataFrame:\n",
    "    \"\"\"\n",
    "    load_dataset(name_of_file) will return a pandas DataFrame of ../as_datasets/{name_of_file}.csv\n",
    "    Example:\n",
    "    - load_dataset(\"bac\"), then it will load ../as_datasets/bac.csv\n",
    "    \"\"\"\n",
    "    return pd.read_csv(f\"../as_datasets/{name_of_file}.csv\")"
   ]
  },
  {
   "cell_type": "markdown",
   "id": "c03cf6fe-5a96-4b23-86f6-d3c1dbb9742a",
   "metadata": {
    "tags": []
   },
   "source": [
    "Load the \"unemployment.csv\" dataset by calling `load_dataset()`:"
   ]
  },
  {
   "cell_type": "markdown",
   "id": "6e402dd9-6875-4463-b5f7-8739029731db",
   "metadata": {},
   "source": [
    "\n",
    "\n"
   ]
  },
  {
   "cell_type": "code",
   "execution_count": 8,
   "id": "def1bd34-bb7d-46fc-9bcb-d75a02dd2848",
   "metadata": {},
   "outputs": [],
   "source": [
    "df_unemployment = load_dataset(\"unemployment\")"
   ]
  },
  {
   "cell_type": "code",
   "execution_count": 7,
   "id": "b6f27029-ae08-4945-9a01-0e9accbe2906",
   "metadata": {},
   "outputs": [
    {
     "name": "stdout",
     "output_type": "stream",
     "text": [
      "   Year  Value\n",
      "0  1980  7.175\n",
      "1  1981  7.617\n",
      "2  1982  9.708\n",
      "3  1983  9.600\n",
      "4  1984  7.508\n"
     ]
    }
   ],
   "source": [
    "print(df_unemployment.head())"
   ]
  },
  {
   "cell_type": "markdown",
   "id": "3ce16c59-5c96-4ac7-b8d9-1d1f58bb5c6d",
   "metadata": {},
   "source": [
    "This is how to obtain the information for the `df_unemployment` dataframe:"
   ]
  },
  {
   "cell_type": "code",
   "execution_count": 16,
   "id": "3b05aa34-9756-49b1-b9ed-f26757eba4e7",
   "metadata": {},
   "outputs": [
    {
     "name": "stdout",
     "output_type": "stream",
     "text": [
      "<class 'pandas.core.frame.DataFrame'>\n",
      "RangeIndex: 38 entries, 0 to 37\n",
      "Data columns (total 2 columns):\n",
      " #   Column  Non-Null Count  Dtype  \n",
      "---  ------  --------------  -----  \n",
      " 0   Year    38 non-null     int64  \n",
      " 1   Value   38 non-null     float64\n",
      "dtypes: float64(1), int64(1)\n",
      "memory usage: 736.0 bytes\n",
      "None\n"
     ]
    }
   ],
   "source": [
    "print(df_unemployment.info())"
   ]
  },
  {
   "cell_type": "code",
   "execution_count": 20,
   "id": "d5426605-6a3e-4627-8c4e-0477ce078717",
   "metadata": {},
   "outputs": [
    {
     "name": "stdout",
     "output_type": "stream",
     "text": [
      "count    38.000000\n",
      "mean      6.334237\n",
      "std       1.610117\n",
      "min       3.967000\n",
      "25%       5.126750\n",
      "50%       5.896000\n",
      "75%       7.323250\n",
      "max       9.708000\n",
      "Name: Value, dtype: float64\n"
     ]
    }
   ],
   "source": [
    "print(df_unemployment[\"Value\"].describe())"
   ]
  },
  {
   "cell_type": "markdown",
   "id": "d9a38bc6-442e-4627-ba06-d20af2b9f7fd",
   "metadata": {},
   "source": [
    "To create a plot of the unemployment over time:"
   ]
  },
  {
   "cell_type": "code",
   "execution_count": 17,
   "id": "5a308642-9e44-41b8-9c1f-92f489ad498a",
   "metadata": {},
   "outputs": [
    {
     "data": {
      "text/plain": [
       "[<matplotlib.lines.Line2D at 0x29f6dafe7f0>]"
      ]
     },
     "execution_count": 17,
     "metadata": {},
     "output_type": "execute_result"
    },
    {
     "data": {
      "image/png": "[encoded data removed]",
      "text/plain": [
       "<Figure size 432x288 with 1 Axes>"
      ]
     },
     "metadata": {
      "needs_background": "light"
     },
     "output_type": "display_data"
    }
   ],
   "source": [
    "plt.figure()\n",
    "plt.title(\"Unemployment rate\")\n",
    "plt.xlabel(\"Year\")\n",
    "plt.ylabel(\"Unemployment value %\")\n",
    "plt.plot(df_unemployment[\"Year\"], df_unemployment[\"Value\"])\n",
    "plt.plot(df_unemployment[\"Year\"], np.ones_like(df_unemployment[\"Year\"]) * df_unemployment[\"Value\"].median())\n",
    "plt.plot(df_unemployment[\"Year\"], df_unemployment[\"Value\"].mean() * np.ones_like(df_unemployment[\"Year\"]))"
   ]
  },
  {
   "cell_type": "code",
   "execution_count": 25,
   "id": "57ae7b7b-be5e-46f3-9755-06afc790e08e",
   "metadata": {},
   "outputs": [
    {
     "name": "stdout",
     "output_type": "stream",
     "text": [
      "[1 1 1 1 1 1 1 1 1 1 1 1 1 1 1 1 1 1 1 1 1 1 1 1 1 1 1 1 1 1 1 1 1 1 1 1 1\n",
      " 1]\n"
     ]
    }
   ],
   "source": []
  },
  {
   "cell_type": "code",
   "execution_count": null,
   "id": "b739d4fa-1f33-4074-ae34-51eab1b67fba",
   "metadata": {},
   "outputs": [],
   "source": []
  },
  {
   "cell_type": "code",
   "execution_count": null,
   "id": "4f099031-2ce8-400c-9a30-05536f0cecdb",
   "metadata": {},
   "outputs": [],
   "source": []
  }
 ],
 "metadata": {
  "kernelspec": {
   "display_name": "Python 3 (ipykernel)",
   "language": "python",
   "name": "python3"
  },
  "language_info": {
   "codemirror_mode": {
    "name": "ipython",
    "version": 3
   },
   "file_extension": ".py",
   "mimetype": "text/x-python",
   "name": "python",
   "nbconvert_exporter": "python",
   "pygments_lexer": "ipython3",
   "version": "3.9.6"
  }
 },
 "nbformat": 4,
 "nbformat_minor": 5
}
