{
 "cells": [
  {
   "cell_type": "markdown",
   "id": "d7ce36c6-8674-4062-ba82-79a7590ef47c",
   "metadata": {
    "tags": []
   },
   "source": [
    "# EE 5020 Homework 2: Statistical inference (frequentist)\n",
    "\n",
    "Name: Ganesh Anirudh Kasa Kota\n",
    "\n",
    "CIN: 401975311"
   ]
  },
  {
   "cell_type": "markdown",
   "id": "9e776d9a-583b-4534-8e9f-b8b7c592d6ad",
   "metadata": {
    "tags": []
   },
   "source": [
    "## Overview\n",
    "\n",
    "In this homework, you will practice applying your statistical inference skills on different datasets within the book. Like the previous homework's Section 2, this set of problems will be presented as datasets and associated research questions for you to answer with your own Markdown and Code cells.\n",
    "\n",
    "## Rubric for this homework\n",
    "\n",
    "Make sure you write down the reasoning and method of creation for any additional columns or transformations of data you need to create.  Additionally, make sure to justify any conclusions you make to answer questions with statistical tests.  Make sure you justify the statistical test chosen as well (for instance, unpaired vs. paired t-test).\n",
    "\n",
    "- 25% organization and flow of justification for statistical inference\n",
    "- 25% organization and flow of Python code\n",
    "- 25% correct statistical inference\n",
    "- 25% correct Python code"
   ]
  },
  {
   "cell_type": "markdown",
   "id": "afd5cc86-6141-42fb-b5ff-3cf63e92567a",
   "metadata": {
    "tags": []
   },
   "source": [
    "## Global imports\n",
    "\n",
    "Write your imports here so you don't have to write imports below."
   ]
  },
  {
   "cell_type": "code",
   "execution_count": 17,
   "id": "bdf24eac-2f0d-4f50-b148-ee056763edfe",
   "metadata": {},
   "outputs": [],
   "source": [
    "import pandas as pd\n",
    "import seaborn as sns\n",
    "import numpy as np\n",
    "import matplotlib.pyplot as plt\n"
   ]
  },
  {
   "cell_type": "markdown",
   "id": "ceb1666a-5ec6-4c3f-bf61-88f1f478a643",
   "metadata": {
    "tags": []
   },
   "source": [
    "## Problem 1\n",
    "\n",
    "**Dataset:** `as_datasets/hof.csv`\n",
    "\n",
    "**Dataset description:** A data set containing number of hits and hall of fame status of various baseball players\n",
    "\n",
    "**Write and discuss the steps to answering the following research question:** Subsample the full dataset again by the last two digits of your CIN floor divided by 4. Is it more likely for a hall of famer to have more hits than a non-hall of famer?"
   ]
  },
  {
   "cell_type": "code",
   "execution_count": 18,
   "id": "fe77e056-ab7e-47a7-8adc-906525a6f4c1",
   "metadata": {},
   "outputs": [],
   "source": [
    "HOFdata = pd.read_csv('as_datasets/hof.csv') "
   ]
  },
  {
   "cell_type": "code",
   "execution_count": 19,
   "id": "25205fc2-c062-47c1-85b7-f5572a9a7057",
   "metadata": {},
   "outputs": [],
   "source": [
    "def cin_subsample_dataframe(df_input: pd.DataFrame, cin: int) -> pd.DataFrame:\n",
    "    last_two_digits = cin%100\n",
    "    selection_value = last_two_digits//4\n",
    "    selection_vector = np.arange(0, len(df_input),selection_value)\n",
    "    return df_input.iloc[selection_vector]"
   ]
  },
  {
   "cell_type": "code",
   "execution_count": 28,
   "id": "24bf8235-89c3-4c1c-b7d1-794a9c62ab7a",
   "metadata": {},
   "outputs": [
    {
     "data": {
      "text/html": [
       "<div>\n",
       "<style scoped>\n",
       "    .dataframe tbody tr th:only-of-type {\n",
       "        vertical-align: middle;\n",
       "    }\n",
       "\n",
       "    .dataframe tbody tr th {\n",
       "        vertical-align: top;\n",
       "    }\n",
       "\n",
       "    .dataframe thead th {\n",
       "        text-align: right;\n",
       "    }\n",
       "</style>\n",
       "<table border=\"1\" class=\"dataframe\">\n",
       "  <thead>\n",
       "    <tr style=\"text-align: right;\">\n",
       "      <th></th>\n",
       "      <th>Hits</th>\n",
       "      <th>HOF</th>\n",
       "    </tr>\n",
       "  </thead>\n",
       "  <tbody>\n",
       "    <tr>\n",
       "      <th>0</th>\n",
       "      <td>972</td>\n",
       "      <td>0</td>\n",
       "    </tr>\n",
       "    <tr>\n",
       "      <th>2</th>\n",
       "      <td>1007</td>\n",
       "      <td>0</td>\n",
       "    </tr>\n",
       "    <tr>\n",
       "      <th>4</th>\n",
       "      <td>1041</td>\n",
       "      <td>0</td>\n",
       "    </tr>\n",
       "    <tr>\n",
       "      <th>6</th>\n",
       "      <td>1046</td>\n",
       "      <td>0</td>\n",
       "    </tr>\n",
       "    <tr>\n",
       "      <th>8</th>\n",
       "      <td>1051</td>\n",
       "      <td>0</td>\n",
       "    </tr>\n",
       "  </tbody>\n",
       "</table>\n",
       "</div>"
      ],
      "text/plain": [
       "   Hits  HOF\n",
       "0   972    0\n",
       "2  1007    0\n",
       "4  1041    0\n",
       "6  1046    0\n",
       "8  1051    0"
      ]
     },
     "execution_count": 28,
     "metadata": {},
     "output_type": "execute_result"
    }
   ],
   "source": [
    "hof_subsample=cin_subsample_dataframe(HOFdata,401975311)\n",
    "hof_subsample.head()"
   ]
  },
  {
   "cell_type": "code",
   "execution_count": 30,
   "id": "dcde4ce5-47f2-41a3-809b-2e846bd7d29d",
   "metadata": {},
   "outputs": [
    {
     "data": {
      "text/plain": [
       "1717.9715762273902"
      ]
     },
     "execution_count": 30,
     "metadata": {},
     "output_type": "execute_result"
    }
   ],
   "source": [
    "hof_subsample['Hits'].mean()"
   ]
  },
  {
   "cell_type": "code",
   "execution_count": 35,
   "id": "2456e988-de7d-45b2-9108-b3002b6d2c7b",
   "metadata": {},
   "outputs": [
    {
     "data": {
      "text/plain": [
       "62"
      ]
     },
     "execution_count": 35,
     "metadata": {},
     "output_type": "execute_result"
    }
   ],
   "source": [
    "int(len(hof_subsample.loc[(hof_subsample['Hits'] > hof_subsample['Hits'].mean()) & (hof_subsample['HOF'] == 1)]))\n"
   ]
  },
  {
   "cell_type": "code",
   "execution_count": 37,
   "id": "8603f21b-439d-4fd8-8b49-183534bc054e",
   "metadata": {},
   "outputs": [
    {
     "name": "stdout",
     "output_type": "stream",
     "text": [
      "12\n"
     ]
    }
   ],
   "source": [
    "print(len(hof_subsample.loc[(hof_subsample['Hits'] <= hof_subsample['Hits'].mean()) & (hof_subsample['HOF'] == 1)]))"
   ]
  },
  {
   "cell_type": "code",
   "execution_count": 38,
   "id": "e33d6bff-6e64-4335-bcac-5d8a26f2f9d3",
   "metadata": {},
   "outputs": [
    {
     "name": "stdout",
     "output_type": "stream",
     "text": [
      "74\n"
     ]
    }
   ],
   "source": [
    "print(len(hof_subsample.loc[hof_subsample['HOF'] == 1]))"
   ]
  },
  {
   "cell_type": "code",
   "execution_count": 39,
   "id": "e408df7c-908c-41fb-a634-932f1113ebdf",
   "metadata": {},
   "outputs": [
    {
     "name": "stdout",
     "output_type": "stream",
     "text": [
      "91\n"
     ]
    }
   ],
   "source": [
    "print(len(hof_subsample.loc[(hof_subsample['Hits'] > hof_subsample['Hits'].mean()) & (hof_subsample['HOF'] == 0)]))"
   ]
  },
  {
   "cell_type": "code",
   "execution_count": 40,
   "id": "144334a9-93d4-4870-b4df-5cd47b26ad1b",
   "metadata": {},
   "outputs": [
    {
     "name": "stdout",
     "output_type": "stream",
     "text": [
      "222\n"
     ]
    }
   ],
   "source": [
    "print(len(hof_subsample.loc[(hof_subsample['Hits'] <= hof_subsample['Hits'].mean()) & (hof_subsample['HOF'] == 0)]))"
   ]
  },
  {
   "cell_type": "code",
   "execution_count": 41,
   "id": "d2c99295-4c4c-4108-bc74-b8d6080aea7a",
   "metadata": {},
   "outputs": [
    {
     "name": "stdout",
     "output_type": "stream",
     "text": [
      "313\n"
     ]
    }
   ],
   "source": [
    "print(len(hof_subsample.loc[hof_subsample['HOF'] == 0]))"
   ]
  },
  {
   "cell_type": "code",
   "execution_count": null,
   "id": "a32ec01a-2ced-4539-a714-548a6a68d3cc",
   "metadata": {},
   "outputs": [],
   "source": []
  },
  {
   "cell_type": "markdown",
   "id": "f7d85e72-fa5d-4a43-a76f-b5e8ed53f9af",
   "metadata": {},
   "source": [
    "## Problem 2\n",
    "\n",
    "**Dataset:** `as_datasets/bac.csv`\n",
    "\n",
    "**Dataset description:** Data on blood alcohol content (BAC) and whether the subject passed or failed the standardized field sobriety test\n",
    "\n",
    "**Write and discuss the steps to answering the following research question:** How accurate is a police officer's sobriety test? In other words, do subjects who fail the sobriety test have higher BAC than subjects who passed the sobriety test?"
   ]
  },
  {
   "cell_type": "code",
   "execution_count": 21,
   "id": "a52df794-c92e-4930-9cef-967a628bf3e6",
   "metadata": {},
   "outputs": [],
   "source": [
    "BACdata = pd.read_csv('as_datasets/bac.csv')    "
   ]
  },
  {
   "cell_type": "markdown",
   "id": "3273efc0-fdf7-489f-b1d6-b02ac407ac31",
   "metadata": {},
   "source": [
    "## Problem 3\n",
    "\n",
    "**Dataset:** `as_datasets/caffeine.csv`\n",
    "\n",
    "**Dataset description:** Endurance times of 9 athletes when given 5 mg and 13 mg of caffeine\n",
    "\n",
    "**Write and discuss the steps to answering the following research question:** Does a higher concentration of actually prolong the endurance time of an athlete?"
   ]
  },
  {
   "cell_type": "code",
   "execution_count": 44,
   "id": "16de257d-a707-455b-81e8-bb48bd7332e0",
   "metadata": {},
   "outputs": [],
   "source": [
    "CAFdata = pd.read_csv('as_datasets/caffeine.csv')"
   ]
  },
  {
   "cell_type": "code",
   "execution_count": 45,
   "id": "5f95d9fc-bd71-439c-b619-1da5f6dfa15d",
   "metadata": {},
   "outputs": [
    {
     "data": {
      "text/html": [
       "<div>\n",
       "<style scoped>\n",
       "    .dataframe tbody tr th:only-of-type {\n",
       "        vertical-align: middle;\n",
       "    }\n",
       "\n",
       "    .dataframe tbody tr th {\n",
       "        vertical-align: top;\n",
       "    }\n",
       "\n",
       "    .dataframe thead th {\n",
       "        text-align: right;\n",
       "    }\n",
       "</style>\n",
       "<table border=\"1\" class=\"dataframe\">\n",
       "  <thead>\n",
       "    <tr style=\"text-align: right;\">\n",
       "      <th></th>\n",
       "      <th>mg5</th>\n",
       "      <th>mg13</th>\n",
       "    </tr>\n",
       "  </thead>\n",
       "  <tbody>\n",
       "    <tr>\n",
       "      <th>0</th>\n",
       "      <td>35.05</td>\n",
       "      <td>36.20</td>\n",
       "    </tr>\n",
       "    <tr>\n",
       "      <th>1</th>\n",
       "      <td>44.50</td>\n",
       "      <td>46.48</td>\n",
       "    </tr>\n",
       "    <tr>\n",
       "      <th>2</th>\n",
       "      <td>73.25</td>\n",
       "      <td>69.47</td>\n",
       "    </tr>\n",
       "    <tr>\n",
       "      <th>3</th>\n",
       "      <td>66.20</td>\n",
       "      <td>70.54</td>\n",
       "    </tr>\n",
       "    <tr>\n",
       "      <th>4</th>\n",
       "      <td>42.47</td>\n",
       "      <td>37.55</td>\n",
       "    </tr>\n",
       "    <tr>\n",
       "      <th>5</th>\n",
       "      <td>52.10</td>\n",
       "      <td>58.33</td>\n",
       "    </tr>\n",
       "    <tr>\n",
       "      <th>6</th>\n",
       "      <td>57.17</td>\n",
       "      <td>66.35</td>\n",
       "    </tr>\n",
       "    <tr>\n",
       "      <th>7</th>\n",
       "      <td>63.20</td>\n",
       "      <td>79.12</td>\n",
       "    </tr>\n",
       "    <tr>\n",
       "      <th>8</th>\n",
       "      <td>85.15</td>\n",
       "      <td>59.30</td>\n",
       "    </tr>\n",
       "  </tbody>\n",
       "</table>\n",
       "</div>"
      ],
      "text/plain": [
       "     mg5   mg13\n",
       "0  35.05  36.20\n",
       "1  44.50  46.48\n",
       "2  73.25  69.47\n",
       "3  66.20  70.54\n",
       "4  42.47  37.55\n",
       "5  52.10  58.33\n",
       "6  57.17  66.35\n",
       "7  63.20  79.12\n",
       "8  85.15  59.30"
      ]
     },
     "execution_count": 45,
     "metadata": {},
     "output_type": "execute_result"
    }
   ],
   "source": [
    "CAFdata"
   ]
  },
  {
   "cell_type": "code",
   "execution_count": null,
   "id": "912add37-ae75-4189-ba7a-84814160312e",
   "metadata": {},
   "outputs": [],
   "source": []
  },
  {
   "cell_type": "markdown",
   "id": "cdeb4b2b-97a3-4a69-94f3-c848a3b69a2f",
   "metadata": {},
   "source": [
    "## Problem 4\n",
    "\n",
    "**Dataset:** `as_datasets/rent.csv`\n",
    "\n",
    "**Dataset description:** Monthly rent of 10 randomly selected apartments with less than 100 sq ft in 6 American cities\n",
    "\n",
    "**Write and discuss the steps to answering the following research question:** Which cities have similar monthly rent means?"
   ]
  },
  {
   "cell_type": "code",
   "execution_count": 25,
   "id": "078f298c-4033-4686-82d2-419ffc971826",
   "metadata": {},
   "outputs": [],
   "source": [
    "RENTdata = pd.read_csv('as_datasets/rent.csv')"
   ]
  },
  {
   "cell_type": "code",
   "execution_count": 43,
   "id": "3c0248a4-b514-4bd0-8cba-9442bb8f55dd",
   "metadata": {},
   "outputs": [
    {
     "data": {
      "text/html": [
       "<div>\n",
       "<style scoped>\n",
       "    .dataframe tbody tr th:only-of-type {\n",
       "        vertical-align: middle;\n",
       "    }\n",
       "\n",
       "    .dataframe tbody tr th {\n",
       "        vertical-align: top;\n",
       "    }\n",
       "\n",
       "    .dataframe thead th {\n",
       "        text-align: right;\n",
       "    }\n",
       "</style>\n",
       "<table border=\"1\" class=\"dataframe\">\n",
       "  <thead>\n",
       "    <tr style=\"text-align: right;\">\n",
       "      <th></th>\n",
       "      <th>Santa Monica CA</th>\n",
       "      <th>Boise ID</th>\n",
       "      <th>Tucson AZ</th>\n",
       "      <th>Detroit MI</th>\n",
       "      <th>Pittsburgh PA</th>\n",
       "      <th>Orlando FL</th>\n",
       "    </tr>\n",
       "  </thead>\n",
       "  <tbody>\n",
       "    <tr>\n",
       "      <th>0</th>\n",
       "      <td>10230</td>\n",
       "      <td>1600</td>\n",
       "      <td>2495</td>\n",
       "      <td>3195</td>\n",
       "      <td>2480</td>\n",
       "      <td>2242</td>\n",
       "    </tr>\n",
       "    <tr>\n",
       "      <th>1</th>\n",
       "      <td>10000</td>\n",
       "      <td>1500</td>\n",
       "      <td>2200</td>\n",
       "      <td>2695</td>\n",
       "      <td>2435</td>\n",
       "      <td>2000</td>\n",
       "    </tr>\n",
       "    <tr>\n",
       "      <th>2</th>\n",
       "      <td>9000</td>\n",
       "      <td>1029</td>\n",
       "      <td>2150</td>\n",
       "      <td>2595</td>\n",
       "      <td>2405</td>\n",
       "      <td>1912</td>\n",
       "    </tr>\n",
       "    <tr>\n",
       "      <th>3</th>\n",
       "      <td>8500</td>\n",
       "      <td>1025</td>\n",
       "      <td>1800</td>\n",
       "      <td>2495</td>\n",
       "      <td>2350</td>\n",
       "      <td>1895</td>\n",
       "    </tr>\n",
       "    <tr>\n",
       "      <th>4</th>\n",
       "      <td>8250</td>\n",
       "      <td>980</td>\n",
       "      <td>1650</td>\n",
       "      <td>2495</td>\n",
       "      <td>2320</td>\n",
       "      <td>1800</td>\n",
       "    </tr>\n",
       "    <tr>\n",
       "      <th>5</th>\n",
       "      <td>8000</td>\n",
       "      <td>950</td>\n",
       "      <td>1600</td>\n",
       "      <td>1675</td>\n",
       "      <td>2316</td>\n",
       "      <td>1765</td>\n",
       "    </tr>\n",
       "    <tr>\n",
       "      <th>6</th>\n",
       "      <td>7000</td>\n",
       "      <td>950</td>\n",
       "      <td>1500</td>\n",
       "      <td>1525</td>\n",
       "      <td>2305</td>\n",
       "      <td>1685</td>\n",
       "    </tr>\n",
       "    <tr>\n",
       "      <th>7</th>\n",
       "      <td>6500</td>\n",
       "      <td>925</td>\n",
       "      <td>1500</td>\n",
       "      <td>1480</td>\n",
       "      <td>2290</td>\n",
       "      <td>1670</td>\n",
       "    </tr>\n",
       "    <tr>\n",
       "      <th>8</th>\n",
       "      <td>6000</td>\n",
       "      <td>925</td>\n",
       "      <td>1500</td>\n",
       "      <td>1410</td>\n",
       "      <td>2275</td>\n",
       "      <td>1665</td>\n",
       "    </tr>\n",
       "    <tr>\n",
       "      <th>9</th>\n",
       "      <td>5815</td>\n",
       "      <td>900</td>\n",
       "      <td>1500</td>\n",
       "      <td>1400</td>\n",
       "      <td>2265</td>\n",
       "      <td>1625</td>\n",
       "    </tr>\n",
       "  </tbody>\n",
       "</table>\n",
       "</div>"
      ],
      "text/plain": [
       "   Santa Monica CA  Boise ID  Tucson AZ  Detroit MI  Pittsburgh PA  Orlando FL\n",
       "0            10230      1600       2495        3195           2480        2242\n",
       "1            10000      1500       2200        2695           2435        2000\n",
       "2             9000      1029       2150        2595           2405        1912\n",
       "3             8500      1025       1800        2495           2350        1895\n",
       "4             8250       980       1650        2495           2320        1800\n",
       "5             8000       950       1600        1675           2316        1765\n",
       "6             7000       950       1500        1525           2305        1685\n",
       "7             6500       925       1500        1480           2290        1670\n",
       "8             6000       925       1500        1410           2275        1665\n",
       "9             5815       900       1500        1400           2265        1625"
      ]
     },
     "execution_count": 43,
     "metadata": {},
     "output_type": "execute_result"
    }
   ],
   "source": [
    "RENTdata"
   ]
  },
  {
   "cell_type": "markdown",
   "id": "daca46c3-d6d9-4072-8c36-595ed9a6175a",
   "metadata": {},
   "source": [
    "## Problem 5\n",
    "\n",
    "**Dataset:** `as_datasets/gpa.csv`\n",
    "\n",
    "**Dataset description:** A toy data set containing the heights and gpa of 35 students\n",
    "\n",
    "**Write and discuss the steps to answering the following research question:** Is there a GPA difference between with students in each quartile (25%) of height?  In other words, do students who are in the bottom 25% of height have a different GPA than students who are in the 25-50% or 50-75% or 75-100% of height?"
   ]
  },
  {
   "cell_type": "code",
   "execution_count": 26,
   "id": "323027e9-bd7e-423e-b969-b0b48b447923",
   "metadata": {},
   "outputs": [],
   "source": [
    "GPAdata = pd.read_csv('as_datasets/gpa.csv')"
   ]
  },
  {
   "cell_type": "code",
   "execution_count": 42,
   "id": "17355f52-e2a5-43f4-a9a6-b35a08e4927a",
   "metadata": {},
   "outputs": [
    {
     "data": {
      "text/html": [
       "<div>\n",
       "<style scoped>\n",
       "    .dataframe tbody tr th:only-of-type {\n",
       "        vertical-align: middle;\n",
       "    }\n",
       "\n",
       "    .dataframe tbody tr th {\n",
       "        vertical-align: top;\n",
       "    }\n",
       "\n",
       "    .dataframe thead th {\n",
       "        text-align: right;\n",
       "    }\n",
       "</style>\n",
       "<table border=\"1\" class=\"dataframe\">\n",
       "  <thead>\n",
       "    <tr style=\"text-align: right;\">\n",
       "      <th></th>\n",
       "      <th>height</th>\n",
       "      <th>gpa</th>\n",
       "    </tr>\n",
       "  </thead>\n",
       "  <tbody>\n",
       "    <tr>\n",
       "      <th>0</th>\n",
       "      <td>66.0</td>\n",
       "      <td>2.90</td>\n",
       "    </tr>\n",
       "    <tr>\n",
       "      <th>1</th>\n",
       "      <td>57.0</td>\n",
       "      <td>3.16</td>\n",
       "    </tr>\n",
       "    <tr>\n",
       "      <th>2</th>\n",
       "      <td>64.5</td>\n",
       "      <td>3.62</td>\n",
       "    </tr>\n",
       "    <tr>\n",
       "      <th>3</th>\n",
       "      <td>62.0</td>\n",
       "      <td>2.00</td>\n",
       "    </tr>\n",
       "    <tr>\n",
       "      <th>4</th>\n",
       "      <td>69.5</td>\n",
       "      <td>3.45</td>\n",
       "    </tr>\n",
       "    <tr>\n",
       "      <th>5</th>\n",
       "      <td>65.0</td>\n",
       "      <td>2.80</td>\n",
       "    </tr>\n",
       "    <tr>\n",
       "      <th>6</th>\n",
       "      <td>63.0</td>\n",
       "      <td>3.63</td>\n",
       "    </tr>\n",
       "    <tr>\n",
       "      <th>7</th>\n",
       "      <td>68.0</td>\n",
       "      <td>2.81</td>\n",
       "    </tr>\n",
       "    <tr>\n",
       "      <th>8</th>\n",
       "      <td>59.5</td>\n",
       "      <td>3.33</td>\n",
       "    </tr>\n",
       "    <tr>\n",
       "      <th>9</th>\n",
       "      <td>64.0</td>\n",
       "      <td>2.75</td>\n",
       "    </tr>\n",
       "    <tr>\n",
       "      <th>10</th>\n",
       "      <td>69.0</td>\n",
       "      <td>3.86</td>\n",
       "    </tr>\n",
       "    <tr>\n",
       "      <th>11</th>\n",
       "      <td>70.0</td>\n",
       "      <td>1.50</td>\n",
       "    </tr>\n",
       "    <tr>\n",
       "      <th>12</th>\n",
       "      <td>66.0</td>\n",
       "      <td>2.49</td>\n",
       "    </tr>\n",
       "    <tr>\n",
       "      <th>13</th>\n",
       "      <td>73.0</td>\n",
       "      <td>3.10</td>\n",
       "    </tr>\n",
       "    <tr>\n",
       "      <th>14</th>\n",
       "      <td>69.0</td>\n",
       "      <td>2.70</td>\n",
       "    </tr>\n",
       "    <tr>\n",
       "      <th>15</th>\n",
       "      <td>61.0</td>\n",
       "      <td>1.94</td>\n",
       "    </tr>\n",
       "    <tr>\n",
       "      <th>16</th>\n",
       "      <td>68.0</td>\n",
       "      <td>2.13</td>\n",
       "    </tr>\n",
       "    <tr>\n",
       "      <th>17</th>\n",
       "      <td>72.0</td>\n",
       "      <td>2.84</td>\n",
       "    </tr>\n",
       "    <tr>\n",
       "      <th>18</th>\n",
       "      <td>72.0</td>\n",
       "      <td>2.85</td>\n",
       "    </tr>\n",
       "    <tr>\n",
       "      <th>19</th>\n",
       "      <td>73.5</td>\n",
       "      <td>3.33</td>\n",
       "    </tr>\n",
       "    <tr>\n",
       "      <th>20</th>\n",
       "      <td>63.0</td>\n",
       "      <td>3.00</td>\n",
       "    </tr>\n",
       "    <tr>\n",
       "      <th>21</th>\n",
       "      <td>67.0</td>\n",
       "      <td>3.23</td>\n",
       "    </tr>\n",
       "    <tr>\n",
       "      <th>22</th>\n",
       "      <td>64.0</td>\n",
       "      <td>3.59</td>\n",
       "    </tr>\n",
       "    <tr>\n",
       "      <th>23</th>\n",
       "      <td>67.0</td>\n",
       "      <td>3.74</td>\n",
       "    </tr>\n",
       "    <tr>\n",
       "      <th>24</th>\n",
       "      <td>70.0</td>\n",
       "      <td>2.60</td>\n",
       "    </tr>\n",
       "    <tr>\n",
       "      <th>25</th>\n",
       "      <td>68.0</td>\n",
       "      <td>3.39</td>\n",
       "    </tr>\n",
       "    <tr>\n",
       "      <th>26</th>\n",
       "      <td>61.5</td>\n",
       "      <td>3.49</td>\n",
       "    </tr>\n",
       "    <tr>\n",
       "      <th>27</th>\n",
       "      <td>67.0</td>\n",
       "      <td>2.79</td>\n",
       "    </tr>\n",
       "    <tr>\n",
       "      <th>28</th>\n",
       "      <td>71.5</td>\n",
       "      <td>3.20</td>\n",
       "    </tr>\n",
       "    <tr>\n",
       "      <th>29</th>\n",
       "      <td>71.0</td>\n",
       "      <td>3.20</td>\n",
       "    </tr>\n",
       "    <tr>\n",
       "      <th>30</th>\n",
       "      <td>63.0</td>\n",
       "      <td>3.30</td>\n",
       "    </tr>\n",
       "    <tr>\n",
       "      <th>31</th>\n",
       "      <td>60.5</td>\n",
       "      <td>2.70</td>\n",
       "    </tr>\n",
       "    <tr>\n",
       "      <th>32</th>\n",
       "      <td>74.0</td>\n",
       "      <td>2.50</td>\n",
       "    </tr>\n",
       "    <tr>\n",
       "      <th>33</th>\n",
       "      <td>72.0</td>\n",
       "      <td>2.89</td>\n",
       "    </tr>\n",
       "    <tr>\n",
       "      <th>34</th>\n",
       "      <td>67.0</td>\n",
       "      <td>3.20</td>\n",
       "    </tr>\n",
       "  </tbody>\n",
       "</table>\n",
       "</div>"
      ],
      "text/plain": [
       "    height   gpa\n",
       "0     66.0  2.90\n",
       "1     57.0  3.16\n",
       "2     64.5  3.62\n",
       "3     62.0  2.00\n",
       "4     69.5  3.45\n",
       "5     65.0  2.80\n",
       "6     63.0  3.63\n",
       "7     68.0  2.81\n",
       "8     59.5  3.33\n",
       "9     64.0  2.75\n",
       "10    69.0  3.86\n",
       "11    70.0  1.50\n",
       "12    66.0  2.49\n",
       "13    73.0  3.10\n",
       "14    69.0  2.70\n",
       "15    61.0  1.94\n",
       "16    68.0  2.13\n",
       "17    72.0  2.84\n",
       "18    72.0  2.85\n",
       "19    73.5  3.33\n",
       "20    63.0  3.00\n",
       "21    67.0  3.23\n",
       "22    64.0  3.59\n",
       "23    67.0  3.74\n",
       "24    70.0  2.60\n",
       "25    68.0  3.39\n",
       "26    61.5  3.49\n",
       "27    67.0  2.79\n",
       "28    71.5  3.20\n",
       "29    71.0  3.20\n",
       "30    63.0  3.30\n",
       "31    60.5  2.70\n",
       "32    74.0  2.50\n",
       "33    72.0  2.89\n",
       "34    67.0  3.20"
      ]
     },
     "execution_count": 42,
     "metadata": {},
     "output_type": "execute_result"
    }
   ],
   "source": [
    "GPAdata"
   ]
  },
  {
   "cell_type": "code",
   "execution_count": null,
   "id": "b8a76f59-96e0-46a1-ac91-adbb26461a4d",
   "metadata": {},
   "outputs": [],
   "source": []
  }
 ],
 "metadata": {
  "kernelspec": {
   "display_name": "Python 3 (ipykernel)",
   "language": "python",
   "name": "python3"
  },
  "language_info": {
   "codemirror_mode": {
    "name": "ipython",
    "version": 3
   },
   "file_extension": ".py",
   "mimetype": "text/x-python",
   "name": "python",
   "nbconvert_exporter": "python",
   "pygments_lexer": "ipython3",
   "version": "3.9.6"
  }
 },
 "nbformat": 4,
 "nbformat_minor": 5
}
