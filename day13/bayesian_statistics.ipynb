{
 "cells": [
  {
   "cell_type": "markdown",
   "id": "976b15e9-6c4e-43b5-88cf-ecd5a8be02cb",
   "metadata": {
    "tags": []
   },
   "source": [
    "# Bayesian Statistics"
   ]
  },
  {
   "cell_type": "markdown",
   "id": "63a49bcb-082d-46e3-b920-591541bad759",
   "metadata": {},
   "source": [
    "## Revisiting Bayes' Theorem\n",
    "\n",
    "Basic conditional probability: \n",
    "\n",
    "$p(B|A)=\\frac{p(B\\cap A)}{p(A)}$ (1)\n",
    "\n",
    "Since $p(B|A) \\ne p(A|B)$, BUT $p(B \\cap A) = p(A \\cap B)$: \n",
    "\n",
    "$p(A|B)=\\frac{p(B\\cap A)}{p(B)}$ (2)\n",
    "\n",
    "Then, we derive Bayes' rule: \n",
    "\n",
    "$p(A|B)=\\frac{p(B|A)p(A)}{p(B)}$ (3)\n",
    "\n",
    "Now, let's assume that our model parameters are $\\theta$ and dataset is $y$:\n",
    "\n",
    "$p({\\boldsymbol{\\theta }}|{\\boldsymbol{y}})=\\frac{p({\\boldsymbol{y}}|{\\boldsymbol{\\theta }})p({\\boldsymbol{\\theta }})}{p({\\boldsymbol{y}})}$ (4)\n",
    "\n",
    "Often, we just use the proportional distribution, rather than the fully-normalized posterior:\n",
    "\n",
    "$p({\\boldsymbol{\\theta }}|{\\boldsymbol{y}})\\propto p({\\boldsymbol{y}}|{\\boldsymbol{\\theta }})p({\\boldsymbol{\\theta }})$ (5)\n",
    "\n",
    "Now, we can break this down into different terms:\n",
    "\n",
    "- $p(\\theta)$ is known as the **prior**, probability of the model (hypothesis) before seeing data\n",
    "- $p(\\theta | y)$ is known as the **posterior**, probability of the model (hypothesis) after seeing data\n",
    "- $p(y | \\theta)$ is known as the **likelihood**, probability of the data given a hypothesis\n",
    "\n",
    "**_So, what does this mean in terms of solving a statistical problem?_**"
   ]
  },
  {
   "cell_type": "markdown",
   "id": "7a700844-17d0-40ff-aedf-1f2378d5e459",
   "metadata": {},
   "source": [
    "- **Prior:** use any background information we have, or any assumptions we have\n",
    "- **Likelihood:** use any data we can collect to compute probability for each hypothesis\n",
    "- **Posterior:** A result of a **Bayesian update** (using prior probabilities and new data to compute current probability)"
   ]
  },
  {
   "cell_type": "markdown",
   "id": "e0c49ee2-db04-4615-9ab6-e2ddfdb20eb0",
   "metadata": {},
   "source": [
    "## Bayesian statistics treat models as non-permanent (ever evolving) distributions\n",
    "\n",
    "Benefits:\n",
    "\n",
    "1. Prior information is captured\n",
    "2. Updates can increase accuracy of model\n",
    "3. Models are interpretable\n",
    "4. Non-long-run statistics can be captured\n",
    "\n",
    "Drawbacks:\n",
    "\n",
    "1. Prior assumptions are weighed in\n",
    "2. More complex setup\n",
    "\n",
    "![Bayesian statistics workflow](bayesian_cycle.png)\n",
    "\n",
    "*Figure 1: The Bayesian statistics workflow works similar to humanistic approaches to research problems.*"
   ]
  },
  {
   "cell_type": "markdown",
   "id": "bb2605b4-82b9-4d7d-ad6f-7ef7725586b7",
   "metadata": {},
   "source": [
    "## Updates via Bayes Tables\n",
    "\n",
    "> Suppose there are two bowls of cookies.\n",
    ">\n",
    "> * Bowl 1 contains 30 vanilla cookies and 10 chocolate cookies. \n",
    ">\n",
    "> * Bowl 2 contains 20 vanilla cookies and 20 chocolate cookies.\n",
    ">\n",
    "> Now suppose you choose one of the bowls at random and, without looking, choose a cookie at random. If the cookie is vanilla, what is the probability that it came from Bowl 1?\n",
    "\n",
    "Let's set this up!  Here are the steps:\n",
    "\n",
    "1. What are our variables and how can we relate them?  In other words, what information do we have, and what are we trying to figure out?"
   ]
  },
  {
   "cell_type": "markdown",
   "id": "cfdf9434-04fa-4fec-baaf-70d1b46cf3f2",
   "metadata": {},
   "source": [
    "- $V$ is an event for receiving a vanilla cookie\n",
    "- $C$ is an event for receiving a chocolate cookie\n",
    "- $B_1$ is an event for receiving a cookie out of Bowl 1\n",
    "- $B_2$ is an event for receiving a cookie out of Bowl 2\n",
    "\n",
    "**Question:** What is $P(B_1|V)$ (the posterior)?  Using our prior, likelihood, and posterior workflow: $P(B_1) P(V|B_1)$"
   ]
  },
  {
   "cell_type": "markdown",
   "id": "a05f2954-791a-4ae6-8b0e-2b1d9d8ce52e",
   "metadata": {},
   "source": [
    "2. Tabularize our information:"
   ]
  },
  {
   "cell_type": "code",
   "execution_count": 58,
   "id": "40e42603-27c9-492d-8986-5e1c6656f5f9",
   "metadata": {},
   "outputs": [],
   "source": [
    "import pandas as pd\n",
    "\n",
    "df_cookies = pd.DataFrame(index=['B1', 'B2'])"
   ]
  },
  {
   "cell_type": "code",
   "execution_count": 60,
   "id": "c263f778-a4bc-47b7-b7d5-420d1051127f",
   "metadata": {},
   "outputs": [
    {
     "data": {
      "text/html": [
       "<div>\n",
       "<style scoped>\n",
       "    .dataframe tbody tr th:only-of-type {\n",
       "        vertical-align: middle;\n",
       "    }\n",
       "\n",
       "    .dataframe tbody tr th {\n",
       "        vertical-align: top;\n",
       "    }\n",
       "\n",
       "    .dataframe thead th {\n",
       "        text-align: right;\n",
       "    }\n",
       "</style>\n",
       "<table border=\"1\" class=\"dataframe\">\n",
       "  <thead>\n",
       "    <tr style=\"text-align: right;\">\n",
       "      <th></th>\n",
       "      <th>prior</th>\n",
       "    </tr>\n",
       "  </thead>\n",
       "  <tbody>\n",
       "    <tr>\n",
       "      <th>B1</th>\n",
       "      <td>1/2</td>\n",
       "    </tr>\n",
       "    <tr>\n",
       "      <th>B2</th>\n",
       "      <td>1/2</td>\n",
       "    </tr>\n",
       "  </tbody>\n",
       "</table>\n",
       "</div>"
      ],
      "text/plain": [
       "   prior\n",
       "B1   1/2\n",
       "B2   1/2"
      ]
     },
     "execution_count": 60,
     "metadata": {},
     "output_type": "execute_result"
    }
   ],
   "source": [
    "from fractions import Fraction\n",
    "\n",
    "df_cookies['prior'] = Fraction(1, 2), Fraction(1, 2)  # assumption for bowls\n",
    "df_cookies"
   ]
  },
  {
   "cell_type": "code",
   "execution_count": 62,
   "id": "41584e0a-48e8-4a19-b638-239fb613fb44",
   "metadata": {},
   "outputs": [
    {
     "data": {
      "text/html": [
       "<div>\n",
       "<style scoped>\n",
       "    .dataframe tbody tr th:only-of-type {\n",
       "        vertical-align: middle;\n",
       "    }\n",
       "\n",
       "    .dataframe tbody tr th {\n",
       "        vertical-align: top;\n",
       "    }\n",
       "\n",
       "    .dataframe thead th {\n",
       "        text-align: right;\n",
       "    }\n",
       "</style>\n",
       "<table border=\"1\" class=\"dataframe\">\n",
       "  <thead>\n",
       "    <tr style=\"text-align: right;\">\n",
       "      <th></th>\n",
       "      <th>prior</th>\n",
       "      <th>likelihood</th>\n",
       "    </tr>\n",
       "  </thead>\n",
       "  <tbody>\n",
       "    <tr>\n",
       "      <th>B1</th>\n",
       "      <td>1/2</td>\n",
       "      <td>3/4</td>\n",
       "    </tr>\n",
       "    <tr>\n",
       "      <th>B2</th>\n",
       "      <td>1/2</td>\n",
       "      <td>1/2</td>\n",
       "    </tr>\n",
       "  </tbody>\n",
       "</table>\n",
       "</div>"
      ],
      "text/plain": [
       "   prior likelihood\n",
       "B1   1/2        3/4\n",
       "B2   1/2        1/2"
      ]
     },
     "execution_count": 62,
     "metadata": {},
     "output_type": "execute_result"
    }
   ],
   "source": [
    "df_cookies['likelihood'] = Fraction(30, 40), Fraction(20, 40)\n",
    "df_cookies"
   ]
  },
  {
   "cell_type": "markdown",
   "id": "ecafd1cc-95cb-48b0-80ed-80c9bc9bf82f",
   "metadata": {},
   "source": [
    "3. Multiply to obtain the un-normalized posterior:"
   ]
  },
  {
   "cell_type": "code",
   "execution_count": 63,
   "id": "fbc501d3-1785-4e34-9c16-2c347b01700c",
   "metadata": {},
   "outputs": [
    {
     "data": {
      "text/html": [
       "<div>\n",
       "<style scoped>\n",
       "    .dataframe tbody tr th:only-of-type {\n",
       "        vertical-align: middle;\n",
       "    }\n",
       "\n",
       "    .dataframe tbody tr th {\n",
       "        vertical-align: top;\n",
       "    }\n",
       "\n",
       "    .dataframe thead th {\n",
       "        text-align: right;\n",
       "    }\n",
       "</style>\n",
       "<table border=\"1\" class=\"dataframe\">\n",
       "  <thead>\n",
       "    <tr style=\"text-align: right;\">\n",
       "      <th></th>\n",
       "      <th>prior</th>\n",
       "      <th>likelihood</th>\n",
       "      <th>unnorm_post</th>\n",
       "    </tr>\n",
       "  </thead>\n",
       "  <tbody>\n",
       "    <tr>\n",
       "      <th>B1</th>\n",
       "      <td>1/2</td>\n",
       "      <td>3/4</td>\n",
       "      <td>3/8</td>\n",
       "    </tr>\n",
       "    <tr>\n",
       "      <th>B2</th>\n",
       "      <td>1/2</td>\n",
       "      <td>1/2</td>\n",
       "      <td>1/4</td>\n",
       "    </tr>\n",
       "  </tbody>\n",
       "</table>\n",
       "</div>"
      ],
      "text/plain": [
       "   prior likelihood unnorm_post\n",
       "B1   1/2        3/4         3/8\n",
       "B2   1/2        1/2         1/4"
      ]
     },
     "execution_count": 63,
     "metadata": {},
     "output_type": "execute_result"
    }
   ],
   "source": [
    "df_cookies['unnorm_post'] = df_cookies['prior'] * df_cookies['likelihood']\n",
    "df_cookies"
   ]
  },
  {
   "cell_type": "markdown",
   "id": "68418702-8d01-4653-9e85-e8f065e7912b",
   "metadata": {},
   "source": [
    "4. Normalize the posterior by dividing by the total probability so far:"
   ]
  },
  {
   "cell_type": "code",
   "execution_count": 65,
   "id": "0b70d92f-3483-4e52-9275-324a9bb68782",
   "metadata": {},
   "outputs": [
    {
     "data": {
      "text/html": [
       "<div>\n",
       "<style scoped>\n",
       "    .dataframe tbody tr th:only-of-type {\n",
       "        vertical-align: middle;\n",
       "    }\n",
       "\n",
       "    .dataframe tbody tr th {\n",
       "        vertical-align: top;\n",
       "    }\n",
       "\n",
       "    .dataframe thead th {\n",
       "        text-align: right;\n",
       "    }\n",
       "</style>\n",
       "<table border=\"1\" class=\"dataframe\">\n",
       "  <thead>\n",
       "    <tr style=\"text-align: right;\">\n",
       "      <th></th>\n",
       "      <th>prior</th>\n",
       "      <th>likelihood</th>\n",
       "      <th>unnorm_post</th>\n",
       "      <th>posterior</th>\n",
       "    </tr>\n",
       "  </thead>\n",
       "  <tbody>\n",
       "    <tr>\n",
       "      <th>B1</th>\n",
       "      <td>1/2</td>\n",
       "      <td>3/4</td>\n",
       "      <td>3/8</td>\n",
       "      <td>3/5</td>\n",
       "    </tr>\n",
       "    <tr>\n",
       "      <th>B2</th>\n",
       "      <td>1/2</td>\n",
       "      <td>1/2</td>\n",
       "      <td>1/4</td>\n",
       "      <td>2/5</td>\n",
       "    </tr>\n",
       "  </tbody>\n",
       "</table>\n",
       "</div>"
      ],
      "text/plain": [
       "   prior likelihood unnorm_post posterior\n",
       "B1   1/2        3/4         3/8       3/5\n",
       "B2   1/2        1/2         1/4       2/5"
      ]
     },
     "execution_count": 65,
     "metadata": {},
     "output_type": "execute_result"
    }
   ],
   "source": [
    "df_cookies['posterior'] = df_cookies['unnorm_post'] / df_cookies['unnorm_post'].sum()\n",
    "df_cookies"
   ]
  },
  {
   "cell_type": "markdown",
   "id": "e3339396-31e3-42f5-baa5-6d4d5f28de2e",
   "metadata": {},
   "source": [
    "## The power of Bayesian statistics!\n",
    "\n",
    "### The Monty Hall Problem\n",
    "\n",
    "The Monty Hall problem (one of the most contentious problems in probability!) is based on a game show called *Let's Make a Deal*. If you are a contestant on the show, here's how the game works:\n",
    "1. The host, Monty Hall, shows you three closed doors -- numbered 1, 2, and 3 -- and tells you that there is a prize behind each door.\n",
    "2. One prize is valuable (traditionally a car), the other two are less valuable (traditionally goats).\n",
    "3. The object of the game is to guess which door has the car. If you guess right, you get to keep the car.\n",
    "\n",
    "![Monty hall problem illustrated](monty_hall.png)\n",
    "\n",
    "_Figure 2: The Monty Hall problem illustrated._\n",
    "\n",
    "**The question:** Suppose you pick Door 1. Before opening the door you chose, Monty opens Door 3 and reveals a goat. Then Monty offers you the option to stick with your original choice or switch to the remaining unopened door. _To maximize your chance of winning the car, should you stick with Door 1 or switch to Door 2?_"
   ]
  },
  {
   "cell_type": "markdown",
   "id": "200a1afd-4a01-4e7c-b707-95d0c450b642",
   "metadata": {},
   "source": [
    "### Bayes to the rescue! The solution to the Monty Hall problem:\n",
    "\n",
    "To answer this question, we have to make some assumptions about the behavior of the host:\n",
    "\n",
    "1.  Monty always opens a door and offers you the option to switch.\n",
    "\n",
    "2.  He never opens the door you picked or the door with the car.\n",
    "\n",
    "3.  If you choose the door with the car, he chooses one of the other\n",
    "    doors at random.\n",
    "\n",
    "We start with three hypotheses: the car might be behind Door 1, 2, or 3. "
   ]
  },
  {
   "cell_type": "markdown",
   "id": "2ca34759-4eba-4769-b220-9cc6fb3db4fe",
   "metadata": {},
   "source": [
    "According to the statement of the problem, the prior probability for each door is 1/3:"
   ]
  },
  {
   "cell_type": "code",
   "execution_count": 67,
   "id": "fd3c4597-b3a4-4072-a8f4-e86c81fa4ea5",
   "metadata": {},
   "outputs": [
    {
     "data": {
      "text/html": [
       "<div>\n",
       "<style scoped>\n",
       "    .dataframe tbody tr th:only-of-type {\n",
       "        vertical-align: middle;\n",
       "    }\n",
       "\n",
       "    .dataframe tbody tr th {\n",
       "        vertical-align: top;\n",
       "    }\n",
       "\n",
       "    .dataframe thead th {\n",
       "        text-align: right;\n",
       "    }\n",
       "</style>\n",
       "<table border=\"1\" class=\"dataframe\">\n",
       "  <thead>\n",
       "    <tr style=\"text-align: right;\">\n",
       "      <th></th>\n",
       "      <th>priors</th>\n",
       "    </tr>\n",
       "  </thead>\n",
       "  <tbody>\n",
       "    <tr>\n",
       "      <th>D1</th>\n",
       "      <td>1/3</td>\n",
       "    </tr>\n",
       "    <tr>\n",
       "      <th>D2</th>\n",
       "      <td>1/3</td>\n",
       "    </tr>\n",
       "    <tr>\n",
       "      <th>D3</th>\n",
       "      <td>1/3</td>\n",
       "    </tr>\n",
       "  </tbody>\n",
       "</table>\n",
       "</div>"
      ],
      "text/plain": [
       "   priors\n",
       "D1    1/3\n",
       "D2    1/3\n",
       "D3    1/3"
      ]
     },
     "execution_count": 67,
     "metadata": {},
     "output_type": "execute_result"
    }
   ],
   "source": [
    "df_monty = pd.DataFrame(index=['D1', 'D2', 'D3'])\n",
    "df_monty['priors'] = Fraction(1, 3)\n",
    "df_monty"
   ]
  },
  {
   "cell_type": "markdown",
   "id": "5405018a-c0f2-43d0-9419-8c59e31616dc",
   "metadata": {},
   "source": [
    "We also have new data, where Monty opened Door 3 and revealed a goat. Let's convert this data into the probability for each hypothesis (likelihood):"
   ]
  },
  {
   "cell_type": "code",
   "execution_count": 71,
   "id": "b59e38d3-de7f-4a01-98b9-f1983d2aee3f",
   "metadata": {},
   "outputs": [
    {
     "data": {
      "text/html": [
       "<div>\n",
       "<style scoped>\n",
       "    .dataframe tbody tr th:only-of-type {\n",
       "        vertical-align: middle;\n",
       "    }\n",
       "\n",
       "    .dataframe tbody tr th {\n",
       "        vertical-align: top;\n",
       "    }\n",
       "\n",
       "    .dataframe thead th {\n",
       "        text-align: right;\n",
       "    }\n",
       "</style>\n",
       "<table border=\"1\" class=\"dataframe\">\n",
       "  <thead>\n",
       "    <tr style=\"text-align: right;\">\n",
       "      <th></th>\n",
       "      <th>priors</th>\n",
       "      <th>likelihoods</th>\n",
       "      <th>unnorm_posts</th>\n",
       "      <th>posteriors</th>\n",
       "    </tr>\n",
       "  </thead>\n",
       "  <tbody>\n",
       "    <tr>\n",
       "      <th>D1</th>\n",
       "      <td>1/3</td>\n",
       "      <td>1/2</td>\n",
       "      <td>1/6</td>\n",
       "      <td>3/7</td>\n",
       "    </tr>\n",
       "    <tr>\n",
       "      <th>D2</th>\n",
       "      <td>1/3</td>\n",
       "      <td>1</td>\n",
       "      <td>2/9</td>\n",
       "      <td>4/7</td>\n",
       "    </tr>\n",
       "    <tr>\n",
       "      <th>D3</th>\n",
       "      <td>1/3</td>\n",
       "      <td>0</td>\n",
       "      <td>0</td>\n",
       "      <td>0</td>\n",
       "    </tr>\n",
       "  </tbody>\n",
       "</table>\n",
       "</div>"
      ],
      "text/plain": [
       "   priors likelihoods unnorm_posts posteriors\n",
       "D1    1/3         1/2          1/6        3/7\n",
       "D2    1/3           1          2/9        4/7\n",
       "D3    1/3           0            0          0"
      ]
     },
     "execution_count": 71,
     "metadata": {},
     "output_type": "execute_result"
    }
   ],
   "source": [
    "df_monty['likelihoods'] = Fraction(1, 2), 1, 0\n",
    "df_monty"
   ]
  },
  {
   "cell_type": "markdown",
   "id": "a77b279b-d846-4356-ae2e-ed9ee868dae9",
   "metadata": {},
   "source": [
    "Now, we can perform a Bayesian update (compute the unnormalized posterior and normalized posterior):"
   ]
  },
  {
   "cell_type": "code",
   "execution_count": 72,
   "id": "8f177fd9-61e7-49e2-8aff-1890d63c1d58",
   "metadata": {},
   "outputs": [
    {
     "data": {
      "text/html": [
       "<div>\n",
       "<style scoped>\n",
       "    .dataframe tbody tr th:only-of-type {\n",
       "        vertical-align: middle;\n",
       "    }\n",
       "\n",
       "    .dataframe tbody tr th {\n",
       "        vertical-align: top;\n",
       "    }\n",
       "\n",
       "    .dataframe thead th {\n",
       "        text-align: right;\n",
       "    }\n",
       "</style>\n",
       "<table border=\"1\" class=\"dataframe\">\n",
       "  <thead>\n",
       "    <tr style=\"text-align: right;\">\n",
       "      <th></th>\n",
       "      <th>priors</th>\n",
       "      <th>likelihoods</th>\n",
       "      <th>unnorm_posts</th>\n",
       "      <th>posteriors</th>\n",
       "    </tr>\n",
       "  </thead>\n",
       "  <tbody>\n",
       "    <tr>\n",
       "      <th>D1</th>\n",
       "      <td>1/3</td>\n",
       "      <td>1/2</td>\n",
       "      <td>1/6</td>\n",
       "      <td>1/3</td>\n",
       "    </tr>\n",
       "    <tr>\n",
       "      <th>D2</th>\n",
       "      <td>1/3</td>\n",
       "      <td>1</td>\n",
       "      <td>1/3</td>\n",
       "      <td>2/3</td>\n",
       "    </tr>\n",
       "    <tr>\n",
       "      <th>D3</th>\n",
       "      <td>1/3</td>\n",
       "      <td>0</td>\n",
       "      <td>0</td>\n",
       "      <td>0</td>\n",
       "    </tr>\n",
       "  </tbody>\n",
       "</table>\n",
       "</div>"
      ],
      "text/plain": [
       "   priors likelihoods unnorm_posts posteriors\n",
       "D1    1/3         1/2          1/6        1/3\n",
       "D2    1/3           1          1/3        2/3\n",
       "D3    1/3           0            0          0"
      ]
     },
     "execution_count": 72,
     "metadata": {},
     "output_type": "execute_result"
    }
   ],
   "source": [
    "df_monty['unnorm_posts'] = df_monty['priors'] * df_monty['likelihoods']\n",
    "df_monty['posteriors'] = df_monty['unnorm_posts'] / df_monty['unnorm_posts'].sum()\n",
    "df_monty"
   ]
  },
  {
   "cell_type": "markdown",
   "id": "d90c1f54-a5b2-4e87-a86f-66a4bc04fb4c",
   "metadata": {},
   "source": [
    "**Our conclusion:** So, should we stick with Door 1 or switch to Door 2?"
   ]
  },
  {
   "cell_type": "markdown",
   "id": "927d917c-fcbd-46ae-b46b-3c898edb9176",
   "metadata": {
    "tags": []
   },
   "source": [
    "## Distribution functions\n",
    "\n",
    "**pmf: Probability mass function (discrete), $f_X(x) = p(X = x)$**"
   ]
  },
  {
   "cell_type": "markdown",
   "id": "d9ef5225-33d8-4e30-a617-9e1c205e363a",
   "metadata": {},
   "source": [
    "**pdf: Probability density function (continuous), $f_X(x) = \\frac{dF_X(x)}{dx}$**"
   ]
  },
  {
   "cell_type": "markdown",
   "id": "fea0ac58-1702-4d76-8480-55d854421c59",
   "metadata": {},
   "source": [
    "**cdf: Cumulative distribution function, $F_X(x) = p(X \\le x)$**"
   ]
  },
  {
   "cell_type": "code",
   "execution_count": 73,
   "id": "78f5ddcb-c5b7-4c7e-a91c-3951608d3ee7",
   "metadata": {},
   "outputs": [
    {
     "data": {
      "text/plain": [
       "<matplotlib.legend.Legend at 0x2846526aee0>"
      ]
     },
     "execution_count": 73,
     "metadata": {},
     "output_type": "execute_result"
    },
    {
     "data": {
      "image/png": "[encoded data removed]",
      "text/plain": [
       "<Figure size 576x576 with 1 Axes>"
      ]
     },
     "metadata": {
      "needs_background": "light"
     },
     "output_type": "display_data"
    }
   ],
   "source": [
    "import scipy.stats\n",
    "\n",
    "# modeling bananas in a bunch: 2 to 8 bananas, uniformly possible\n",
    "example_dist = scipy.stats.randint(2, 9)\n",
    "\n",
    "x = np.arange(0, 10)\n",
    "fig = plt.figure(figsize=(8,8))\n",
    "plt.stem(x, example_dist.pmf(x), label='pmf')\n",
    "plt.plot(x, example_dist.cdf(x), label='cdf')\n",
    "plt.grid(linestyle='--')\n",
    "plt.legend(fontsize='xx-large')"
   ]
  },
  {
   "cell_type": "markdown",
   "id": "df3f89d0-60b1-4194-b204-a87c101d9f8b",
   "metadata": {},
   "source": [
    "## Bayesian estimation example\n",
    "\n",
    "I often see [rabbits](https://en.wikipedia.org/wiki/Eastern_cottontail) in the garden behind my house, but it's not easy to tell them apart, so I don't really know how many there are.\n",
    "\n",
    "Suppose I deploy a motion-sensing [camera trap](https://en.wikipedia.org/wiki/Camera_trap) that takes a picture of the first rabbit it sees each day.  After three days, I compare the pictures and conclude that two of them are the same rabbit and the other is different.\n",
    "\n",
    "How many rabbits visit my garden? --> What is the chance of 4 rabbits visiting my garden? 5 rabbits? 6 rabbits?\n",
    "\n",
    "To answer this question, we have to think about the prior distribution and the likelihood of the data:\n",
    "\n",
    "* I have sometimes seen four rabbits at the same time, so I know there are at least that many.  I would be surprised if there were more than 10.  So, at least as a starting place, I think a uniform prior from 4 to 10 is reasonable.\n",
    "\n",
    "* To keep things simple, let's assume that all rabbits who visit my garden are equally likely to be caught by the camera trap in a given day.  Let's also assume it is guaranteed that the camera trap gets a picture every day."
   ]
  },
  {
   "cell_type": "markdown",
   "id": "be8259f2-e22e-4677-84b1-55a22b948993",
   "metadata": {},
   "source": [
    "1. Setup the prior:"
   ]
  },
  {
   "cell_type": "code",
   "execution_count": 82,
   "id": "0ff888f8-b136-4ae9-8291-4c69cd19038d",
   "metadata": {},
   "outputs": [
    {
     "name": "stdout",
     "output_type": "stream",
     "text": [
      "hypotheses: [ 1  2  3  4  5  6  7  8  9 10]\n",
      "priors: [0.         0.         0.         0.14285714 0.14285714 0.14285714\n",
      " 0.14285714 0.14285714 0.14285714 0.14285714]\n"
     ]
    }
   ],
   "source": [
    "hypotheses = np.arange(1, 11)\n",
    "\n",
    "prior_dist = scipy.stats.randint(4, 11)\n",
    "priors = prior_dist.pmf(hypotheses)\n",
    "\n",
    "print(f\"hypotheses: {hypotheses}\")\n",
    "print(f\"priors: {priors}\")"
   ]
  },
  {
   "cell_type": "markdown",
   "id": "32c075e5-bb6e-45e9-ac8d-9f933b58617a",
   "metadata": {},
   "source": [
    "2. Incorporate data into a likelihood distribution.  Our data is that two rabbits were the same, and the third is different. This means that the probability for capturing the same rabbit can be found by multiplying two probabilities:\n",
    "    1. That the second image is the same rabbit as the first: $1/N$ (uniform probability), where $N$ is the number of rabbits.\n",
    "    2. That the third image is a different rabbit as the first two images: $\\frac{N-1}{N}$ (uniform probability complement).\n",
    "\n",
    "Normally, our data is from experiments, but in this case we have a model that is \"simulated\":"
   ]
  },
  {
   "cell_type": "code",
   "execution_count": 94,
   "id": "4ab7b3a5-124e-4934-876d-c1a325cacde0",
   "metadata": {},
   "outputs": [
    {
     "name": "stdout",
     "output_type": "stream",
     "text": [
      "day 2 likelihoods: [1.         0.5        0.33333333 0.25       0.2        0.16666667\n",
      " 0.14285714 0.125      0.11111111 0.1       ]\n"
     ]
    }
   ],
   "source": [
    "# N = hypotheses\n",
    "day2_likelihoods = (1 / hypotheses)  # day 2 update\n",
    "\n",
    "print(f\"day 2 likelihoods: {day2_likelihoods}\")"
   ]
  },
  {
   "cell_type": "markdown",
   "id": "28ea334a-7871-4450-be9b-6d7ce0c47313",
   "metadata": {},
   "source": [
    "3. Now, perform our Bayesian update:"
   ]
  },
  {
   "cell_type": "code",
   "execution_count": 95,
   "id": "641ef05b-ca48-47c6-a22c-c1232adb72f8",
   "metadata": {},
   "outputs": [
    {
     "name": "stdout",
     "output_type": "stream",
     "text": [
      "day 2 unnormalized posteriors: [0.         0.         0.         0.03571429 0.02857143 0.02380952\n",
      " 0.02040816 0.01785714 0.01587302 0.01428571]\n"
     ]
    }
   ],
   "source": [
    "day2_unnorm_posts = priors * likelihoods\n",
    "print(f\"day 2 unnormalized posteriors: {day2_unnorm_posts}\")"
   ]
  },
  {
   "cell_type": "code",
   "execution_count": 96,
   "id": "f2ba41ea-a62d-470f-a1d9-907c3435439e",
   "metadata": {},
   "outputs": [
    {
     "name": "stdout",
     "output_type": "stream",
     "text": [
      "day 2 posteriors: [0.         0.         0.         0.2281782  0.18254256 0.1521188\n",
      " 0.13038754 0.1140891  0.10141253 0.09127128]\n"
     ]
    }
   ],
   "source": [
    "day2_posteriors = day2_unnorm_posts / day2_unnorm_posts.sum()\n",
    "print(f\"day 2 posteriors: {day2_posteriors}\")"
   ]
  },
  {
   "cell_type": "code",
   "execution_count": 97,
   "id": "992a946d-337c-42d6-a2c8-81ae5388ae8a",
   "metadata": {},
   "outputs": [
    {
     "name": "stdout",
     "output_type": "stream",
     "text": [
      "day 3 posteriors: [0.         0.         0.         0.20673041 0.17640995 0.15313364\n",
      " 0.13500762 0.12059274 0.10889503 0.0992306 ]\n"
     ]
    }
   ],
   "source": [
    "day3_priors = day2_posteriors.copy()\n",
    "day3_likelihoods = (hypotheses - 1) / hypotheses\n",
    "day3_unnorm_posts = day3_priors * day3_likelihoods\n",
    "# print(f\"day 3 unnormalized posteriors: {day3_unnorm_posts}\")\n",
    "\n",
    "day3_posteriors = day3_unnorm_posts / day3_unnorm_posts.sum()\n",
    "print(f\"day 3 posteriors: {day3_posteriors}\")"
   ]
  },
  {
   "cell_type": "markdown",
   "id": "bafeb159-0630-4158-b5a7-5316d045fe6a",
   "metadata": {},
   "source": [
    "Let's plot our posteriors, and see how many numbers of rabbits are likely based on our data:"
   ]
  },
  {
   "cell_type": "code",
   "execution_count": null,
   "id": "5e0b747e-758d-4876-a2f9-f658a7f692eb",
   "metadata": {},
   "outputs": [],
   "source": []
  },
  {
   "cell_type": "markdown",
   "id": "5c77e86a-7a66-44a3-bca0-632f0d3f7af5",
   "metadata": {},
   "source": [
    "Just like with frequentist estimation, we want to know how confident we can be! Enter the Bayesian version of a confidence interval, the 90% **credible interval**, which are the quantities that bound the middle 90% probability, for instance:"
   ]
  },
  {
   "cell_type": "code",
   "execution_count": null,
   "id": "11255485-80cc-48ec-9934-9cdd7dce3a32",
   "metadata": {},
   "outputs": [],
   "source": []
  },
  {
   "cell_type": "code",
   "execution_count": null,
   "id": "afe87923-7023-43fc-b056-045232092ae6",
   "metadata": {},
   "outputs": [],
   "source": []
  },
  {
   "cell_type": "code",
   "execution_count": null,
   "id": "f6d4f0b5-65ab-497f-8aa2-83e00d34fc5f",
   "metadata": {},
   "outputs": [],
   "source": []
  },
  {
   "cell_type": "markdown",
   "id": "03036c40-14db-4cf3-94c3-cb9c47f005ff",
   "metadata": {},
   "source": [
    "**What can we draw from this?**\n",
    "\n",
    "1. Our credible interval is incredibly large.  We probably need more data.\n",
    "2. If we adjust the prior, we will get vastly different posteriors. The prior we have is called an uninformative prior."
   ]
  },
  {
   "cell_type": "code",
   "execution_count": null,
   "id": "86ddc9c9-ee19-4ea8-8386-368740c5f114",
   "metadata": {},
   "outputs": [],
   "source": []
  }
 ],
 "metadata": {
  "kernelspec": {
   "display_name": "Python 3 (ipykernel)",
   "language": "python",
   "name": "python3"
  },
  "language_info": {
   "codemirror_mode": {
    "name": "ipython",
    "version": 3
   },
   "file_extension": ".py",
   "mimetype": "text/x-python",
   "name": "python",
   "nbconvert_exporter": "python",
   "pygments_lexer": "ipython3",
   "version": "3.8.6"
  }
 },
 "nbformat": 4,
 "nbformat_minor": 5
}
