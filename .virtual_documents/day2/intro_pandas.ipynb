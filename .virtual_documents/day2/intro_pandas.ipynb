# import pandas, numpy, matplotlib
import pandas as pd
import numpy as np
import matplotlib.pyplot as plt


def load_dataset(name_of_file: str) -> pd.DataFrame:
    """
    load_dataset(name_of_file) will return a pandas DataFrame of ../as_datasets/{name_of_file}.csv)
    Example:
    - load_dataset("bac"), then it will load ../as_datasets/bac.csv
    """
    return pd.read_csv(f"../as_datasets/{name_of_file}.csv")


df_unemployment = load_dataset("unemployment")


print(df_unemployment)


print(df_unemployment.info())


print(df_unemployment["Value"].describe())


plt.figure()
plt.title("Unemployment rate")
plt.xlabel("Year")
plt.ylabel("Unemployment value %")
plt.plot(df_unemployment["Year"], df_unemployment["Value"])
plt.plot(df_unemployment["Year"], np.ones_like(df_unemployment["Year"]) * df_unemployment["Value"].median())
plt.plot(df_unemployment["Year"], df_unemployment["Value"].mean() * np.ones_like(df_unemployment["Year"]))









