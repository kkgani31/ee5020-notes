### Markdown cell trial

To edit a Markdown cell, double-click the text you would like to edit.  The text will change to a monospaced font.  

Edit this cell to put your name in: 


#This is a comment in python edit this cell here by
#Tying your name into the print() function call.

print('Hello, my name is: Ganesh Anirudh')



template = "Hello, my name is"
Name = "Ganesh Anirudh"
print(template,Name)







