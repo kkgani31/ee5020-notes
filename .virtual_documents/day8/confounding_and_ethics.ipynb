from IPython.display import YouTubeVideo
YouTubeVideo(id="BaETnBzM7yU", width=600, height=300)






