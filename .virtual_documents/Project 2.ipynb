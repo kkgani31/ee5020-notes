import numpy as np
import pandas as pd
import matplotlib.pyplot as plt
import seaborn as sns


dataset = pd.read_csv('project_datasets/computer_gpu.csv')



dataset.head()


dataset.describe()


dataset.head(25)


if dataset.corr()['Workgrp_m']['Runtime'] < 0:
  print ("Inverse Relation")
else:
  print ("No Pattern")


if dataset.corr()['Workgrp_n']['Runtime'] < 0:
  print ("Inverse Relation")
else:
  print ("No Pattern")


if dataset.corr()['Workgrp_k']['Runtime'] < 0:
  print ("Inverse Relation")
else:
  print ("No Pattern")


if dataset.corr()['Local_m']['Runtime'] < 0:
  print ("Inverse Relation")
else:
  print ("No Pattern")


if dataset.corr()['Local_n']['Runtime'] < 0:
  print ("Inverse Relation")
else:
  print ("No Pattern")


if dataset.corr()['Mem_m']['Runtime'] < 0:
  print ("Inverse Relation")
else:
  print ("No Pattern")


if dataset.corr()['Mem_n']['Runtime'] < 0:
  print ("Inverse Relation")
else:
  print ("No Pattern")


if dataset.corr()['Kernel_unroll']['Runtime'] < 0:
  print ("Inverse Relation")
else:
  print ("No Pattern")


if dataset.corr()['VectorWidth_m']['Runtime'] < 0:
  print ("Inverse Relation")
else:
  print ("No Pattern")


if dataset.corr()['VectorWidth_n']['Runtime'] < 0:
  print ("Inverse Relation")
else:
  print ("No Pattern")


if dataset.corr()['Stride_m']['Runtime'] < 0:
  print ("Inverse Relation")
else:
  print ("No Pattern")


if dataset.corr()['Stride_n']['Runtime'] < 0:
  print ("Inverse Relation")
else:
  print ("No Pattern")


if dataset.corr()['Cache_A']['Runtime'] < 0:
  print ("Inverse Relation")
else:
  print ("No Pattern")


if dataset.corr()['Cache_B']['Runtime'] < 0:
  print ("Inverse Relation")
else:
  print ("No Pattern")


from sklearn.linear_model import LinearRegression


dataset.dropna(how='all',inplace=True)


X = np.array([[dataset["Workgrp_m"],dataset['Workgrp_n'],dataset['Workgrp_k'],dataset["Local_m"],dataset["Local_n"],dataset["Mem_m"],dataset["Mem_n"],dataset['Kernel_unroll'],dataset['VectorWidth_m'],dataset['VectorWidth_n'],dataset["Stride_m"]
    ,dataset["Stride_n"],dataset['Cache_A'],dataset['Cache_B']]])


Y = np.array(dataset["Runtime"].values.tolist())


X.shape


Y.shape


X = X.reshape(X.shape[1:])


X = X.transpose()


X.shape


reg = LinearRegression().fit(X, Y)


reg.score(X, Y)


reg.predict(np.array([16,16,16,8,8,8,8,2,1,1,0,0,0,1]).reshape(1,-1))




