import pandas as pd
import seaborn as sns
import numpy as np
import matplotlib.pyplot as plt



HOFdata = pd.read_csv('as_datasets/hof.csv') 


def cin_subsample_dataframe(df_input: pd.DataFrame, cin: int) -> pd.DataFrame:
    last_two_digits = cin%100
    selection_value = last_two_digits//4
    selection_vector = np.arange(0, len(df_input),selection_value)
    return df_input.iloc[selection_vector]


hof_subsample=cin_subsample_dataframe(HOFdata,401975311)
hof_subsample.head()


hof_subsample['Hits'].mean()


int(len(hof_subsample.loc[(hof_subsample['Hits'] > hof_subsample['Hits'].mean()) & (hof_subsample['HOF'] == 1)]))



print(len(hof_subsample.loc[(hof_subsample['Hits'] <= hof_subsample['Hits'].mean()) & (hof_subsample['HOF'] == 1)]))


print(len(hof_subsample.loc[hof_subsample['HOF'] == 1]))


print(len(hof_subsample.loc[(hof_subsample['Hits'] > hof_subsample['Hits'].mean()) & (hof_subsample['HOF'] == 0)]))


print(len(hof_subsample.loc[(hof_subsample['Hits'] <= hof_subsample['Hits'].mean()) & (hof_subsample['HOF'] == 0)]))


print(len(hof_subsample.loc[hof_subsample['HOF'] == 0]))





BACdata = pd.read_csv('as_datasets/bac.csv')    


CAFdata = pd.read_csv('as_datasets/caffeine.csv')


CAFdata





RENTdata = pd.read_csv('as_datasets/rent.csv')


RENTdata


GPAdata = pd.read_csv('as_datasets/gpa.csv')


GPAdata



