import pandas as pd
import seaborn as sns
import numpy as np
import matplotlib.pyplot as plt


HOFdata = pd.read_csv('as_datasets/hof.csv') 


def cin_subsample_dataframe(df_input: pd.DataFrame, cin: int) -> pd.DataFrame:
    last_two_digits = cin % 100
    selection_value = last_two_digits // 4
    selection_vector = np.arange(0, len(df_input), selection_value)
    return df_input.iloc[selection_vector]


hof_subsample=cin_subsample_dataframe(HOFdata,401975311)
hof_subsample


hof_subsample.describe()


hof_subsample.hist(figsize=(12,7))


plt.figure()
sns.histplot(hof_subsample['Hits'])

plt.figure()
sns.histplot(hof_subsample['HOF'], discrete=True)


hof_subsample['Hits'].mean()


print(len(hof_subsample.loc[(hof_subsample['Hits'] > hof_subsample['Hits'].mean()) & (hof_subsample['HOF'] == 1)]))


print(len(hof_subsample.loc[(hof_subsample['Hits'] <= hof_subsample['Hits'].mean()) & (hof_subsample['HOF'] == 1)]))


print(len(hof_subsample.loc[hof_subsample['HOF'] == 1]))


print(len(hof_subsample.loc[(hof_subsample['Hits'] > hof_subsample['Hits'].mean()) & (hof_subsample['HOF'] == 0)]))


print(len(hof_subsample.loc[(hof_subsample['Hits'] <= hof_subsample['Hits'].mean()) & (hof_subsample['HOF'] == 0)]))


print(len(hof_subsample.loc[hof_subsample['HOF'] == 0]))


BACdata = pd.read_csv('as_datasets/bac.csv')    


BACdata.head()


BACdata.info()


BACdata[BACdata['PASS']==0]['BAC'].max(),BACdata[BACdata['PASS']==0]['BAC'].min()


BACdata[BACdata['PASS']==1]['BAC'].max(),BACdata[BACdata['PASS']==1]['BAC'].min()


CAFdata = pd.read_csv('as_datasets/Caffeine.csv')


CAFdata.head()


CAFdata.shape


#ATHELETE 9 HAS THE HIGHEST CONCENTRATION
CAFdata
CAFdata.plot(kind='Bar')


mean_5mg=CAFdata['mg5'].mean()
mean_13mg=CAFdata['mg13'].mean()
print('mean endurance of atheletes when using 5mg is', mean_5mg)
print('mean endurance of atheletes when using 13mg is',mean_13mg)


# As seen from the above plot it clear indicates some better endurance with higher concertration
#mean endurance of 13mg is higher than 5mg
#the outlier is athelete 9


RENTdata = pd.read_csv('as_datasets/rent.csv')


RENTdata.head()


RENTdata.shape


RENTdata.describe()


#CALCULATED AVG TO CHECK PRICES OF EACH CITY
RENTdata.mean()


#By Calculating Avg Prices of Apartments we can find that Tucson & Orlando has almost similar prices


df4 = RENTdata.mean()


RENTdata[['Santa Monica CA','Boise ID','Tucson AZ','Detroit MI','Pittsburgh PA','Orlando FL']].plot(kind='density')
plt.xlabel('df4')
plt.rcParams["figure.figsize"] = (30, 15)
plt.show()



sns.histplot(data=RENTdata)





GPAdata = pd.read_csv('as_datasets/gpa.csv')


GPAdata.shape


# splitting dataframe by row index
GPA_1 = GPAdata.iloc[:8,:]
GPA_2 = GPAdata.iloc[9:16,:]
GPA_3 = GPAdata.iloc[17:25,:]
GPA_4 = GPAdata.iloc[26:,:]
#distuburted according to give perceticle(quater)


#TOP 25% PERCENT OF PEOPLE
GPA_1.mean()


#25 - 50% of PEOPLE 
GPA_2.mean()


#50 - 75% OF PEOPLE
GPA_3.mean()


#75 - 100% OF PEOPLE 
GPA_4.mean()


print(np.mean(GPA_1))
print(np.mean(GPA_2))
print(np.mean(GPA_3))
print(np.mean(GPA_4))


#75-100% People has Highest 
#we can clear see there is  no difference in gpa according their hieghts 
