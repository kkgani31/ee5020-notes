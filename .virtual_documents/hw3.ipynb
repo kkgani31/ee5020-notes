import pandas as pd
import numpy as np
import matplotlib.pyplot as plt
import seaborn as sns


HOFdata = pd.read_csv('as_datasets/hof.csv') 
HOFdata.head()


def cin_subsample_dataframe(df_input: pd.DataFrame, cin: int) -> pd.DataFrame:
    last_two_digits = cin%100
    selection_value = last_two_digits//4
    selection_vector = np.arange(0, len(df_input),selection_value)
    return df_input.iloc[selection_vector]


hof_subsample=cin_subsample_dataframe(HOFdata,401975311)
hof_subsample.head()


hof_subsample.describe()


def cin_subsample_dataframe(df_input: pd.DataFrame, cin: int) -> pd.DataFrame:
    last_two_digits = cin%100
    selection_value = last_two_digits//4
    selection_vector = np.arange(0, len(df_input),selection_value)
    return df_input.iloc[selection_vector]


hof_subsample=cin_subsample_dataframe(HOFdata,401975311)
hof_subsample.head()


hof_subsample.describe()


def cin_subsample_dataframe(df_input: pd.DataFrame, cin: int) -> pd.DataFrame:
    last_two_digits = cin%100
    selection_value = last_two_digits//4
    selection_vector = np.arange(0, len(df_input),selection_value)
    return df_input.iloc[selection_vector]


hof_subsample=cin_subsample_dataframe(HOFdata,401975311)
hof_subsample.head()


hof_subsample.describe()






