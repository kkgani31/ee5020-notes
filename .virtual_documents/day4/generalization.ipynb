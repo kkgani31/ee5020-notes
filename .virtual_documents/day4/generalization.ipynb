import numpy as np
import pandas as pd
import matplotlib.pyplot as plt
import seaborn as sns


def z_score(data_mean: float, data_length: int, null_mean: float) -> float:
    """
    Return the Z-score (standardized statistic) given mean of the data,
      length of the data, and the mean of the null hypothesis.
      Higher Z-scores (greater than 2.0) indicate a more likely 
      significance of the alternative hypothesis.
    """
    null_std = np.sqrt(null_mean * (1 - null_mean) / data_length)
    z_1 = (data_mean - null_mean) / null_std
    return z_1


print(f'Z-score where null_mean == data_mean: {z_score(0.5, 100, 0.5)}')
print(f'Z-score where null_mean != data_mean: {z_score(0.7, 100, 0.5)}')


"""
Looking for P(D|T) (true positive probability).

P(D) = 1/1000
P(T|D) = 0.96
P(T|~D) = 0.02

P(~D) = 1 - P(D)
P(D|T) = {P(T|D) * P(D)} / {P(T|D) * P(D) + P(T|~D) * P(~D)}
"""


def bayes_theorem(prob_A: float, prob_B_given_A: float, prob_B_given_not_A: float) -> float:
    """
    Calculate P(A|B) given P(A), P(B|A), and P(B|~A) using Bayes' Theorem.
    """
    prob_not_A = 1 - prob_A
    top_fraction = prob_B_given_A * prob_A
    bottom_fraction = (prob_B_given_A * prob_A) + (prob_B_given_not_A * prob_not_A)
    prob_A_given_B = top_fraction / bottom_fraction
    return prob_A_given_B


bayes_theorem(1/1000, 0.96, 0.02)


def discrete_rv_mean(series_X: pd.Series, series_pX: pd.Series) -> float:
    """
    Given series of series_X and series_pX representing
      columns X and p(X), calculate the mean assuming a
      discrete random variable X.
    """
    mean = np.sum(series_X * series_pX)
    return mean


weekly_earnings = {
    "X": [0, 100, 150],
    "pX": [0.2, 0.7, 0.1]
}

# for key, value in weekly_earnings.items():
#     print(f'key: {key}')
#     print(f'value: {value}')

df_weekly_earnings = pd.DataFrame.from_dict(weekly_earnings)

df_weekly_earnings.head()


discrete_rv_mean(df_weekly_earnings['X'], df_weekly_earnings['pX'])


plt.plot(df_weekly_earnings['X'], df_weekly_earnings['pX'])


def discrete_rv_variance(series_X: pd.Series, series_pX: pd.Series) -> float:
    """
    Given series of series_X and series_pX representing
      columns X and p(X), calculate the variance assuming a
      discrete random variable X.
    """
    mu = discrete_rv_mean(series_X, series_pX)
    variance = np.sum(np.square(series_X - mu) * series_pX)
    return variance


def discrete_rv_stdev(series_X: pd.Series, series_pX: pd.Series) -> float:
    """
    Given series of series_X and series_pX representing
      columns X and p(X), calculate the std. dev. assuming a
      discrete random variable X.
    """
    stdev = np.sqrt(discrete_rv_variance(series_X, series_pX))
    return stdev


discrete_rv_variance(df_weekly_earnings['X'], df_weekly_earnings['pX'])


discrete_rv_stdev(df_weekly_earnings['X'], df_weekly_earnings['pX'])






