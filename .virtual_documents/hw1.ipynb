# import pandas, numpy, matplotlib,seaborn
import pandas as pd
import matplotlib.pyplot as plt
import seaborn as sns
import numpy as np




HOFdata = pd.read_csv('as_datasets/hof.csv')
HOFdata.head()


HOFdata.describe()


def cin_subsample_dataframe(df_input: pd.DataFrame, cin: int):
    last_two_digits = cin%100
    selection_value = last_two_digits//4
    selection_vector = np.arange(0, len(df_input),selection_value)
    return df_input.iloc[selection_vector]


hof_subsample=cin_subsample_dataframe(HOFdata,401975311)


hof_subsample.describe()


hof_subsample.hist(figsize=(12,7))


sns.histplot(HOFdata,shrink = 0.9)


hof_subsample['Hits'].mean()


print(len(hof_subsample.loc[(hof_subsample['Hits'] > hof_subsample['Hits'].mean()) & (hof_subsample['HOF'] == 1)]))


print(len(hof_subsample.loc[(hof_subsample['Hits'] <= hof_subsample['Hits'].mean()) & (hof_subsample['HOF'] == 1)]))


print(len(hof_subsample.loc[hof_subsample['HOF'] == 1]))


print(len(hof_subsample.loc[(hof_subsample['Hits'] > hof_subsample['Hits'].mean()) & (hof_subsample['HOF'] == 0)]))


print(len(hof_subsample.loc[(hof_subsample['Hits'] <= hof_subsample['Hits'].mean()) & (hof_subsample['HOF'] == 0)]))


print(len(hof_subsample.loc[hof_subsample['HOF'] == 0]))



