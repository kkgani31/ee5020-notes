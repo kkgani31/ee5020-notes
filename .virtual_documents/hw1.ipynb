import pandas as pd
import matplotlib.pyplot as plt
import seaborn as sns
import numpy as np

df_hof = pd.read_csv(".../as_datasets.csv/hof.csv")
print(df_hof.head())

hof_mean = df_hof ["hof"].mean()
hof_std = df_hof ["hof"].std()







df_hof = pd.read_csv(".../as_datasets.csv/hof.csv")
print(df_hof.head())

hof_mean = df_hof ["HOF"].mean()
hof_std = df_hof ["HOF"].std()






















