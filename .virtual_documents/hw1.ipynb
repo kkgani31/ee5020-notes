import pandas as pd
import matplotlib.pyplot as plt
import seaborn as sns
import numpy as np

def load_dataset(name_of_file: str) -> pd.DataFrame:
    """
    load_dataset(name_of_file) will return a pandas DataFrame of ../as_datasets/{name_of_file}.csv)
    Example:
    - load_dataset("bac"), then it will load ../as_datasets/bac.csv
    """
    return pd.read_csv(f"../as_datasets/{name_of_file}.csv")

























