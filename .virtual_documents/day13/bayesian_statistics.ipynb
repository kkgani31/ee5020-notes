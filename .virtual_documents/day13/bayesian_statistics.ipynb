import pandas as pd

df_cookies = pd.DataFrame(index=['B1', 'B2'])


from fractions import Fraction

df_cookies['prior'] = Fraction(1, 2), Fraction(1, 2)  # assumption for bowls
df_cookies


df_cookies['likelihood'] = Fraction(30, 40), Fraction(20, 40)
df_cookies


df_cookies['unnorm_post'] = df_cookies['prior'] * df_cookies['likelihood']
df_cookies


df_cookies['posterior'] = df_cookies['unnorm_post'] / df_cookies['unnorm_post'].sum()
df_cookies


df_monty = pd.DataFrame(index=['D1', 'D2', 'D3'])
df_monty['priors'] = Fraction(1, 3)
df_monty


df_monty['likelihoods'] = Fraction(1, 2), 1, 0
df_monty


df_monty['unnorm_posts'] = df_monty['priors'] * df_monty['likelihoods']
df_monty['posteriors'] = df_monty['unnorm_posts'] / df_monty['unnorm_posts'].sum()
df_monty


import scipy.stats

# modeling bananas in a bunch: 2 to 8 bananas, uniformly possible
example_dist = scipy.stats.randint(2, 9)

x = np.arange(0, 10)
fig = plt.figure(figsize=(8,8))
plt.stem(x, example_dist.pmf(x), label='pmf')
plt.plot(x, example_dist.cdf(x), label='cdf')
plt.grid(linestyle='--')
plt.legend(fontsize='xx-large')


hypotheses = np.arange(1, 11)

prior_dist = scipy.stats.randint(4, 11)
priors = prior_dist.pmf(hypotheses)

print(f"hypotheses: {hypotheses}")
print(f"priors: {priors}")


# N = hypotheses
day2_likelihoods = (1 / hypotheses)  # day 2 update

print(f"day 2 likelihoods: {day2_likelihoods}")


day2_unnorm_posts = priors * likelihoods
print(f"day 2 unnormalized posteriors: {day2_unnorm_posts}")


day2_posteriors = day2_unnorm_posts / day2_unnorm_posts.sum()
print(f"day 2 posteriors: {day2_posteriors}")


day3_priors = day2_posteriors.copy()
day3_likelihoods = (hypotheses - 1) / hypotheses
day3_unnorm_posts = day3_priors * day3_likelihoods
# print(f"day 3 unnormalized posteriors: {day3_unnorm_posts}")

day3_posteriors = day3_unnorm_posts / day3_unnorm_posts.sum()
print(f"day 3 posteriors: {day3_posteriors}")















