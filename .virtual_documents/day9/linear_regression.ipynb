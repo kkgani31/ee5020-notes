import statsmodels.api
import statsmodels.formula.api
import numpy as np
import pandas as pd
import scipy.stats
import matplotlib.pyplot as plt


df_homes = pd.read_csv('../as_datasets/homes.csv')

print(f"Floor to Price R: {scipy.stats.pearsonr(df_homes['Floor'], df_homes['Price'])}")
print(f"Bed to Price R: {scipy.stats.pearsonr(df_homes['Bed'], df_homes['Price'])}")
print(f"Bath to Price R: {scipy.stats.pearsonr(df_homes['Bath'], df_homes['Price'])}")
print(f"Lot to Price R: {scipy.stats.pearsonr(df_homes['Lot'], df_homes['Price'])}")
print(f"Year to Price R: {scipy.stats.pearsonr(df_homes['Year'], df_homes['Price'])}")
print(f"Gar to Price R: {scipy.stats.pearsonr(df_homes['Gar'], df_homes['Price'])}")

ols_model = statsmodels.formula.api.ols('Price ~ Gar', data=df_homes)
ols_result = ols_model.fit()
print(ols_result.summary())

ols_gar_fig = plt.figure(figsize=(10, 10))
statsmodels.graphics.regressionplots.plot_regress_exog(ols_result, "Gar", fig=ols_gar_fig)
ols_gar_fig.tight_layout(pad=1.0)


df_gpa = pd.read_csv('../as_datasets/gpa.csv')
df_gpa.head()
ols_model = statsmodels.formula.api.ols('gpa ~ height', data=df_gpa)
ols_result = ols_model.fit()
print(ols_result.summary())

ols_height_fig = plt.figure(figsize = (10,10))
statsmodels.graphics.regressionplots.plot_regress_exog(ols_result, "height", fig = ols_height_fig)
ols_height_fig.tight_layout(pad=1.0)


df_cars = pd.read_csv('../as_datasets/Cars.csv')
df_cars.head()
ols_model = statsmodels.formula.api.ols('Quality ~ Speed + Angle', data=df_cars)
ols_result = ols_model.fit()
print(ols_result.summary())

ols_speed_fig = plt.figure(figsize = (10,10))
statsmodels.graphics.regressionplots.plot_regress_exog(ols_result, "Speed", fig = ols_speed_fig)
ols_speed_fig.tight_layout(pad=1.0)

ols_angle_fig = plt.figure(figsize = (10,10))
statsmodels.graphics.regressionplots.plot_regress_exog(ols_result, "Angle", fig = ols_angle_fig)
ols_angle_fig.tight_layout(pad=1.0)


df_homes = pd.read_csv('../as_datasets/homes.csv')

print(f"Floor to Price R: {scipy.stats.pearsonr(df_homes['Floor'], df_homes['Price'])}")
print(f"Bed to Price R: {scipy.stats.pearsonr(df_homes['Bed'], df_homes['Price'])}")
print(f"Bath to Price R: {scipy.stats.pearsonr(df_homes['Bath'], df_homes['Price'])}")
print(f"Lot to Price R: {scipy.stats.pearsonr(df_homes['Lot'], df_homes['Price'])}")
print(f"Year to Price R: {scipy.stats.pearsonr(df_homes['Year'], df_homes['Price'])}")
print(f"Gar to Price R: {scipy.stats.pearsonr(df_homes['Gar'], df_homes['Price'])}")

ols_model = statsmodels.formula.api.ols('Price ~ Gar + Year + Lot + Bed + Bath', data=df_homes)
ols_result = ols_model.fit()
print(ols_result.summary())

for predictor in ['Gar', 'Year', 'Lot', 'Bed', 'Bath']:
    ols_fig = plt.figure(figsize=(10, 10))
    statsmodels.graphics.regressionplots.plot_regress_exog(ols_result, predictor, fig=ols_fig)
    ols_fig.tight_layout(pad=1.0)


df_heating = pd.read_csv('../as_datasets/Heating.csv')
df_heating.head()


df_heating_binarized = pd.get_dummies(df_heating['Season'])
print(df_heating_binarized.head())

df_heating_final = pd.concat([df_heating, df_heating_binarized], axis=1)
print(df_heating_final.head())


heating_ols_model = statsmodels.formula.api.ols('Expense ~ Period + fall + spring + summer + winter', 
                                                data=df_heating_final)
heating_ols_result = heating_ols_model.fit()
print(heating_ols_result.summary())


df_heating_final['Expense'].plot()



