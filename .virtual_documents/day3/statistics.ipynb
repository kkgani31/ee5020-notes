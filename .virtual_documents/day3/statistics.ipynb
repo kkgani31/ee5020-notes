import pandas as pd
import seaborn as sns
import numpy as np
import matplotlib.pyplot as plt


df_bac = pd.read_csv("../as_datasets/bac.csv")
print(df_bac.head())


# rename the column "PASS" to "sobriety_test_pass", since that's what it means.
df_bac['sobriety_test_pass'] = df_bac['PASS']


# make some columns we care about, we have to convert booleans to numbers
df_bac['truly_legal'] = (df_bac['BAC'] < 0.08).astype('int')
df_bac['sobriety_test_correct'] = (df_bac['truly_legal'] == df_bac['sobriety_test_pass']).astype('int')

# if we pulled over correctly, then it's the inverse of truly_legal
df_bac['pulled_over_correctly'] = 1 - df_bac['truly_legal']

# overwrite the dataframe with one that we prefer, with a list of columns
df_bac = df_bac[['BAC', 'sobriety_test_pass', 'truly_legal', 
                 'sobriety_test_correct', 'pulled_over_correctly']]  

print(df_bac.head())
print(df_bac['BAC'].describe())
print(df_bac['sobriety_test_pass'].describe())
print(df_bac['truly_legal'].describe())
print(df_bac['sobriety_test_correct'].describe())
print(df_bac['pulled_over_correctly'].describe())


plt.figure()
sns.histplot(df_bac['BAC'])

plt.figure()
sns.histplot(df_bac['sobriety_test_pass'])

plt.figure()
sns.histplot(df_bac['truly_legal'])

plt.figure()
sns.histplot(df_bac['sobriety_test_correct'])

plt.figure()
sns.histplot(df_bac['pulled_over_correctly'])


proportion_pulled_correct = sum(df_bac['pulled_over_correctly'] == 1.0) / df_bac['pulled_over_correctly'].count()
proportion_pulled_wrong = 1.0 - proportion_pulled_correct
print(f'The proportion pulled over correctly: {proportion_pulled_correct}')
print(f'The proportion pulled over incorrectly: {proportion_pulled_wrong}')

proportion_test_correct = sum(df_bac['sobriety_test_correct'] == 1.0) / df_bac['sobriety_test_correct'].count()
proportion_test_wrong = 1.0 - proportion_test_correct
print(f'The proportion sobriety test correct: {proportion_test_correct}')
print(f'The proportion sobriety test incorrect: {proportion_test_wrong}')


pulled_mean = df_bac['pulled_over_correctly'].mean()  # model sample mean
null_mean = 0.5  # chance model, that randomly pulling over will give a drunk driver
null_std = np.sqrt(null_mean * (1 - null_mean) / df_bac['pulled_over_correctly'].count())

z_1 = (pulled_mean - null_mean) / null_std
print(f"Z-score for difference of police officers' intuition and random chance: {z_1}")



test_correct_mean = df_bac['sobriety_test_correct'].mean()
null_mean = 0.5  # chance model, that it can go either way
null_std = np.sqrt(null_mean * (1 - null_mean) / df_bac['sobriety_test_correct'].count())

z_1 = (test_correct_mean - null_mean) / null_std
print(f'Z-score for difference between the sobriety test and random chance: {z_1}')

