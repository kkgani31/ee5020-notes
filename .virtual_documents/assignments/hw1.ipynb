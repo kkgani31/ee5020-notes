import pandas as pd
import matplotlib.pyplot as plt
import seaborn as sns
import numpy as np


df_hof = pd.read_csv('../as_datasets/hof.csv')


df_hof.describe()


def cin_subsample_dataframe(df_input: pd.DataFrame, cin: int) -> pd.DataFrame:
    """
    Returns subsampled dataframe based on last two digits of cin divided by 4.
    """
    selection_vector = np.arange(0, len(df_input), (cin % 100) // 4)
    return df_input.iloc[selection_vector].copy()


df_subsampled = cin_subsample_dataframe(df_hof, 606066042)
df_subsampled.head()


df_subsampled.describe()


df_subsampled.hist()


plt.figure()
sns.histplot(df_subsampled['Hits'])

plt.figure()
sns.histplot(df_subsampled['HOF'], discrete=True)


random_chance = 0.5

mean_hits = df_subsampled['Hits'].mean()
df_subsampled['Top_hitter'] = (df_subsampled['Hits'] > mean_hits).astype('int')
df_subsampled['Top_hitter_and_hof'] = df_subsampled['Top_hitter'] & df_subsampled['HOF']
df_subsampled.describe()

df_top = df_subsampled[df_subsampled['Top_hitter'] == 1]
print(df_top.describe())

df_top_hof = df_subsampled[df_subsampled['Top_hitter_and_hof'] == 1]
print(df_top_hof.describe())



