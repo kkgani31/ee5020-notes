{
 "cells": [
  {
   "cell_type": "markdown",
   "id": "7a364bd5-a9ef-4b5a-9f41-30f34d368de1",
   "metadata": {},
   "source": [
    "# Lesson: Probability, Generalization, and Inference"
   ]
  },
  {
   "cell_type": "markdown",
   "id": "50855130-26e5-4013-9db2-9b3ea87732a5",
   "metadata": {},
   "source": [
    "## Quick Python Review\n",
    "\n",
    "Write functions to create reusable code:"
   ]
  },
  {
   "cell_type": "code",
   "execution_count": null,
   "id": "9d2a72f5-1d85-4a5b-b066-fce9efce25ac",
   "metadata": {},
   "outputs": [],
   "source": [
    "import numpy as np\n",
    "import pandas as pd\n",
    "import matplotlib.pyplot as plt\n",
    "import seaborn as sns"
   ]
  },
  {
   "cell_type": "code",
   "execution_count": null,
   "id": "2727956d-f39d-4cfe-b944-c6c132b1b5d3",
   "metadata": {},
   "outputs": [],
   "source": [
    "def z_score(data_mean: float, data_length: int, null_mean: float) -> float:\n",
    "    \"\"\"\n",
    "    Return the Z-score (standardized statistic) given mean of the data,\n",
    "      length of the data, and the mean of the null hypothesis.\n",
    "      Higher Z-scores (greater than 2.0) indicate a more likely \n",
    "      significance of the alternative hypothesis.\n",
    "    \"\"\"\n",
    "    null_std = np.sqrt(null_mean * (1 - null_mean) / data_length)\n",
    "    z_1 = (data_mean - null_mean) / null_std\n",
    "    return z_1"
   ]
  },
  {
   "cell_type": "code",
   "execution_count": null,
   "id": "7781bcd8-b433-44f4-8012-eaca6e7c92c4",
   "metadata": {},
   "outputs": [],
   "source": [
    "print(f'Z-score where null_mean == data_mean: {z_score(0.5, 100, 0.5)}')\n",
    "print(f'Z-score where null_mean != data_mean: {z_score(0.7, 100, 0.5)}')"
   ]
  },
  {
   "cell_type": "markdown",
   "id": "8a46fa1f-24a4-4c7c-aabf-3534384bb8f8",
   "metadata": {},
   "source": [
    "## Bayes' Theorem (PA 3.5.1)\n",
    "\n",
    "Relates the probability of event $A$ given a condition $B$ to the probability of the condition $B$ given that the event $A$ occurred.  Enables $P(B|A)$ to be calculated from $P(A|B)$.\n",
    "\n",
    "$P(A|B) = \\frac{P(B|A) P(A)}{P(B)} = \\frac{P(B|A) P(A)}{P(B|A) P(A) + P(B|\\bar{A}) P(\\bar{A})}$\n",
    "\n",
    "Let's practice writing a function for Bayes' Theorem and test it using the following example:\n",
    "\n",
    "Suppose that $1$ out of every $1000$ computer chips produced by a chip manufacturer has a defect. The manufacturer has developed a method to test the chips, but the test is not perfect. If the chip has a defect, the test will correctly discover the defect with probability $0.96$. If the chip does not have a defect, the test will incorrectly report that the chip has a defect with probability $0.02$.\n",
    "\n",
    "Let $D$ be the event that a chip is defective. Let $T$ be the event that a test indicates a defect. If a particular test indicates a defect, what is the probability that the chip is actually defective?\n",
    "\n",
    "What parameters should our function have?"
   ]
  },
  {
   "cell_type": "code",
   "execution_count": null,
   "id": "df49eabd-e99b-4234-8333-3b61c78608e7",
   "metadata": {},
   "outputs": [],
   "source": [
    "\"\"\"\n",
    "Looking for P(D|T) (true positive probability).\n",
    "\n",
    "P(D) = 1/1000\n",
    "P(T|D) = 0.96\n",
    "P(T|~D) = 0.02\n",
    "\n",
    "P(~D) = 1 - P(D)\n",
    "P(D|T) = {P(T|D) * P(D)} / {P(T|D) * P(D) + P(T|~D) * P(~D)}\n",
    "\"\"\"\n",
    "\n",
    "\n",
    "def bayes_theorem(prob_A: float, prob_B_given_A: float, prob_B_given_not_A: float) -> float:\n",
    "    \"\"\"\n",
    "    Calculate P(A|B) given P(A), P(B|A), and P(B|~A) using Bayes' Theorem.\n",
    "    \"\"\"\n",
    "    prob_not_A = 1 - prob_A\n",
    "    top_fraction = prob_B_given_A * prob_A\n",
    "    bottom_fraction = (prob_B_given_A * prob_A) + (prob_B_given_not_A * prob_not_A)\n",
    "    prob_A_given_B = top_fraction / bottom_fraction\n",
    "    return prob_A_given_B\n",
    "\n",
    "\n",
    "bayes_theorem(1/1000, 0.96, 0.02)"
   ]
  },
  {
   "cell_type": "markdown",
   "id": "ea038808-2a58-489d-b28f-c0da9235813a",
   "metadata": {},
   "source": [
    "## Random Variables\n",
    "\n",
    "Continuous random variables: measurements that are real numbers.\n",
    "\n",
    "Discrete random variable: countable number of distinct integral values.\n",
    "\n",
    "### Mean of discrete random variable\n",
    "The mean (expected value) of discrete random variable $X$ is defined as: $\\mu = E(X) = \\sum(X \\cdot p(X))$.\n",
    "\n",
    "Let's make a function that accepts a dataframe with columns $X$ and $p(X)$ and returns the mean. "
   ]
  },
  {
   "cell_type": "code",
   "execution_count": null,
   "id": "ea5e9940-86a8-4749-9a36-68df9bc140ae",
   "metadata": {},
   "outputs": [],
   "source": [
    "def discrete_rv_mean(series_X: pd.Series, series_pX: pd.Series) -> float:\n",
    "    \"\"\"\n",
    "    Given series of series_X and series_pX representing\n",
    "      columns X and p(X), calculate the mean assuming a\n",
    "      discrete random variable X.\n",
    "    \"\"\"\n",
    "    mean = np.sum(series_X * series_pX)\n",
    "    return mean"
   ]
  },
  {
   "cell_type": "markdown",
   "id": "fc7ed301-564f-416d-9669-0fd56ffbabd0",
   "metadata": {},
   "source": [
    "Now, let's use it to solve the following problem:\n",
    "\n",
    "Grace earns money testing websites. Let $X$ represent Grace's weekly earnings. Given the amount of time Grace has available to work each week, Grace estimates that the probability of earning \\\\$0 a week is 20\\%, of \\\\$100 is 70\\%, and of \\\\$150 is 10\\%. What is the mean of $X$?"
   ]
  },
  {
   "cell_type": "code",
   "execution_count": null,
   "id": "3e349d56-856d-4570-8753-a41813fc9359",
   "metadata": {},
   "outputs": [],
   "source": [
    "weekly_earnings = {\n",
    "    \"X\": [0, 100, 150],\n",
    "    \"pX\": [0.2, 0.7, 0.1]\n",
    "}\n",
    "\n",
    "# for key, value in weekly_earnings.items():\n",
    "#     print(f'key: {key}')\n",
    "#     print(f'value: {value}')\n",
    "\n",
    "df_weekly_earnings = pd.DataFrame.from_dict(weekly_earnings)\n",
    "\n",
    "df_weekly_earnings.head()"
   ]
  },
  {
   "cell_type": "code",
   "execution_count": null,
   "id": "d1f46265-6e50-4007-8ac1-e6f87870a6f7",
   "metadata": {},
   "outputs": [],
   "source": [
    "discrete_rv_mean(df_weekly_earnings['X'], df_weekly_earnings['pX'])"
   ]
  },
  {
   "cell_type": "code",
   "execution_count": null,
   "id": "03368f7f-548d-4680-bb02-e5fe2965e3db",
   "metadata": {},
   "outputs": [],
   "source": [
    "plt.plot(df_weekly_earnings['X'], df_weekly_earnings['pX'])"
   ]
  },
  {
   "cell_type": "markdown",
   "id": "0b051dcf-e23b-4b34-8f29-47ee4901be0c",
   "metadata": {},
   "source": [
    "### Variance and standard deviation of a discrete random variable\n",
    "\n",
    "Variance: $\\sigma^2 = V(X) = \\sum((x - \\mu)^2 \\cdot p(x))$\n",
    "\n",
    "Standard deviation: $\\sigma = \\sqrt{\\sigma^2}$\n",
    "\n",
    "Write a function that calls your previous function of calculating $\\mu$ to find $\\sigma$, again based on a dataframe that accepts columns $X$ and $p(X)$:"
   ]
  },
  {
   "cell_type": "code",
   "execution_count": null,
   "id": "7f3cf728-13d2-477b-b50f-150e48dc4a22",
   "metadata": {},
   "outputs": [],
   "source": [
    "def discrete_rv_variance(series_X: pd.Series, series_pX: pd.Series) -> float:\n",
    "    \"\"\"\n",
    "    Given series of series_X and series_pX representing\n",
    "      columns X and p(X), calculate the variance assuming a\n",
    "      discrete random variable X.\n",
    "    \"\"\"\n",
    "    mu = discrete_rv_mean(series_X, series_pX)\n",
    "    variance = np.sum(np.square(series_X - mu) * series_pX)\n",
    "    return variance\n",
    "\n",
    "\n",
    "def discrete_rv_stdev(series_X: pd.Series, series_pX: pd.Series) -> float:\n",
    "    \"\"\"\n",
    "    Given series of series_X and series_pX representing\n",
    "      columns X and p(X), calculate the std. dev. assuming a\n",
    "      discrete random variable X.\n",
    "    \"\"\"\n",
    "    stdev = np.sqrt(discrete_rv_variance(series_X, series_pX))\n",
    "    return stdev"
   ]
  },
  {
   "cell_type": "markdown",
   "id": "5eac82ea-41c3-4d08-912e-e0acb571413f",
   "metadata": {},
   "source": [
    "Now, test it using the problem above regarding Grace the website tester:"
   ]
  },
  {
   "cell_type": "code",
   "execution_count": null,
   "id": "2336abde-4a9e-4936-8adc-3098cf02e14e",
   "metadata": {},
   "outputs": [],
   "source": [
    "discrete_rv_variance(df_weekly_earnings['X'], df_weekly_earnings['pX'])"
   ]
  },
  {
   "cell_type": "code",
   "execution_count": null,
   "id": "7340bb72-9719-4bb9-8122-01c94852b42a",
   "metadata": {},
   "outputs": [],
   "source": [
    "discrete_rv_stdev(df_weekly_earnings['X'], df_weekly_earnings['pX'])"
   ]
  },
  {
   "cell_type": "markdown",
   "id": "56ab1642-89a0-4118-8ce9-10289091c5a1",
   "metadata": {},
   "source": [
    "### Using `scipy.stats` instead of writing your own functions\n",
    "\n",
    "You can actually just use `rv_discrete` objects in the `scipy.stats` library to represent discrete random variables (likewise `rv_continuous` for continuous random variables).  Here's the above examples using `rv_discrete`'s `mean()`, `var()`, and `std()` functions."
   ]
  },
  {
   "cell_type": "code",
   "execution_count": 17,
   "id": "fc0402c4-ad73-4b0d-b048-77d0cb42df40",
   "metadata": {},
   "outputs": [
    {
     "data": {
      "text/plain": [
       "(array(4.5), array(8.25))"
      ]
     },
     "execution_count": 17,
     "metadata": {},
     "output_type": "execute_result"
    }
   ],
   "source": [
    "import scipy.stats\n",
    "\n",
    "rv_discrete_uniform = scipy.stats.randint(0, 10)\n",
    "x = np.arange(0, 11)\n",
    "rv_discrete_uniform.stats()"
   ]
  },
  {
   "cell_type": "markdown",
   "id": "b171eed1-90c6-440a-98da-17b6800c8e2d",
   "metadata": {
    "jp-MarkdownHeadingCollapsed": true,
    "tags": []
   },
   "source": [
    "## Checking distributions in `scipy.stats`\n",
    "\n",
    "Once you finally have data from your physical model, one way to start building statistical models is to select a distribution closest to the data, given parameter values.  The shape, mean, variance, and standard deviation of your measurements (or counts) will fit some type of distribution.\n",
    "\n",
    "The `scipy.stats` library has many distributions available (continuous, multivariate, and discrete) for you to help statistically model your problem at hand."
   ]
  },
  {
   "cell_type": "markdown",
   "id": "ecfeefea-7e96-40bf-b8c6-e4d1097ba266",
   "metadata": {},
   "source": [
    "## Continuous random variables\n",
    "\n",
    "We'll cover continuous random variables, which are generally much more interesting for us, since we can apply them almost everywhere in data-driven engineering.\n",
    "\n",
    "![image of pdf and cdf](continuous_cdf_pdf.png)\n",
    "\n",
    "1. What is the pdf (probability distribution function) of a continuous RV?\n",
    "2. What is the cdf (cumulative distribution function) of a continuous RV?\n",
    "3. What is the relationship between the pdf $f(x)$ and cdf $F(x)$?"
   ]
  },
  {
   "cell_type": "code",
   "execution_count": null,
   "id": "260288b4-6f0c-4e88-91a6-726d1a6ced6e",
   "metadata": {},
   "outputs": [],
   "source": []
  },
  {
   "cell_type": "markdown",
   "id": "27c4e519-47a9-41db-92ed-e68a5b99485c",
   "metadata": {},
   "source": [
    "### Properties of continuous random variables\n",
    "\n",
    "- **mean** $\\mu$ or expected value $E(X)$ of continuous RV $X$: $E(X) = \\int_a^b x f(x) dx$\n",
    "- **variance** $\\sigma^2$ of continuous RV $X$: $Var(X) = E((X - \\mu)^2)$\n",
    "- **standard deviation** $\\sigma$ of continuous RV $X$: $Std(X) = \\sqrt{Var(X)}$"
   ]
  },
  {
   "cell_type": "code",
   "execution_count": null,
   "id": "9a611beb-01ed-4cec-9f4d-b5da827e6160",
   "metadata": {},
   "outputs": [],
   "source": []
  },
  {
   "cell_type": "markdown",
   "id": "b9f15624-78ac-4657-8259-c9233f4320e0",
   "metadata": {},
   "source": [
    "### Examples of continuous RV distributions\n",
    "\n",
    "#### Uniform continuous distribution\n",
    "\n",
    "Let's check if we can get the above and that they make sense.  We can use the standard uniform distribution `scipy.stats.uniform` which is represented mathematically as $X \\sim \\text{uniform(0,1)}$:"
   ]
  },
  {
   "cell_type": "code",
   "execution_count": 32,
   "id": "a1f07f80-aabf-4980-a48a-6df30fa2d0f4",
   "metadata": {},
   "outputs": [
    {
     "data": {
      "text/plain": [
       "<matplotlib.legend.Legend at 0x2857e2e1ee0>"
      ]
     },
     "execution_count": 32,
     "metadata": {},
     "output_type": "execute_result"
    },
    {
     "data": {
      "image/png": "[encoded data removed]",
      "text/plain": [
       "<Figure size 432x288 with 1 Axes>"
      ]
     },
     "metadata": {
      "needs_background": "light"
     },
     "output_type": "display_data"
    }
   ],
   "source": [
    "rv_uniform = scipy.stats.uniform()\n",
    "x_sample = np.arange(-1.0, 2.0, 0.001)\n",
    "rv_uniform_pdf = rv_uniform.pdf(x)\n",
    "rv_uniform_cdf = rv_uniform.cdf(x)\n",
    "\n",
    "plt.plot(x_sample, rv_uniform_pdf, label='pdf')\n",
    "plt.plot(x_sample, rv_uniform_cdf, label='cdf')\n",
    "plt.legend()"
   ]
  },
  {
   "cell_type": "markdown",
   "id": "c2474bba-0cff-4622-8271-176e3a5ea4f1",
   "metadata": {},
   "source": [
    "Let's check the mean and the standard deviation of our uniform pdf both manually and using the built-in `.mean()` and `.std()` functions.  Recall that the mean is the weighted sum or weighted integral $\\mu = E(X) = \\int_0^1 x f(x) dx$, where $x$ is some value of $X$ and $f(x)$ is the pdf.\n",
    "\n",
    "We can use `scipy.integrate.quad` to help us compute the definite integral:"
   ]
  },
  {
   "cell_type": "code",
   "execution_count": 44,
   "id": "51f43978-453b-4f35-bb21-045aaf1642bb",
   "metadata": {},
   "outputs": [
    {
     "name": "stdout",
     "output_type": "stream",
     "text": [
      "uniform mean distribution from scipy: 0.5\n",
      "uniform mean integrated: (0.5, 5.551115123125783e-15)\n",
      "(2.833333333333334, 3.1456319031046106e-14)\n",
      "(2.833333333333334, 3.1456319031046106e-14)\n",
      "(5.458333333333334, 6.059967342745647e-14)\n"
     ]
    }
   ],
   "source": [
    "rv_uniform_mean = rv_uniform.mean()\n",
    "print(f'uniform mean distribution from scipy: {rv_uniform_mean}')\n",
    "\n",
    "import scipy.integrate\n",
    "\n",
    "rv_uniform_mean_int = scipy.integrate.quad(lambda x: x * rv_uniform.pdf(x), 0, 1)\n",
    "print(f'uniform mean integrated: {rv_uniform_mean_int}')\n",
    "\n",
    "\n",
    "# Generic f(x) numerical integration example\n",
    "def f_x(x: float) -> float:\n",
    "    return x ** 2 + x / 4 + 5\n",
    "\n",
    "print(scipy.integrate.quad(lambda x: x * f_x(x), 0, 1))\n",
    "print(scipy.integrate.quad(lambda x: x ** 3 + x * x / 4 + 5 * x, 0, 1))\n",
    "print(scipy.integrate.quad(f_x, 0, 1))"
   ]
  },
  {
   "cell_type": "markdown",
   "id": "d1208dc1-eb1b-4444-82b9-0f295ffe5db5",
   "metadata": {},
   "source": [
    "#### Our beloved Normal distribution\n",
    "\n",
    "What is a mode in the context of probability distributions?\n",
    "\n",
    "The normal distribution is represented symbolically as $X \\sim N(\\mu, \\frac{\\sigma}{\\sqrt{n}})$"
   ]
  },
  {
   "cell_type": "code",
   "execution_count": 48,
   "id": "531f37ae-e122-42ba-bd1f-d2bdd4f5e1e9",
   "metadata": {},
   "outputs": [
    {
     "name": "stdout",
     "output_type": "stream",
     "text": [
      "-0.0050000000002132765\n",
      "5.773501970208253\n",
      "(-0.0050000000002132765, 5.773501970208253)\n",
      "(-10.0, 19.989999999999576)\n"
     ]
    }
   ],
   "source": [
    "sample_data = np.arange(-10., 10., 0.01)\n",
    "print(sample_data.mean())\n",
    "print(sample_data.std())\n",
    "print(scipy.stats.norm.fit(sample_data))\n",
    "print(scipy.stats.uniform.fit(sample_data))"
   ]
  },
  {
   "cell_type": "markdown",
   "id": "2ea454a1-1919-4044-9d3f-f38355e3277e",
   "metadata": {},
   "source": [
    "### Generalizing samples with probability distributions\n",
    "\n",
    "#### Central Limit Theorem (frequentist)\n",
    "\n",
    "If we:\n",
    "- assume randomly selected samples\n",
    "- assume sample values independent\n",
    "- assume sample size is large enough\n",
    "- assume sample size is 10% of the total population\n",
    "\n",
    "Then the larger the size of each sample from the population, then the distribution of each sample group's mean approaches the Normal distribution.  The CLT justifies generalizing large-sample statistics to the normal distribution in controlled experiments.\n",
    "\n",
    "We can numerically simulate this by simulating draws from any distribution in `np.random`:"
   ]
  },
  {
   "cell_type": "code",
   "execution_count": null,
   "id": "8a4b396b-0a3a-442a-bbfb-6112a9019b49",
   "metadata": {},
   "outputs": [],
   "source": []
  },
  {
   "cell_type": "code",
   "execution_count": null,
   "id": "0508d507-1e50-40b0-9b04-c64cf259bbc5",
   "metadata": {},
   "outputs": [],
   "source": []
  }
 ],
 "metadata": {
  "kernelspec": {
   "display_name": "Python 3 (ipykernel)",
   "language": "python",
   "name": "python3"
  },
  "language_info": {
   "codemirror_mode": {
    "name": "ipython",
    "version": 3
   },
   "file_extension": ".py",
   "mimetype": "text/x-python",
   "name": "python",
   "nbconvert_exporter": "python",
   "pygments_lexer": "ipython3",
   "version": "3.8.6"
  }
 },
 "nbformat": 4,
 "nbformat_minor": 5
}
