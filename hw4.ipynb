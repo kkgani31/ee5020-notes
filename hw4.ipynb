{
 "cells": [
  {
   "cell_type": "markdown",
   "id": "c79101c9-2565-43ef-91ec-48c1708aa498",
   "metadata": {
    "tags": []
   },
   "source": [
    "# EE 5020 Homework 4: Discrete-event simulation with SimPy and Optimization with SciPy\n",
    "\n",
    "Name: \n",
    "\n",
    "CIN: "
   ]
  },
  {
   "cell_type": "markdown",
   "id": "eadbb6dc-7e5b-4de4-bd5c-da7ea124999a",
   "metadata": {
    "tags": []
   },
   "source": [
    "## Overview\n",
    "\n",
    "In this homework, you will practice applying your mechanistic simulation skills to create models that generate datasets you can analyze and optimize. Like the previous homework, you will answer research questions below with your own Markdown and Python Code cells.\n",
    "\n",
    "## Rubric for this homework\n",
    "\n",
    "**Make sure you write down the statistical reasoning and justification for any Python code cells created.**  The Python code is only there to support you computationally for your simulation and optimization analyses. Additionally, make sure to justify any conclusions you make to answer questions with quantitative reasoning.\n",
    "\n",
    "Grading breakdown:\n",
    "\n",
    "- 25% organization and flow of simulation analysis (including random variable distributions)\n",
    "- 25% correct simulation code\n",
    "- 25% optimization setup (identification of parameters and coding of problem)\n",
    "- 25% correct optimization result\n",
    "\n",
    "**[Click here to watch a video about Academic Dishonesty in the Electrical and Computer Engineering Department](https://calstatela.zoom.us/rec/share/xWIpPJA8P5itIqGmXv5zjDcHfFO5Qi8hjURVGhkZ7adpwfxDas_6Kd6KdhcDTlAk.a2p_HGobNOEEwXNZ?startTime=1633466851000)**\n",
    "\n",
    "**Any cheating or academic dishonesty with this homework will result in an automatic zero grade and referral to the College for discipline, including dismissal from the graduate program.**\n",
    "\n",
    "Please refer to the [Student Handbook](https://www.calstatela.edu/studentconduct/california-code-regulations-standards-student-conduct) for more information."
   ]
  },
  {
   "cell_type": "markdown",
   "id": "59fec8ab-0734-4b1b-af31-bca0884cd8c2",
   "metadata": {
    "tags": []
   },
   "source": [
    "## Global imports\n",
    "\n",
    "Write your imports here so you don't have to write imports below."
   ]
  },
  {
   "cell_type": "code",
   "execution_count": null,
   "id": "8ab98770-ea96-49d8-aa0b-b5331c0f956b",
   "metadata": {},
   "outputs": [],
   "source": []
  },
  {
   "cell_type": "markdown",
   "id": "27ddd42c-b8bf-48af-8771-882074bd5f1e",
   "metadata": {
    "tags": []
   },
   "source": [
    "## Problem 1\n",
    "\n",
    "**Write and discuss the steps to answering the following research question:** We would like to design a [network packet](https://en.wikipedia.org/wiki/Network_packet) routing system. To do so, we will need to define the system and run a simulation so that we can generate data that will be used for optimization of design parameters. Our router will be a bit of a simpler system, so do not worry about any specifics you know about ethernet or telecommunications in general.  The goal of our router is that it will route packets from devices connected to it through to the internet.\n",
    "\n",
    "We'll parameterize our router so that it can accept $\\alpha$ packet routing connections at any time. Assume that packets take $\\beta$ time to be routed through the router. Let's say that each device connected to the router is only willing to wait up to $\\gamma$ time for the packet to be routed to its destination.  Let's also say that our system will allow for prioritization on three levels, so that we can make sure those high-priority packets like those for voice and video calls can route through before lower-priority packets like standard file downloads.  To model our system, let's say that we have $n$ devices on our network connected to the router.  Each device generates $X_v$ videocalling packets, $X_s$ standard priority packets, and $X_l$ low priority packets at an $X_i$ interval.  Higher priority packets will not preempt lower priority packets, but they will be able to jump the queue (`simpy.PriorityResource`).\n",
    "\n",
    "Based on the distributions for the parameters below, what is the average number of packets that make it through the router to the internet, for $n$ = [3, 5, 10, 15]?  All time-related parameters below are in milliseconds. Make sure to set the random seed.\n",
    "- $\\alpha$ = 6\n",
    "- $\\beta$ = exponentially-modified normal continuous random variable at location 1 and scale 1.5\n",
    "- $\\gamma$ = 3\n",
    "- $X_v$ = uniform discrete random variable between [2,10]\n",
    "- $X_s$ = uniform discrete random variable between [2,10]\n",
    "- $X_l$ = uniform discrete random variable between [2,10]\n",
    "- $X_i$ = binomial discrete random variable with n at 10 and p at 0.5"
   ]
  },
  {
   "cell_type": "code",
   "execution_count": null,
   "id": "82007497-4102-4a58-86f8-7cd9d24bc124",
   "metadata": {},
   "outputs": [],
   "source": []
  },
  {
   "cell_type": "code",
   "execution_count": null,
   "id": "66f49168-1188-4307-ae23-1a1486980ebc",
   "metadata": {},
   "outputs": [],
   "source": []
  },
  {
   "cell_type": "code",
   "execution_count": null,
   "id": "dd2c16b4-8815-4415-abb9-ec0771d235f6",
   "metadata": {},
   "outputs": [],
   "source": []
  },
  {
   "cell_type": "code",
   "execution_count": null,
   "id": "31168506-40ad-48d6-9c4f-3b20d37034ec",
   "metadata": {},
   "outputs": [],
   "source": []
  },
  {
   "cell_type": "markdown",
   "id": "f8db30c6-8539-4e8d-a2dc-5c0f7786321a",
   "metadata": {
    "tags": []
   },
   "source": [
    "## Problem 2\n",
    "\n",
    "**Write and discuss the steps to answering the following research question:** Create a function that will automatically run the simulation above given $n$ and return the number of packets that successfully route through. Make sure that the function sets the same random seed inside the function, so that your simulation parameters are consistent across runs. Using `scipy.optimize.minimize_scalar()` ([see reference](https://docs.scipy.org/doc/scipy/reference/generated/scipy.optimize.minimize_scalar.html#scipy.optimize.minimize_scalar)), what is the value of $n$ (number of devices on the network) that results in the highest number of packets that successfully route through our router design, where $5 \\le n \\le 30$?"
   ]
  },
  {
   "cell_type": "code",
   "execution_count": null,
   "id": "a188aac9-d9d4-499e-b8f6-9163afc05af4",
   "metadata": {},
   "outputs": [],
   "source": []
  }
 ],
 "metadata": {
  "kernelspec": {
   "display_name": "Python 3 (ipykernel)",
   "language": "python",
   "name": "python3"
  },
  "language_info": {
   "codemirror_mode": {
    "name": "ipython",
    "version": 3
   },
   "file_extension": ".py",
   "mimetype": "text/x-python",
   "name": "python",
   "nbconvert_exporter": "python",
   "pygments_lexer": "ipython3",
   "version": "3.9.7"
  }
 },
 "nbformat": 4,
 "nbformat_minor": 5
}
