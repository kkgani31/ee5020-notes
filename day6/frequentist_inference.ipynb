{
 "cells": [
  {
   "cell_type": "markdown",
   "id": "2b179310-f84d-4222-8d1b-333b0454c068",
   "metadata": {
    "tags": []
   },
   "source": [
    "# Inferential Statistics (frequentist)\n",
    "\n",
    "## Concepts covered in this lesson\n",
    "\n",
    "1. Estimation and Estimators\n",
    "2. Confidence intervals (quantifying sampling error)\n",
    "3. Hypothesis testing"
   ]
  },
  {
   "cell_type": "markdown",
   "id": "60db9300-fb9e-4df1-a90a-f4fdf1fbeb73",
   "metadata": {},
   "source": [
    "## Estimation and Estimators\n",
    "\n",
    "Think of the following study:\n",
    "- Research question: What's the average weight of people in the Los Angeles (LA) metro area?\n",
    "- Sampling technique: Ask every third account on Instagram who posts mainly in the LA metro area.\n",
    "\n",
    "Now, let's answer the following questions:\n",
    "1. What is estimation? Obtain information about a parameter using a statistic\n",
    "2. What is an estimator? Some statistical method for estimation based on observable data\n",
    "3. What is estimator bias? Long-run error between sample statistic and population statistic\n",
    "4. What is sampling error? Error caused by technique for random sampling is not representative of the population\n",
    "5. What is the difference between standard error and standard deviation? Standard error is computed on an estimator; standard error becomes smaller as sample size increases\n",
    "6. What is sampling bias? Selecting groups that are not representative of the full population\n",
    "7. What is measurement error? Error in the data collection process"
   ]
  },
  {
   "cell_type": "markdown",
   "id": "2e6d286f-9553-496d-9cfb-7ae274a71dd0",
   "metadata": {},
   "source": [
    "## Confidence intervals (quantifying sampling error)\n",
    "\n",
    "Let's go back to the weight study above. Say that we will begin collecting our data.\n",
    "\n",
    "1. How do we know when to stop?\n",
    "2. How do we quantify the significance of the data we have collected so far?"
   ]
  },
  {
   "cell_type": "markdown",
   "id": "e663315e-8ebb-4752-9bda-24ee0102d2f6",
   "metadata": {},
   "source": [
    "### Calculating CIs using Python\n",
    "\n",
    "Study: `as_datasets/ExamScores.csv` (exam scores of a class over time)\n",
    "\n",
    "Write a function that computes confidence intervals for a mean given a `pd.Series` of data, using the following signature.\n",
    "```\n",
    "def get_confidence_interval(dataset: pd.Series, ci_level: float) -> Tuple[float, float]:\n",
    "```\n",
    "Then, use your function to get the confidence interval for each column in `ExamScores.csv`."
   ]
  },
  {
   "cell_type": "code",
   "execution_count": 5,
   "id": "2d15fad1-78f6-4945-8aba-c6979ccbc5f4",
   "metadata": {},
   "outputs": [],
   "source": [
    "import numpy as np\n",
    "import scipy.stats\n",
    "import pandas as pd\n",
    "from typing import Tuple\n",
    "\n",
    "\n",
    "def get_confidence_interval(dataset: pd.Series, ci_level: float = 0.95, force_t: bool = False) -> Tuple[float, float]:\n",
    "    \"\"\"\n",
    "    Returns the confidence interval for the given data series, based on the \n",
    "      z-distribution if the number of samples > 30 and the t-distribution if\n",
    "      the number of samples is less than or equal to 30.\n",
    "\n",
    "    :param dataset: a single series of data to get the confidence interval for the mean.\n",
    "    :param ci_level: level for the confidence interval\n",
    "    :param force_t: True if forced to use t distribution\n",
    "    \"\"\"\n",
    "    n = len(dataset)\n",
    "    mean = dataset.mean()\n",
    "    stdev = dataset.std()\n",
    "    stderr = stdev / np.sqrt(n)\n",
    "    if n > 30 and not force_t:\n",
    "        return scipy.stats.norm.interval(ci_level, mean, stderr)\n",
    "    else:\n",
    "        ddof = n - 1\n",
    "        return scipy.stats.t.interval(ci_level, ddof, mean, stderr)"
   ]
  },
  {
   "cell_type": "code",
   "execution_count": 6,
   "id": "62181bdd-6263-47cb-a573-9ecaf67efa70",
   "metadata": {},
   "outputs": [
    {
     "name": "stdout",
     "output_type": "stream",
     "text": [
      "       Exam1      Exam2      Exam3      Exam4\n",
      "0  80.124504  75.427229  67.310128  74.266876\n",
      "1  85.275496  83.372771  79.369872  78.733124\n",
      "Exam1    82.70\n",
      "Exam2    79.40\n",
      "Exam3    73.34\n",
      "Exam4    76.50\n",
      "dtype: float64\n"
     ]
    }
   ],
   "source": [
    "df_exam = pd.read_csv('../as_datasets/ExamScores.csv')\n",
    "\n",
    "df_exam_cis = df_exam.apply(get_confidence_interval, axis=0)  # axis=0 for columns\n",
    "print(df_exam_cis)\n",
    "print(df_exam_cis.mean())"
   ]
  },
  {
   "cell_type": "markdown",
   "id": "f2565cd5-6026-4042-bca0-02c4110ad3de",
   "metadata": {},
   "source": [
    "## Hypothesis testing\n",
    "\n",
    "Continuing with the exam scores, **how do we know that everyone _did better_ on the second exam than the first exam?**\n",
    "\n",
    "In other words, what is the **significance** of our test statistic?  \n",
    "\n",
    "How do we determine that this is **statistically significant**?\n",
    "\n",
    "When would **statistical significance** not be important **practically**?\n",
    "\n",
    "### Choosing statistical tests\n",
    "![statistical test table](testing_table.PNG)\n",
    "\n",
    "### Errors in hypothesis testing\n",
    "![confusion matrix with Type 1/2 errors](confusion_matrix.PNG)"
   ]
  },
  {
   "cell_type": "markdown",
   "id": "50c70dcb-6778-4bde-9876-29e76205a64c",
   "metadata": {},
   "source": [
    "### Mean-based testing\n",
    "\n",
    "#### 1-sample t-test\n",
    "\n",
    "File: `as_datasets/ExamScores.csv`\n",
    "\n",
    "Research question: Is the class's scores for Exam 2 different from the expected score of 86?"
   ]
  },
  {
   "cell_type": "code",
   "execution_count": 14,
   "id": "9d074835-76a0-4bbf-9006-073643958494",
   "metadata": {},
   "outputs": [
    {
     "name": "stdout",
     "output_type": "stream",
     "text": [
      "The mean of Exam2 is: 79.4\n",
      "The 95% confidence interval for Exam2 is: (75.32666910888537, 83.47333089111464)\n"
     ]
    },
    {
     "data": {
      "text/plain": [
       "Ttest_1sampResult(statistic=-3.256105851002791, pvalue=0.0020525657751595604)"
      ]
     },
     "execution_count": 14,
     "metadata": {},
     "output_type": "execute_result"
    }
   ],
   "source": [
    "# H0 is mu == 86\n",
    "# HA is mu != 86\n",
    "\n",
    "print(f\"The mean of Exam2 is: {df_exam['Exam2'].mean()}\")\n",
    "print(f\"The 95% confidence interval for Exam2 is: {get_confidence_interval(force_t=True, dataset=df_exam['Exam2'])}\")\n",
    "scipy.stats.ttest_1samp(df_exam['Exam2'], 86.0)"
   ]
  },
  {
   "cell_type": "markdown",
   "id": "6cec883b-24ee-4ef6-8e06-70d5806fce9a",
   "metadata": {},
   "source": [
    "#### 2-sample unpaired t-test\n",
    "\n",
    "File: `http://data-analytics.zybooks.com/Memory.csv`\n",
    "\n",
    "Research question: Does this memory enhancement drug actually reduce the number of memory-related errors?"
   ]
  },
  {
   "cell_type": "code",
   "execution_count": 20,
   "id": "2169f273-754d-473e-aae1-0bca432e9ea3",
   "metadata": {},
   "outputs": [
    {
     "name": "stdout",
     "output_type": "stream",
     "text": [
      "The means are: nodrug    27.8\n",
      "drug      15.4\n",
      "dtype: float64\n",
      "The 95% confidence interval for nodrug is: (18.07418565183631, 37.52581434816369)\n",
      "The 95% confidence interval for drug is: (12.987032359742942, 17.812967640257057)\n"
     ]
    },
    {
     "data": {
      "text/plain": [
       "Ttest_indResult(statistic=2.7992880505646385, pvalue=0.011854795066226269)"
      ]
     },
     "execution_count": 20,
     "metadata": {},
     "output_type": "execute_result"
    }
   ],
   "source": [
    "df_memory = pd.read_csv('http://data-analytics.zybooks.com/Memory.csv')\n",
    "# df_memory.head()\n",
    "print(f\"The means are: {df_memory.mean()}\")\n",
    "print(f\"The 95% confidence interval for nodrug is: {get_confidence_interval(force_t=True, dataset=df_memory['nodrug'])}\")\n",
    "print(f\"The 95% confidence interval for drug is: {get_confidence_interval(force_t=True, dataset=df_memory['drug'])}\")\n",
    "scipy.stats.ttest_ind(df_memory['nodrug'], df_memory['drug'])"
   ]
  },
  {
   "cell_type": "markdown",
   "id": "63093b12-e2b0-4dce-b736-addad4da68c3",
   "metadata": {},
   "source": [
    "#### 2-sample paired t-test\n",
    "\n",
    "File: `as_datasets/ExamScores.csv`\n",
    "\n",
    "Research question: Did the class improve on the second exam?"
   ]
  },
  {
   "cell_type": "code",
   "execution_count": 22,
   "id": "f0a130f6-1f46-4021-9a95-6bcbfbba790d",
   "metadata": {},
   "outputs": [
    {
     "name": "stdout",
     "output_type": "stream",
     "text": [
      "The means are: Exam1    82.70\n",
      "Exam2    79.40\n",
      "Exam3    73.34\n",
      "Exam4    76.50\n",
      "dtype: float64\n",
      "The 95% confidence interval for Exam1 is: (80.05931208777747, 85.34068791222253)\n",
      "The 95% confidence interval for Exam2 is: (75.32666910888537, 83.47333089111464)\n"
     ]
    },
    {
     "data": {
      "text/plain": [
       "Ttest_relResult(statistic=1.417925258248465, pvalue=0.16254101610053864)"
      ]
     },
     "execution_count": 22,
     "metadata": {},
     "output_type": "execute_result"
    }
   ],
   "source": [
    "print(f\"The means are: {df_exam.mean()}\")\n",
    "print(f\"The 95% confidence interval for Exam1 is: {get_confidence_interval(force_t=True, dataset=df_exam['Exam1'])}\")\n",
    "print(f\"The 95% confidence interval for Exam2 is: {get_confidence_interval(force_t=True, dataset=df_exam['Exam2'])}\")\n",
    "scipy.stats.ttest_rel(df_exam['Exam1'], df_exam['Exam2'])"
   ]
  },
  {
   "cell_type": "markdown",
   "id": "fa25a69d-448e-41cc-9101-d1c01a251559",
   "metadata": {},
   "source": [
    "#### One-way ANOVA\n",
    "\n",
    "File: `as_datasets/ExamScores.csv`\n",
    "\n",
    "Research question: Do the exam scores truly have different means?"
   ]
  },
  {
   "cell_type": "code",
   "execution_count": 23,
   "id": "a6c384fe-c3ec-4cdb-ae41-43a3f77ea498",
   "metadata": {},
   "outputs": [
    {
     "data": {
      "text/plain": [
       "F_onewayResult(statistic=3.8569608879310637, pvalue=0.010348669251964107)"
      ]
     },
     "execution_count": 23,
     "metadata": {},
     "output_type": "execute_result"
    }
   ],
   "source": [
    "scipy.stats.f_oneway(df_exam['Exam1'], df_exam['Exam2'], df_exam['Exam3'], df_exam['Exam4'])"
   ]
  },
  {
   "cell_type": "markdown",
   "id": "ba5702cb-2a32-4408-87ec-3210af3675f4",
   "metadata": {},
   "source": [
    "#### Linear statistical modeling with OLS\n",
    "\n",
    "File: `as_datasets/ExamScores.csv`\n",
    "\n",
    "Same research question as above: Do the exam scores truly have different means?"
   ]
  },
  {
   "cell_type": "code",
   "execution_count": null,
   "id": "8a6f9058-b1cb-4809-b7f8-119dc7154c43",
   "metadata": {},
   "outputs": [],
   "source": [
    "import statsmodels.api as sm\n",
    "import statsmodels.formula.api"
   ]
  },
  {
   "cell_type": "markdown",
   "id": "5b71a860-257b-49bd-9d4e-5f4fe2751392",
   "metadata": {},
   "source": [
    "#### Multiple comparison with Tukey's HSD\n",
    "\n",
    "File: `as_datasets/ExamScores.csv`\n",
    "\n",
    "Research question: Which exam(s) did the course struggle with?"
   ]
  },
  {
   "cell_type": "code",
   "execution_count": null,
   "id": "997ee51e-4d04-4bc6-840c-38c4e857ce0e",
   "metadata": {},
   "outputs": [],
   "source": []
  },
  {
   "cell_type": "markdown",
   "id": "95da5489-7692-4e67-bf68-e658b38b5589",
   "metadata": {},
   "source": [
    "### Proportion-based testing:\n",
    "\n",
    "#### 1-sample z-test on a proportion\n",
    "\n",
    "File: `as_datasets/ExamScores.csv`\n",
    "\n",
    "Research question: Does sufficient evidence exist that the proportion of scores over 80 on exam 1?"
   ]
  },
  {
   "cell_type": "code",
   "execution_count": null,
   "id": "d7a29e20-b774-4d32-9b5a-98a269276417",
   "metadata": {},
   "outputs": [],
   "source": []
  },
  {
   "cell_type": "markdown",
   "id": "37db206c-98ce-4ccc-a9ca-bb18670ad019",
   "metadata": {},
   "source": [
    "#### 2-sample z-test on a proportion\n",
    "\n",
    "10,000 individuals are divided evenly into two groups. The treatment group is given a vaccine and the control group is given a placebo. 95 of the 5,000 individuals in the treatment group developed a disease. 125 of the 5,000 individuals in the control group developed a particular disease. A research team wants to determine whether the vaccine is effective in decreasing the incidence of disease. Does sufficient evidence exist to conclude that the proportion of developing a disease in individuals given the vaccine is less than that of individuals given a placebo?"
   ]
  },
  {
   "cell_type": "code",
   "execution_count": null,
   "id": "4bda1e21-009b-4873-b0b8-2b5033c18175",
   "metadata": {},
   "outputs": [],
   "source": []
  }
 ],
 "metadata": {
  "kernelspec": {
   "display_name": "Python 3 (ipykernel)",
   "language": "python",
   "name": "python3"
  },
  "language_info": {
   "codemirror_mode": {
    "name": "ipython",
    "version": 3
   },
   "file_extension": ".py",
   "mimetype": "text/x-python",
   "name": "python",
   "nbconvert_exporter": "python",
   "pygments_lexer": "ipython3",
   "version": "3.8.6"
  }
 },
 "nbformat": 4,
 "nbformat_minor": 5
}
