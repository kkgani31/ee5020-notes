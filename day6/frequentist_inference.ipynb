{
 "cells": [
  {
   "cell_type": "markdown",
   "id": "2b179310-f84d-4222-8d1b-333b0454c068",
   "metadata": {
    "tags": []
   },
   "source": [
    "# Inferential Statistics (frequentist)\n",
    "\n",
    "## Concepts covered in this lesson\n",
    "\n",
    "1. Estimation and Estimators\n",
    "2. Confidence intervals (quantifying sampling error)\n",
    "3. Hypothesis testing"
   ]
  },
  {
   "cell_type": "markdown",
   "id": "60db9300-fb9e-4df1-a90a-f4fdf1fbeb73",
   "metadata": {},
   "source": [
    "## Estimation and Estimators\n",
    "\n",
    "Think of the following study:\n",
    "- Research question: What's the average weight of people in the Los Angeles (LA) metro area?\n",
    "- Sampling technique: Ask every third account on Instagram who posts mainly in the LA metro area.\n",
    "\n",
    "Now, let's answer the following questions:\n",
    "1. What is estimation? Obtain information about a parameter using a statistic\n",
    "2. What is an estimator? Some statistical method for estimation based on observable data\n",
    "3. What is estimator bias? Long-run error between sample statistic and population statistic\n",
    "4. What is sampling error? Error caused by technique for random sampling is not representative of the population\n",
    "5. What is the difference between standard error and standard deviation? Standard error is computed on an estimator; standard error becomes smaller as sample size increases\n",
    "6. What is sampling bias? Selecting groups that are not representative of the full population\n",
    "7. What is measurement error? Error in the data collection process"
   ]
  },
  {
   "cell_type": "markdown",
   "id": "2e6d286f-9553-496d-9cfb-7ae274a71dd0",
   "metadata": {},
   "source": [
    "## Confidence intervals (quantifying sampling error)\n",
    "\n",
    "Let's go back to the weight study above. Say that we will begin collecting our data.\n",
    "\n",
    "1. How do we know when to stop?\n",
    "2. How do we quantify the significance of the data we have collected so far?"
   ]
  },
  {
   "cell_type": "markdown",
   "id": "e663315e-8ebb-4752-9bda-24ee0102d2f6",
   "metadata": {},
   "source": [
    "### Calculating CIs using Python\n",
    "\n",
    "Study: `as_datasets/ExamScores.csv` (exam scores of a class over time)\n",
    "\n",
    "Write a function that computes confidence intervals for a mean given a `pd.Series` of data, using the following signature.\n",
    "```\n",
    "def get_confidence_interval(dataset: pd.Series, ci_level: float) -> Tuple[float, float]:\n",
    "```\n",
    "Then, use your function to get the confidence interval for each column in `ExamScores.csv`."
   ]
  },
  {
   "cell_type": "code",
   "execution_count": 1,
   "id": "2d15fad1-78f6-4945-8aba-c6979ccbc5f4",
   "metadata": {},
   "outputs": [],
   "source": [
    "import numpy as np\n",
    "import scipy.stats\n",
    "import pandas as pd\n",
    "from typing import Tuple\n",
    "\n",
    "\n",
    "def get_confidence_interval(dataset: pd.Series, ci_level: float = 0.95) -> Tuple[float, float]:\n",
    "    n = len(dataset)\n",
    "    mean = dataset.mean()\n",
    "    stdev = dataset.std()\n",
    "    stderr = stdev / np.sqrt(n)\n",
    "    if n > 30:\n",
    "        return scipy.stats.norm.interval(ci_level, mean, stderr)\n",
    "    else:\n",
    "        ddof = n - 1\n",
    "        return scipy.stats.t.interval(ci_level, ddof, mean, stderr)"
   ]
  },
  {
   "cell_type": "code",
   "execution_count": 7,
   "id": "62181bdd-6263-47cb-a573-9ecaf67efa70",
   "metadata": {},
   "outputs": [
    {
     "data": {
      "text/html": [
       "<div>\n",
       "<style scoped>\n",
       "    .dataframe tbody tr th:only-of-type {\n",
       "        vertical-align: middle;\n",
       "    }\n",
       "\n",
       "    .dataframe tbody tr th {\n",
       "        vertical-align: top;\n",
       "    }\n",
       "\n",
       "    .dataframe thead th {\n",
       "        text-align: right;\n",
       "    }\n",
       "</style>\n",
       "<table border=\"1\" class=\"dataframe\">\n",
       "  <thead>\n",
       "    <tr style=\"text-align: right;\">\n",
       "      <th></th>\n",
       "      <th>Exam1</th>\n",
       "      <th>Exam2</th>\n",
       "      <th>Exam3</th>\n",
       "      <th>Exam4</th>\n",
       "    </tr>\n",
       "  </thead>\n",
       "  <tbody>\n",
       "    <tr>\n",
       "      <th>0</th>\n",
       "      <td>80.124504</td>\n",
       "      <td>75.427229</td>\n",
       "      <td>67.310128</td>\n",
       "      <td>74.266876</td>\n",
       "    </tr>\n",
       "    <tr>\n",
       "      <th>1</th>\n",
       "      <td>85.275496</td>\n",
       "      <td>83.372771</td>\n",
       "      <td>79.369872</td>\n",
       "      <td>78.733124</td>\n",
       "    </tr>\n",
       "  </tbody>\n",
       "</table>\n",
       "</div>"
      ],
      "text/plain": [
       "       Exam1      Exam2      Exam3      Exam4\n",
       "0  80.124504  75.427229  67.310128  74.266876\n",
       "1  85.275496  83.372771  79.369872  78.733124"
      ]
     },
     "execution_count": 7,
     "metadata": {},
     "output_type": "execute_result"
    }
   ],
   "source": [
    "df_exam = pd.read_csv('../as_datasets/ExamScores.csv')\n",
    "\n",
    "df_exam_cis = df_exam.apply(get_confidence_interval, axis=0)  # axis=0 for columns"
   ]
  },
  {
   "cell_type": "markdown",
   "id": "f2565cd5-6026-4042-bca0-02c4110ad3de",
   "metadata": {},
   "source": [
    "## Hypothesis testing\n",
    "\n",
    "Continuing with the exam scores, **how do we know that everyone _did better_ on the second exam than the first exam?**\n",
    "\n",
    "In other words, what is the **significance** of our test statistic?  \n",
    "\n",
    "How do we determine that this is **statistically significant**?\n",
    "\n",
    "When would **statistical significance** not be important **practically**?\n",
    "\n",
    "### Choosing statistical tests\n",
    "![statistical test table](testing_table.PNG)\n",
    "\n",
    "### Errors in hypothesis testing\n",
    "![confusion matrix with Type 1/2 errors](confusion_matrix.PNG)"
   ]
  },
  {
   "cell_type": "markdown",
   "id": "50c70dcb-6778-4bde-9876-29e76205a64c",
   "metadata": {},
   "source": [
    "### Mean-based testing\n",
    "\n",
    "#### 1-sample t-test\n",
    "\n",
    "File: `as_datasets/ExamScores.csv`\n",
    "\n",
    "Research question: Is the class's scores for Exam 2 different from the expected score of 86?"
   ]
  },
  {
   "cell_type": "code",
   "execution_count": null,
   "id": "9d074835-76a0-4bbf-9006-073643958494",
   "metadata": {},
   "outputs": [],
   "source": []
  },
  {
   "cell_type": "markdown",
   "id": "6cec883b-24ee-4ef6-8e06-70d5806fce9a",
   "metadata": {},
   "source": [
    "#### 2-sample unpaired t-test\n",
    "\n",
    "File: `as_datasets/Memory.csv`\n",
    "\n",
    "Research question: Does this memory enhancement drug actually reduce the number of memory-related tasks?"
   ]
  },
  {
   "cell_type": "markdown",
   "id": "63093b12-e2b0-4dce-b736-addad4da68c3",
   "metadata": {},
   "source": [
    "#### 2-sample paired t-test\n",
    "\n",
    "File: `as_datasets/ExamScores.csv`\n",
    "\n",
    "Research question: Did the class improve on the second exam?"
   ]
  },
  {
   "cell_type": "code",
   "execution_count": null,
   "id": "f0a130f6-1f46-4021-9a95-6bcbfbba790d",
   "metadata": {},
   "outputs": [],
   "source": []
  },
  {
   "cell_type": "markdown",
   "id": "fa25a69d-448e-41cc-9101-d1c01a251559",
   "metadata": {},
   "source": [
    "#### One-way ANOVA\n",
    "\n",
    "File: `as_datasets/ExamScores.csv`\n",
    "\n",
    "Research question: Do the exam scores truly have different means?"
   ]
  },
  {
   "cell_type": "code",
   "execution_count": null,
   "id": "a6c384fe-c3ec-4cdb-ae41-43a3f77ea498",
   "metadata": {},
   "outputs": [],
   "source": []
  },
  {
   "cell_type": "markdown",
   "id": "ba5702cb-2a32-4408-87ec-3210af3675f4",
   "metadata": {},
   "source": [
    "#### Linear statistical modeling with OLS\n",
    "\n",
    "File: `as_datasets/ExamScores.csv`\n",
    "\n",
    "Same research question as above: Do the exam scores truly have different means?"
   ]
  },
  {
   "cell_type": "code",
   "execution_count": null,
   "id": "8a6f9058-b1cb-4809-b7f8-119dc7154c43",
   "metadata": {},
   "outputs": [],
   "source": []
  },
  {
   "cell_type": "markdown",
   "id": "5b71a860-257b-49bd-9d4e-5f4fe2751392",
   "metadata": {},
   "source": [
    "#### Multiple comparison with Tukey's HSD\n",
    "\n",
    "File: `as_datasets/ExamScores.csv`\n",
    "\n",
    "Research question: Which exam(s) did the course struggle with?"
   ]
  },
  {
   "cell_type": "code",
   "execution_count": null,
   "id": "997ee51e-4d04-4bc6-840c-38c4e857ce0e",
   "metadata": {},
   "outputs": [],
   "source": []
  },
  {
   "cell_type": "markdown",
   "id": "95da5489-7692-4e67-bf68-e658b38b5589",
   "metadata": {},
   "source": [
    "### Proportion-based testing:\n",
    "\n",
    "#### 1-sample z-test on a proportion\n",
    "\n",
    "File: `as_datasets/ExamScores.csv`\n",
    "\n",
    "Research question: Does sufficient evidence exist that the proportion of scores over 80 on exam 1?"
   ]
  },
  {
   "cell_type": "code",
   "execution_count": null,
   "id": "d7a29e20-b774-4d32-9b5a-98a269276417",
   "metadata": {},
   "outputs": [],
   "source": []
  },
  {
   "cell_type": "markdown",
   "id": "37db206c-98ce-4ccc-a9ca-bb18670ad019",
   "metadata": {},
   "source": [
    "#### 2-sample z-test on a proportion\n",
    "\n",
    "10,000 individuals are divided evenly into two groups. The treatment group is given a vaccine and the control group is given a placebo. 95 of the 5,000 individuals in the treatment group developed a disease. 125 of the 5,000 individuals in the control group developed a particular disease. A research team wants to determine whether the vaccine is effective in decreasing the incidence of disease. Does sufficient evidence exist to conclude that the proportion of developing a disease in individuals given the vaccine is less than that of individuals given a placebo?"
   ]
  },
  {
   "cell_type": "code",
   "execution_count": null,
   "id": "4bda1e21-009b-4873-b0b8-2b5033c18175",
   "metadata": {},
   "outputs": [],
   "source": []
  }
 ],
 "metadata": {
  "kernelspec": {
   "display_name": "Python 3 (ipykernel)",
   "language": "python",
   "name": "python3"
  },
  "language_info": {
   "codemirror_mode": {
    "name": "ipython",
    "version": 3
   },
   "file_extension": ".py",
   "mimetype": "text/x-python",
   "name": "python",
   "nbconvert_exporter": "python",
   "pygments_lexer": "ipython3",
   "version": "3.8.6"
  }
 },
 "nbformat": 4,
 "nbformat_minor": 5
}
