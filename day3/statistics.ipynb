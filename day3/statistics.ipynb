{
 "cells": [
  {
   "cell_type": "markdown",
   "id": "39dbc401-96dd-4720-81cb-32f9db5c9c24",
   "metadata": {
    "slideshow": {
     "slide_type": "slide"
    },
    "tags": []
   },
   "source": [
    "# Lesson 3: Statistics and Significance"
   ]
  },
  {
   "cell_type": "markdown",
   "id": "4fa49d57-50cf-4ff7-b6c9-8f691cb937f6",
   "metadata": {
    "slideshow": {
     "slide_type": "slide"
    },
    "tags": []
   },
   "source": [
    "## Ideas\n",
    "\n",
    "1. What is statistics?\n",
    "2. How is statistics related to probability?"
   ]
  },
  {
   "cell_type": "markdown",
   "id": "ab1862b5-4303-4c72-8c4d-4bca78dd5ff7",
   "metadata": {
    "slideshow": {
     "slide_type": "slide"
    },
    "tags": []
   },
   "source": [
    "## Terminology Recap\n",
    "\n",
    "See PA 2.1.1, PA 2.2.2, and PA 2.4.2:\n",
    "- **sample:** one measurement of a certain unit\n",
    "- **sample size:** number of measurements\n",
    "- **population:** group that we're sampling from\n",
    "- **parameter ($\\pi$):** any measured quantity of an entire population\n",
    "- **variable ($x$):** the actual sample's measurement\n",
    "\n",
    "\n",
    "See PA 2.1.5 and PA 2.3.3:\n",
    "- **model:** mathematical model that's data-driven\n",
    "- **chance model:** probabilistic model based on heuristics or assumptions\n",
    "- **statistical inference:** assumptions made based on our data and statistical model\n",
    "- **statistical significance:** strength or measure of confidence of model\n",
    "\n",
    "\n",
    "- **measures of center (dataset tendency or dispersion):** tendency to \"gravitate\" toward a value\n",
    "- **mean:** arithmetic mean of the dataset\n",
    "- **median:** exact middle of the dataset\n",
    "- **mode:** maximum-repeated value of the dataset\n",
    "- **outlier:** in frequentist terms, deviated data"
   ]
  },
  {
   "cell_type": "markdown",
   "id": "cb8c8410-c117-4906-806f-404e39858866",
   "metadata": {
    "jp-MarkdownHeadingCollapsed": true,
    "slideshow": {
     "slide_type": "slide"
    },
    "tags": []
   },
   "source": [
    "## Sampling (PA 2.2.5)\n",
    "\n",
    "- **simple random sampling:** take random from the population\n",
    "- **systematic (monotonic) sampling:** take every x sample from the population\n",
    "- **stratified sampling:** group out and take some k subset from each group\n",
    "- **cluster sampling:** randomly choose one group\n",
    "- **convenience sampling:** whatever samples you can get"
   ]
  },
  {
   "cell_type": "markdown",
   "id": "2cfc3b36-edba-4524-a1dc-66bad85fcce2",
   "metadata": {
    "slideshow": {
     "slide_type": "slide"
    },
    "tags": []
   },
   "source": [
    "## Statistical Testing (PA 2.4.6, 2.6.2, 2.6.3)\n",
    "\n",
    "- **null hypothesis ($H_0$):** process is random chance\n",
    "- **alternative hypothesis ($H_A$):** process is not random chance\n",
    "- **standardized statistic ($z$):**  $\\frac{\\bar{x} - \\pi_0}{\\hat{\\pi_0}}$ where $\\hat{\\pi_0} = \\sqrt{\\pi(1 - \\pi)/n}$\n",
    "- **p-value:** probability of obtaining an extreme value (outside of the distribution) assuming $H_0$ is true\n",
    "\n",
    "![p-value closeness to random, z-score is distance from random](https://desktop.arcgis.com/en/arcmap/10.3/tools/spatial-statistics-toolbox/GUID-CBF63B74-D1B2-44FC-A316-7AC2B1C1D464-web.png)\n",
    "\n",
    "- How does sample size affect these (PA 2.6.7)?\n",
    "- Are $H_A : \\pi > 0.5$ and $H_A : \\pi \\ne 0.5$ the same?"
   ]
  },
  {
   "cell_type": "markdown",
   "id": "ecac12f3-d223-48ea-b17f-b49e2466bf76",
   "metadata": {
    "slideshow": {
     "slide_type": "slide"
    },
    "tags": []
   },
   "source": [
    "## Let's do some statistical inference!\n",
    "\n",
    "So what are we really trying to do with statistics?\n",
    "\n",
    "Is there a difference between **binary** (categorical) data and numerical data?\n",
    "\n",
    "Let's analyze the dataset in `bac.csv`!  This dataset contains two columns of interest: `BAC` and `PASS`.  It is a dataset that indicates the `BAC` (numerical continuous data) and `PASS`, whether the subject passed the field sobriety test (binary data).  We need to make a third column for whether or not the subject truly failed (binary variable), based on if BAC >= 0.08.  All subjects tested were pulled over on suspicion of driving under the influence (DUI) by a police officer.\n",
    "\n",
    "### 1. What research questions can we ask?  What type of data do we have here?\n",
    "\n",
    "**Q1:** Is a police officer able to use driver behavior to predict DUI better than random chance?\n",
    "\n",
    "In this assumption, we assume that every driver pulled over is DUI. The hypotheses are formed:\n",
    "\n",
    "$H_0(\\text{pulled\\_over\\_correctly}): \\pi = 0.5$\n",
    "\n",
    "$H_A(\\text{pulled\\_over\\_correctly}): \\pi \\gt 0.5$.\n",
    "\n",
    "\n",
    "\n",
    "**Q2:** An alternative question could be to ask whether a sobriety test is better than random chance at predicting whether someone is biologically drunk, based on suspicions by police officers on drunk driving.\n",
    "\n",
    "This means that the null hypothesis for the sobriety test correctness is a mean that is better than random chance (50% chance).  The following hypotheses are formed as a result of this question.\n",
    "\n",
    "$H_0(\\text{sobriety\\_test\\_correctness}): \\pi = 0.5$\n",
    "\n",
    "$H_A(\\text{sobriety\\_test\\_correctness}): \\pi \\gt 0.5$\n",
    "\n",
    "\n",
    "### 2. What preliminary metrics (statistics) should we compute?\n",
    "Mean, standard deviation, histogram."
   ]
  },
  {
   "cell_type": "code",
   "execution_count": 12,
   "id": "b78db38d-d5d6-40d6-a205-30422e511c66",
   "metadata": {},
   "outputs": [],
   "source": [
    "import pandas as pd\n",
    "import seaborn as sns\n",
    "import numpy as np\n",
    "import matplotlib.pyplot as plt"
   ]
  },
  {
   "cell_type": "code",
   "execution_count": 13,
   "id": "b8e03857-21cf-44e4-a05d-7fde30ce3b99",
   "metadata": {},
   "outputs": [
    {
     "name": "stdout",
     "output_type": "stream",
     "text": [
      "   Subject       BAC  PASS   forpass      pred  pass.ols  PASS.OLS\n",
      "0       54  0.000344     1  0.518128  0.971148         0         0\n",
      "1       94  0.000523     1  0.464620  0.970857         0         0\n",
      "2       72  0.001530     1  0.797098  0.969166         0         1\n",
      "3        1  0.001819     1  0.327069  0.968663         0         0\n",
      "4       49  0.001850     1  0.546285  0.968608         0         0\n"
     ]
    }
   ],
   "source": [
    "df_bac = pd.read_csv(\"../as_datasets/bac.csv\")\n",
    "print(df_bac.head())"
   ]
  },
  {
   "cell_type": "markdown",
   "id": "b70c9730-902d-49ba-b487-d041abe4b804",
   "metadata": {},
   "source": [
    "It looks like there are some column names that are not too descriptive.  Let's also remove some columns that we do not need."
   ]
  },
  {
   "cell_type": "code",
   "execution_count": 14,
   "id": "7dd0accc-af59-4ed6-9be2-28890269c3d6",
   "metadata": {},
   "outputs": [],
   "source": [
    "# rename the column \"PASS\" to \"sobriety_test_pass\", since that's what it means.\n",
    "df_bac['sobriety_test_pass'] = df_bac['PASS']"
   ]
  },
  {
   "cell_type": "markdown",
   "id": "0a936559-1294-4958-92c8-0fff2a552403",
   "metadata": {},
   "source": [
    "Then, let's add our better column name and remove the columns we do not want."
   ]
  },
  {
   "cell_type": "code",
   "execution_count": 15,
   "id": "3fcb3cd1-3586-437e-959e-5d76b38d2801",
   "metadata": {},
   "outputs": [
    {
     "name": "stdout",
     "output_type": "stream",
     "text": [
      "        BAC  sobriety_test_pass  truly_legal  sobriety_test_correct  \\\n",
      "0  0.000344                   1            1                      1   \n",
      "1  0.000523                   1            1                      1   \n",
      "2  0.001530                   1            1                      1   \n",
      "3  0.001819                   1            1                      1   \n",
      "4  0.001850                   1            1                      1   \n",
      "\n",
      "   pulled_over_correctly  \n",
      "0                      0  \n",
      "1                      0  \n",
      "2                      0  \n",
      "3                      0  \n",
      "4                      0  \n",
      "count    100.000000\n",
      "mean       0.048608\n",
      "std        0.029461\n",
      "min        0.000344\n",
      "25%        0.020906\n",
      "50%        0.050542\n",
      "75%        0.071378\n",
      "max        0.099219\n",
      "Name: BAC, dtype: float64\n",
      "count    100.000000\n",
      "mean       0.610000\n",
      "std        0.490207\n",
      "min        0.000000\n",
      "25%        0.000000\n",
      "50%        1.000000\n",
      "75%        1.000000\n",
      "max        1.000000\n",
      "Name: sobriety_test_pass, dtype: float64\n",
      "count    100.000000\n",
      "mean       0.820000\n",
      "std        0.386123\n",
      "min        0.000000\n",
      "25%        1.000000\n",
      "50%        1.000000\n",
      "75%        1.000000\n",
      "max        1.000000\n",
      "Name: truly_legal, dtype: float64\n",
      "count    100.00000\n",
      "mean       0.79000\n",
      "std        0.40936\n",
      "min        0.00000\n",
      "25%        1.00000\n",
      "50%        1.00000\n",
      "75%        1.00000\n",
      "max        1.00000\n",
      "Name: sobriety_test_correct, dtype: float64\n",
      "count    100.000000\n",
      "mean       0.180000\n",
      "std        0.386123\n",
      "min        0.000000\n",
      "25%        0.000000\n",
      "50%        0.000000\n",
      "75%        0.000000\n",
      "max        1.000000\n",
      "Name: pulled_over_correctly, dtype: float64\n"
     ]
    }
   ],
   "source": [
    "# make some columns we care about, we have to convert booleans to numbers\n",
    "df_bac['truly_legal'] = (df_bac['BAC'] < 0.08).astype('int')\n",
    "df_bac['sobriety_test_correct'] = (df_bac['truly_legal'] == df_bac['sobriety_test_pass']).astype('int')\n",
    "\n",
    "# if we pulled over correctly, then it's the inverse of truly_legal\n",
    "df_bac['pulled_over_correctly'] = 1 - df_bac['truly_legal']\n",
    "\n",
    "# overwrite the dataframe with one that we prefer, with a list of columns\n",
    "df_bac = df_bac[['BAC', 'sobriety_test_pass', 'truly_legal', \n",
    "                 'sobriety_test_correct', 'pulled_over_correctly']]  \n",
    "\n",
    "print(df_bac.head())\n",
    "print(df_bac['BAC'].describe())\n",
    "print(df_bac['sobriety_test_pass'].describe())\n",
    "print(df_bac['truly_legal'].describe())\n",
    "print(df_bac['sobriety_test_correct'].describe())\n",
    "print(df_bac['pulled_over_correctly'].describe())"
   ]
  },
  {
   "cell_type": "code",
   "execution_count": 16,
   "id": "a5d97350-ee21-405a-975f-e14516f54def",
   "metadata": {},
   "outputs": [
    {
     "data": {
      "text/plain": [
       "<AxesSubplot:xlabel='pulled_over_correctly', ylabel='Count'>"
      ]
     },
     "execution_count": 16,
     "metadata": {},
     "output_type": "execute_result"
    },
    {
     "data": {
      "image/png": "[encoded data removed]",
      "text/plain": [
       "<Figure size 432x288 with 1 Axes>"
      ]
     },
     "metadata": {
      "needs_background": "light"
     },
     "output_type": "display_data"
    },
    {
     "data": {
      "image/png": "[encoded data removed]",
      "text/plain": [
       "<Figure size 432x288 with 1 Axes>"
      ]
     },
     "metadata": {
      "needs_background": "light"
     },
     "output_type": "display_data"
    },
    {
     "data": {
      "image/png": "[encoded data removed]",
      "text/plain": [
       "<Figure size 432x288 with 1 Axes>"
      ]
     },
     "metadata": {
      "needs_background": "light"
     },
     "output_type": "display_data"
    },
    {
     "data": {
      "image/png": "[encoded data removed]",
      "text/plain": [
       "<Figure size 432x288 with 1 Axes>"
      ]
     },
     "metadata": {
      "needs_background": "light"
     },
     "output_type": "display_data"
    },
    {
     "data": {
      "image/png": "[encoded data removed]",
      "text/plain": [
       "<Figure size 432x288 with 1 Axes>"
      ]
     },
     "metadata": {
      "needs_background": "light"
     },
     "output_type": "display_data"
    }
   ],
   "source": [
    "plt.figure()\n",
    "sns.histplot(df_bac['BAC'])\n",
    "\n",
    "plt.figure()\n",
    "sns.histplot(df_bac['sobriety_test_pass'])\n",
    "\n",
    "plt.figure()\n",
    "sns.histplot(df_bac['truly_legal'])\n",
    "\n",
    "plt.figure()\n",
    "sns.histplot(df_bac['sobriety_test_correct'])\n",
    "\n",
    "plt.figure()\n",
    "sns.histplot(df_bac['pulled_over_correctly'])"
   ]
  },
  {
   "cell_type": "markdown",
   "id": "aa570a1e-61a9-45fc-855a-07a125e0c8ad",
   "metadata": {},
   "source": [
    "Upon looking at the histograms, it does not appear that BAC is very distinguished between samples.  However, there is a massive difference where BAC is used to determine whether someone is truly legal.  There is a higher proportion of subjects passing the sobriety test.  Let's compute the proportions so we can see more quantitatively the difference between failing a sobriety test and truly driving under the influence, and whether the original suspicions were correct:"
   ]
  },
  {
   "cell_type": "code",
   "execution_count": 17,
   "id": "080c0c48-1234-495d-9586-576333e21c10",
   "metadata": {},
   "outputs": [
    {
     "name": "stdout",
     "output_type": "stream",
     "text": [
      "The proportion pulled over correctly: 0.18\n",
      "The proportion pulled over incorrectly: 0.8200000000000001\n",
      "The proportion sobriety test correct: 0.79\n",
      "The proportion sobriety test incorrect: 0.20999999999999996\n"
     ]
    }
   ],
   "source": [
    "proportion_pulled_correct = sum(df_bac['pulled_over_correctly'] == 1.0) / df_bac['pulled_over_correctly'].count()\n",
    "proportion_pulled_wrong = 1.0 - proportion_pulled_correct\n",
    "print(f'The proportion pulled over correctly: {proportion_pulled_correct}')\n",
    "print(f'The proportion pulled over incorrectly: {proportion_pulled_wrong}')\n",
    "\n",
    "proportion_test_correct = sum(df_bac['sobriety_test_correct'] == 1.0) / df_bac['sobriety_test_correct'].count()\n",
    "proportion_test_wrong = 1.0 - proportion_test_correct\n",
    "print(f'The proportion sobriety test correct: {proportion_test_correct}')\n",
    "print(f'The proportion sobriety test incorrect: {proportion_test_wrong}')"
   ]
  },
  {
   "cell_type": "markdown",
   "id": "214906b9-4e2e-4839-aba9-be1bcc24ee51",
   "metadata": {},
   "source": [
    "It seems that indeed, the proportion of drivers pulled over by the police officers were primarily not drunk.\n",
    "\n",
    "Now, let's compute the Z-score for the mean of the variable of officers' intuition correctly pulling over drunk drivers, to see if there is a difference between random chance and the police officers' intuition."
   ]
  },
  {
   "cell_type": "code",
   "execution_count": null,
   "id": "2136c365-5316-40a7-ac87-e0e5e08ec86d",
   "metadata": {},
   "outputs": [],
   "source": [
    "pulled_mean = df_bac['pulled_over_correctly'].mean()  # model sample mean\n",
    "null_mean = 0.5  # chance model, that randomly pulling over will give a drunk driver\n",
    "null_std = np.sqrt(null_mean * (1 - null_mean) / df_bac['pulled_over_correctly'].count())\n",
    "\n",
    "z_1 = (pulled_mean - null_mean) / null_std\n",
    "print(f\"Z-score for difference of police officers' intuition and random chance: {z_1}\")\n"
   ]
  },
  {
   "cell_type": "markdown",
   "id": "0c513009-3ce5-48a8-a6db-c6d7c28bf0ac",
   "metadata": {},
   "source": [
    "It looks like that the data we have is definitely not due to random chance.  There is indeed significance, since the Z-score is quite large (greater than +/- 2.0).  Thus, the proportion that 18% of officers' intuition being correct is statistically significant.\n",
    "\n",
    "Now, let's compute the Z-score for the variable of the sobriety test being correct."
   ]
  },
  {
   "cell_type": "code",
   "execution_count": null,
   "id": "fb6eb31d-33e0-4531-8402-7acb45bb4c3e",
   "metadata": {
    "slideshow": {
     "slide_type": "slide"
    },
    "tags": []
   },
   "outputs": [],
   "source": [
    "test_correct_mean = df_bac['sobriety_test_correct'].mean()\n",
    "null_mean = 0.5  # chance model, that it can go either way\n",
    "null_std = np.sqrt(null_mean * (1 - null_mean) / df_bac['sobriety_test_correct'].count())\n",
    "\n",
    "z_1 = (test_correct_mean - null_mean) / null_std\n",
    "print(f'Z-score for difference between the sobriety test and random chance: {z_1}')\n"
   ]
  },
  {
   "cell_type": "markdown",
   "id": "82d09d29-fbf5-4196-af82-9b8ec5c7228d",
   "metadata": {
    "slideshow": {
     "slide_type": "subslide"
    },
    "tags": []
   },
   "source": [
    "It looks like the Z-score for sobriety test correct shows significance, since it is also quite large.  This means that the 79% indication of the sobriety test being correct is statistically significant."
   ]
  },
  {
   "cell_type": "markdown",
   "id": "1ccbdd19-8772-439f-9261-ac51c89973c8",
   "metadata": {
    "slideshow": {
     "slide_type": "slide"
    },
    "tags": []
   },
   "source": [
    "### 3. What statistical inferences can we draw?\n",
    "The variable of a driver being pulled over correctly due to officers' intuition of 18% was statistically significant.  The variable of the sobriety test being correct more than random chance of 79% was statistically significant.\n",
    "\n",
    "### 4. Can we make any statistically-significant conclusions?\n",
    "We can conclude that the police officers in this dataset do not necessarily have great intuition when it comes to using intuition to detect drunk drivers.  However, sobriety tests seem to be effective for detection of high BACs.\n",
    "\n",
    "### 5. How could we improve this study?\n",
    "Please try to think of some ideas :)"
   ]
  },
  {
   "cell_type": "markdown",
   "id": "3d873c7a-bfa4-4683-82c5-64a8738cd93b",
   "metadata": {},
   "source": []
  }
 ],
 "metadata": {
  "kernelspec": {
   "display_name": "Python 3 (ipykernel)",
   "language": "python",
   "name": "python3"
  },
  "language_info": {
   "codemirror_mode": {
    "name": "ipython",
    "version": 3
   },
   "file_extension": ".py",
   "mimetype": "text/x-python",
   "name": "python",
   "nbconvert_exporter": "python",
   "pygments_lexer": "ipython3",
   "version": "3.9.6"
  }
 },
 "nbformat": 4,
 "nbformat_minor": 5
}
