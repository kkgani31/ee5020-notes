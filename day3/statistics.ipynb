{
 "cells": [
  {
   "cell_type": "markdown",
   "id": "39dbc401-96dd-4720-81cb-32f9db5c9c24",
   "metadata": {
    "slideshow": {
     "slide_type": "slide"
    },
    "tags": []
   },
   "source": [
    "# Lesson 3: Statistics and Significance"
   ]
  },
  {
   "cell_type": "markdown",
   "id": "4fa49d57-50cf-4ff7-b6c9-8f691cb937f6",
   "metadata": {
    "slideshow": {
     "slide_type": "slide"
    },
    "tags": []
   },
   "source": [
    "## Ideas\n",
    "\n",
    "1. What is statistics?\n",
    "2. How is statistics related to probability?"
   ]
  },
  {
   "cell_type": "markdown",
   "id": "ab1862b5-4303-4c72-8c4d-4bca78dd5ff7",
   "metadata": {
    "slideshow": {
     "slide_type": "slide"
    },
    "tags": []
   },
   "source": [
    "## Terminology Recap\n",
    "\n",
    "See PA 2.1.1, PA 2.2.2, and PA 2.4.2:\n",
    "- **sample:**\n",
    "- **sample size:**\n",
    "- **population:**\n",
    "- **parameter ($\\pi$):**\n",
    "- **variable ($x$):**\n",
    "\n",
    "\n",
    "See PA 2.1.5 and PA 2.3.3:\n",
    "- **model:**\n",
    "- **chance model:**\n",
    "- **statistical inference:**\n",
    "- **statistical significance:**\n",
    "\n",
    "\n",
    "- **measures of center (dataset tendency or dispersion):**\n",
    "- **mean:**\n",
    "- **median:**\n",
    "- **mode:**\n",
    "- **outlier:**"
   ]
  },
  {
   "cell_type": "markdown",
   "id": "cb8c8410-c117-4906-806f-404e39858866",
   "metadata": {
    "jp-MarkdownHeadingCollapsed": true,
    "slideshow": {
     "slide_type": "slide"
    },
    "tags": []
   },
   "source": [
    "## Sampling (PA 2.2.5)\n",
    "\n",
    "- **simple random sampling:**\n",
    "- **systematic (monotonic) sampling:**\n",
    "- **stratified sampling:**\n",
    "- **cluster sampling:**\n",
    "- **convenience sampling:**"
   ]
  },
  {
   "cell_type": "markdown",
   "id": "2cfc3b36-edba-4524-a1dc-66bad85fcce2",
   "metadata": {
    "slideshow": {
     "slide_type": "slide"
    },
    "tags": []
   },
   "source": [
    "## Statistical Testing (PA 2.4.6, 2.6.2, 2.6.3)\n",
    "\n",
    "- **null hypothesis ($H_0$):**\n",
    "- **alternative hypothesis ($H_A$):**\n",
    "- **standardized statistic ($z$):**\n",
    "- **p-value:** \n",
    "\n",
    "![p-value closeness to random, z-score is distance from random](https://desktop.arcgis.com/en/arcmap/10.3/tools/spatial-statistics-toolbox/GUID-CBF63B74-D1B2-44FC-A316-7AC2B1C1D464-web.png)\n",
    "\n",
    "- How does sample size affect these (PA 2.6.7)?\n",
    "- Are $H_A : \\pi > 0.5$ and $H_A : \\pi \\ne 0.5$ the same?"
   ]
  },
  {
   "cell_type": "markdown",
   "id": "ecac12f3-d223-48ea-b17f-b49e2466bf76",
   "metadata": {
    "slideshow": {
     "slide_type": "slide"
    },
    "tags": []
   },
   "source": [
    "## Let's do some statistical inference!\n",
    "\n",
    "So what are we really trying to do with statistics?\n",
    "\n",
    "Is there a difference between **binary** (categorical) data and numerical data?\n",
    "\n",
    "Let's analyze the dataset in `bac.csv`!  This dataset contains two columns of interest: `BAC` and `PASS`.  It is a dataset that indicates the BAC and whether the subject passed the field sobriety test.  All subjects tested were pulled over on suspicion of driving under the influence (DUI) by a police officer.\n",
    "\n",
    "1. What research questions can we ask?  What type of data do we have here?\n",
    "2. What preliminary metrics (statistics) should we compute?\n",
    "3. What statistical inferences can we draw?\n",
    "4. Can we make any statistically-significant conclusions?\n",
    "5. How could we improve this study?"
   ]
  },
  {
   "cell_type": "code",
   "execution_count": null,
   "id": "b78db38d-d5d6-40d6-a205-30422e511c66",
   "metadata": {},
   "outputs": [],
   "source": []
  }
 ],
 "metadata": {
  "kernelspec": {
   "display_name": "Python 3 (ipykernel)",
   "language": "python",
   "name": "python3"
  },
  "language_info": {
   "codemirror_mode": {
    "name": "ipython",
    "version": 3
   },
   "file_extension": ".py",
   "mimetype": "text/x-python",
   "name": "python",
   "nbconvert_exporter": "python",
   "pygments_lexer": "ipython3",
   "version": "3.8.6"
  }
 },
 "nbformat": 4,
 "nbformat_minor": 5
}
