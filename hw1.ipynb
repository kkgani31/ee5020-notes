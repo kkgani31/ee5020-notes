{
 "cells": [
  {
   "cell_type": "markdown",
   "id": "9b15fe38-c77b-48b9-841a-a4d0def4f2ac",
   "metadata": {
    "tags": []
   },
   "source": [
    "# EE 5020 Homework 1: Pandas and Writing Practice\n",
    "\n",
    "Name:GANESH ANIRUDH KASA KOTA\n",
    "\n",
    "CIN: 401975311"
   ]
  },
  {
   "cell_type": "markdown",
   "id": "8e9f5048-77ea-4cb7-9eae-5244f9654599",
   "metadata": {
    "tags": []
   },
   "source": [
    "## Overview\n",
    "\n",
    "In this homework, you will practice writing some Python code and using the Python data analysis libraries (seaborn, pandas, numpy, matplotlib).  You will analyze one of the example datasets we have in the `as_datasets` folder, `hof.csv`.  This dataset  is based on the number of hits of a baseball player in their career and whether or not they are in the Hall of Fame.  The dataset contains two columns, \"Hits\" and \"HOF\"."
   ]
  },
  {
   "cell_type": "raw",
   "id": "0e2b3441-50ec-43c5-98c1-60082673508c",
   "metadata": {
    "tags": []
   },
   "source": [
    "## Section 1: Python Practice\n",
    "\n",
    "First, import the following libraries with usable names:\n",
    "- pandas\n",
    "- matplotlib.pyplot\n",
    "- seaborn\n",
    "- numpy"
   ]
  },
  {
   "cell_type": "code",
   "execution_count": 4,
   "id": "0a89be6f-7a98-4968-82e4-1c67514d767d",
   "metadata": {},
   "outputs": [],
   "source": [
    "# import pandas, numpy, matplotlib,seaborn\n",
    "import pandas as pd\n",
    "import matplotlib.pyplot as plt\n",
    "import seaborn as sns\n",
    "import numpy as np\n",
    "\n"
   ]
  },
  {
   "cell_type": "markdown",
   "id": "095aadba-3e36-4e77-8b0b-d7087f9b3f7f",
   "metadata": {},
   "source": [
    "Next, use pandas' `read_csv` function to import the CSV as a DataFrame, with a friendly, descriptive name:"
   ]
  },
  {
   "cell_type": "code",
   "execution_count": 5,
   "id": "db96345a-c70f-495d-896b-171d19a3f844",
   "metadata": {},
   "outputs": [
    {
     "data": {
      "text/html": [
       "<div>\n",
       "<style scoped>\n",
       "    .dataframe tbody tr th:only-of-type {\n",
       "        vertical-align: middle;\n",
       "    }\n",
       "\n",
       "    .dataframe tbody tr th {\n",
       "        vertical-align: top;\n",
       "    }\n",
       "\n",
       "    .dataframe thead th {\n",
       "        text-align: right;\n",
       "    }\n",
       "</style>\n",
       "<table border=\"1\" class=\"dataframe\">\n",
       "  <thead>\n",
       "    <tr style=\"text-align: right;\">\n",
       "      <th></th>\n",
       "      <th>Hits</th>\n",
       "      <th>HOF</th>\n",
       "    </tr>\n",
       "  </thead>\n",
       "  <tbody>\n",
       "    <tr>\n",
       "      <th>0</th>\n",
       "      <td>972</td>\n",
       "      <td>0</td>\n",
       "    </tr>\n",
       "    <tr>\n",
       "      <th>1</th>\n",
       "      <td>989</td>\n",
       "      <td>0</td>\n",
       "    </tr>\n",
       "    <tr>\n",
       "      <th>2</th>\n",
       "      <td>1007</td>\n",
       "      <td>0</td>\n",
       "    </tr>\n",
       "    <tr>\n",
       "      <th>3</th>\n",
       "      <td>1030</td>\n",
       "      <td>0</td>\n",
       "    </tr>\n",
       "    <tr>\n",
       "      <th>4</th>\n",
       "      <td>1041</td>\n",
       "      <td>0</td>\n",
       "    </tr>\n",
       "  </tbody>\n",
       "</table>\n",
       "</div>"
      ],
      "text/plain": [
       "   Hits  HOF\n",
       "0   972    0\n",
       "1   989    0\n",
       "2  1007    0\n",
       "3  1030    0\n",
       "4  1041    0"
      ]
     },
     "execution_count": 5,
     "metadata": {},
     "output_type": "execute_result"
    }
   ],
   "source": [
    "HOFdata = pd.read_csv('as_datasets/hof.csv')\n",
    "HOFdata.head()"
   ]
  },
  {
   "cell_type": "markdown",
   "id": "bd3e9f86-3788-4fd2-a4fd-dba621b6ad4a",
   "metadata": {},
   "source": [
    "Now, let's get some preliminary information and descriptive statistics (count, mean, standard deviation, min, max, quartiles) about our dataset:"
   ]
  },
  {
   "cell_type": "code",
   "execution_count": 6,
   "id": "ec95f7b1-9412-4987-ae84-4757ea4c631d",
   "metadata": {},
   "outputs": [
    {
     "data": {
      "text/html": [
       "<div>\n",
       "<style scoped>\n",
       "    .dataframe tbody tr th:only-of-type {\n",
       "        vertical-align: middle;\n",
       "    }\n",
       "\n",
       "    .dataframe tbody tr th {\n",
       "        vertical-align: top;\n",
       "    }\n",
       "\n",
       "    .dataframe thead th {\n",
       "        text-align: right;\n",
       "    }\n",
       "</style>\n",
       "<table border=\"1\" class=\"dataframe\">\n",
       "  <thead>\n",
       "    <tr style=\"text-align: right;\">\n",
       "      <th></th>\n",
       "      <th>Hits</th>\n",
       "      <th>HOF</th>\n",
       "    </tr>\n",
       "  </thead>\n",
       "  <tbody>\n",
       "    <tr>\n",
       "      <th>count</th>\n",
       "      <td>774.000000</td>\n",
       "      <td>774.000000</td>\n",
       "    </tr>\n",
       "    <tr>\n",
       "      <th>mean</th>\n",
       "      <td>1719.957364</td>\n",
       "      <td>0.182171</td>\n",
       "    </tr>\n",
       "    <tr>\n",
       "      <th>std</th>\n",
       "      <td>532.603682</td>\n",
       "      <td>0.386235</td>\n",
       "    </tr>\n",
       "    <tr>\n",
       "      <th>min</th>\n",
       "      <td>972.000000</td>\n",
       "      <td>0.000000</td>\n",
       "    </tr>\n",
       "    <tr>\n",
       "      <th>25%</th>\n",
       "      <td>1316.000000</td>\n",
       "      <td>0.000000</td>\n",
       "    </tr>\n",
       "    <tr>\n",
       "      <th>50%</th>\n",
       "      <td>1566.000000</td>\n",
       "      <td>0.000000</td>\n",
       "    </tr>\n",
       "    <tr>\n",
       "      <th>75%</th>\n",
       "      <td>2011.000000</td>\n",
       "      <td>0.000000</td>\n",
       "    </tr>\n",
       "    <tr>\n",
       "      <th>max</th>\n",
       "      <td>4256.000000</td>\n",
       "      <td>1.000000</td>\n",
       "    </tr>\n",
       "  </tbody>\n",
       "</table>\n",
       "</div>"
      ],
      "text/plain": [
       "              Hits         HOF\n",
       "count   774.000000  774.000000\n",
       "mean   1719.957364    0.182171\n",
       "std     532.603682    0.386235\n",
       "min     972.000000    0.000000\n",
       "25%    1316.000000    0.000000\n",
       "50%    1566.000000    0.000000\n",
       "75%    2011.000000    0.000000\n",
       "max    4256.000000    1.000000"
      ]
     },
     "execution_count": 6,
     "metadata": {},
     "output_type": "execute_result"
    }
   ],
   "source": [
    "HOFdata.describe()"
   ]
  },
  {
   "cell_type": "markdown",
   "id": "adcd524f-f1bf-4895-b7ca-aa116f43d513",
   "metadata": {},
   "source": [
    "As an exercise, let's use the last two digits of your CIN to sample the data in a systematic way.  Write a function that uses the [`np.arange()`](https://docs.scipy.org/doc/numpy/reference/generated/numpy.arange.html) function that creates a \"selection vector\" (a `ndarray` with the row indices that we would like to select) to subsample an input DataFrame. \n",
    "\n",
    "The selection vector should contains multiples based on one quarter (floor divide by 4, the operator is two division symbols together like `//`) of the last two digits of a CIN and returns a subsampled version of the input DataFrame. You can get the last two digits of your CIN by using the modulo operator, which is the `%` operator.\n",
    "\n",
    "For example, if the last two digits a CIN are 34, and our input DataFrame had 200 rows (obtained from the `len()` function), then the selection vector would be `[0, 8, 16, ...]`.  Then, this selection vector would be used to subsample the input DataFrame, so only rows 0, 8, 16, etc. are used.  You can select specific rows by just using the square brackets, like: `df_full_table[selection_vector]`, then just save the result into a new varable.\n",
    "\n",
    "The signature for your function should be similar to:\n",
    "\n",
    "`def cin_subsample_dataframe(df_input: pd.DataFrame, cin: int) -> pd.DataFrame:`"
   ]
  },
  {
   "cell_type": "code",
   "execution_count": 7,
   "id": "d49145d1-93fb-4e35-a367-fbb0f0402e3c",
   "metadata": {},
   "outputs": [],
   "source": [
    "def cin_subsample_dataframe(df_input: pd.DataFrame, cin: int):\n",
    "    last_two_digits = cin%100\n",
    "    selection_value = last_two_digits//4\n",
    "    selection_vector = np.arange(0, len(df_input),selection_value)\n",
    "    return df_input.iloc[selection_vector]"
   ]
  },
  {
   "cell_type": "markdown",
   "id": "d14b89cd-cfa9-4211-a72d-bb514ec43d5e",
   "metadata": {},
   "source": [
    "Now, use your function to get a new DataFrame that is the subsampled version of the original DataFrame above, and save it to a new variable name:"
   ]
  },
  {
   "cell_type": "code",
   "execution_count": 8,
   "id": "466dc899-3bc3-4a50-8cb2-b4a5661e1e75",
   "metadata": {},
   "outputs": [],
   "source": [
    "hof_subsample=cin_subsample_dataframe(HOFdata,401975311)"
   ]
  },
  {
   "cell_type": "markdown",
   "id": "dbdec632-543d-45ab-a9c8-68aa3cb065a2",
   "metadata": {},
   "source": [
    "Let's look at the descriptive statistics for the subsampled DataFrame now.  What can we run in the cell below to get some descriptive statistics for our subsampled DataFrame?"
   ]
  },
  {
   "cell_type": "code",
   "execution_count": 9,
   "id": "fc20306c-1d04-4baa-bb38-35789ecd8c49",
   "metadata": {},
   "outputs": [
    {
     "data": {
      "text/html": [
       "<div>\n",
       "<style scoped>\n",
       "    .dataframe tbody tr th:only-of-type {\n",
       "        vertical-align: middle;\n",
       "    }\n",
       "\n",
       "    .dataframe tbody tr th {\n",
       "        vertical-align: top;\n",
       "    }\n",
       "\n",
       "    .dataframe thead th {\n",
       "        text-align: right;\n",
       "    }\n",
       "</style>\n",
       "<table border=\"1\" class=\"dataframe\">\n",
       "  <thead>\n",
       "    <tr style=\"text-align: right;\">\n",
       "      <th></th>\n",
       "      <th>Hits</th>\n",
       "      <th>HOF</th>\n",
       "    </tr>\n",
       "  </thead>\n",
       "  <tbody>\n",
       "    <tr>\n",
       "      <th>count</th>\n",
       "      <td>387.000000</td>\n",
       "      <td>387.000000</td>\n",
       "    </tr>\n",
       "    <tr>\n",
       "      <th>mean</th>\n",
       "      <td>1717.971576</td>\n",
       "      <td>0.191214</td>\n",
       "    </tr>\n",
       "    <tr>\n",
       "      <th>std</th>\n",
       "      <td>529.894404</td>\n",
       "      <td>0.393767</td>\n",
       "    </tr>\n",
       "    <tr>\n",
       "      <th>min</th>\n",
       "      <td>972.000000</td>\n",
       "      <td>0.000000</td>\n",
       "    </tr>\n",
       "    <tr>\n",
       "      <th>25%</th>\n",
       "      <td>1315.500000</td>\n",
       "      <td>0.000000</td>\n",
       "    </tr>\n",
       "    <tr>\n",
       "      <th>50%</th>\n",
       "      <td>1566.000000</td>\n",
       "      <td>0.000000</td>\n",
       "    </tr>\n",
       "    <tr>\n",
       "      <th>75%</th>\n",
       "      <td>2010.500000</td>\n",
       "      <td>0.000000</td>\n",
       "    </tr>\n",
       "    <tr>\n",
       "      <th>max</th>\n",
       "      <td>4189.000000</td>\n",
       "      <td>1.000000</td>\n",
       "    </tr>\n",
       "  </tbody>\n",
       "</table>\n",
       "</div>"
      ],
      "text/plain": [
       "              Hits         HOF\n",
       "count   387.000000  387.000000\n",
       "mean   1717.971576    0.191214\n",
       "std     529.894404    0.393767\n",
       "min     972.000000    0.000000\n",
       "25%    1315.500000    0.000000\n",
       "50%    1566.000000    0.000000\n",
       "75%    2010.500000    0.000000\n",
       "max    4189.000000    1.000000"
      ]
     },
     "execution_count": 9,
     "metadata": {},
     "output_type": "execute_result"
    }
   ],
   "source": [
    "hof_subsample.describe()"
   ]
  },
  {
   "cell_type": "markdown",
   "id": "fa7d5b05-5c29-4882-9870-13a55701c529",
   "metadata": {},
   "source": [
    "Now, edit (double-click) this cell to answer the following questions:\n",
    "\n",
    "\n",
    "1. How many rows of data does your systematically subsampled DataFrame contain? \n",
    "Answer: 387\n",
    "2. What is the mean number of hits of the players in your subsampled DataFrame?\n",
    "Answer: 1717.971576\n",
    "3. What is the standard deviation of the hits of the players in your subsampled DataFrame?\n",
    "Answer: 529.894404\n",
    "\n",
    "Next, let's plot the histograms for each column in your subsampled DataFrame.  Use the DataFrame's built-in `.hist()` function first, but also pass in the `figsize` parameter with a tuple of two values (width, height) to create a larger plot.  Try starting with `figsize=(5, 5)` and adjust the numbers individually until you like the plot."
   ]
  },
  {
   "cell_type": "code",
   "execution_count": 10,
   "id": "2aab2856-7c8a-47f0-997d-eab7d767385a",
   "metadata": {},
   "outputs": [
    {
     "data": {
      "text/plain": [
       "array([[<AxesSubplot:title={'center':'Hits'}>,\n",
       "        <AxesSubplot:title={'center':'HOF'}>]], dtype=object)"
      ]
     },
     "execution_count": 10,
     "metadata": {},
     "output_type": "execute_result"
    },
    {
     "data": {
      "image/png": "[encoded data removed]",
      "text/plain": [
       "<Figure size 864x504 with 2 Axes>"
      ]
     },
     "metadata": {
      "needs_background": "light"
     },
     "output_type": "display_data"
    }
   ],
   "source": [
    "hof_subsample.hist(figsize=(12,7))"
   ]
  },
  {
   "cell_type": "markdown",
   "id": "27f02399-9ce6-4175-b3ab-f8060ab56918",
   "metadata": {},
   "source": [
    "Next, use seaborn's [`histplot()`](https://seaborn.pydata.org/generated/seaborn.histplot.html) function instead, which accepts a pandas DataFrame as the data.  Show the number of hits and the counts of whether the player is in the hall of fame separately.  Which parameter can you pass into `histplot()` to make it so the gap between 0 and 1 in the \"HOF\" data does not appear?"
   ]
  },
  {
   "cell_type": "code",
   "execution_count": 11,
   "id": "42b65d95-fe1a-491f-9ac8-5a2c690a9a6b",
   "metadata": {},
   "outputs": [
    {
     "data": {
      "text/plain": [
       "<AxesSubplot:ylabel='Count'>"
      ]
     },
     "execution_count": 11,
     "metadata": {},
     "output_type": "execute_result"
    },
    {
     "data": {
      "image/png": "[encoded data removed]",
      "text/plain": [
       "<Figure size 432x288 with 1 Axes>"
      ]
     },
     "metadata": {
      "needs_background": "light"
     },
     "output_type": "display_data"
    }
   ],
   "source": [
    "sns.histplot(HOFdata,shrink = 0.9)"
   ]
  },
  {
   "cell_type": "raw",
   "id": "11f03416-b453-4ad8-b0d6-e0d696be2d11",
   "metadata": {
    "tags": []
   },
   "source": [
    "## Section 2: Dataset Analysis\n",
    "\n",
    "Now, let's start analyzing our dataset and see if we can draw some conclusions!  For the rest of this section, you will add your own cells (either Markdown or Code) to show your analysis code and discuss your results.\n",
    "\n",
    "**Write and discuss the steps to answering the following research question:** For the subsampled dataset, is having more hits than the mean number of hits more likely to achieve \"hall of fame\" status than random chance?\n",
    "\n",
    "You will be graded on the following criteria:\n",
    "- 25% statistical analysis is backed with reasoning and tests/scores\n",
    "- 50% Python code is correct, logical, readable, and not excessive\n",
    "- 25% clear writing and flow of the this section of the Jupyter notebook\n",
    "\n",
    "Make sure you write down the reasoning and method of creation for any additional columns you need to create."
   ]
  },
  {
   "cell_type": "markdown",
   "id": "6133e371-4f38-463b-8520-fa667c7bb0f8",
   "metadata": {},
   "source": [
    "Finding out The total Mean value of 'HITS' Column "
   ]
  },
  {
   "cell_type": "code",
   "execution_count": 12,
   "id": "ee34ee53-3531-4230-9b0f-cbd8d5e1cf7b",
   "metadata": {},
   "outputs": [
    {
     "data": {
      "text/plain": [
       "1717.9715762273902"
      ]
     },
     "execution_count": 12,
     "metadata": {},
     "output_type": "execute_result"
    }
   ],
   "source": [
    "hof_subsample['Hits'].mean()"
   ]
  },
  {
   "cell_type": "markdown",
   "id": "4a570cfc-3298-4868-874d-49730ef24a09",
   "metadata": {},
   "source": [
    "The Total number of 'HITS' Column which is more than the mean value "
   ]
  },
  {
   "cell_type": "code",
   "execution_count": 16,
   "id": "c2ba9661-182e-4508-a96e-6988a9a68148",
   "metadata": {},
   "outputs": [
    {
     "name": "stdout",
     "output_type": "stream",
     "text": [
      "62\n"
     ]
    }
   ],
   "source": [
    "print(len(hof_subsample.loc[(hof_subsample['Hits'] > hof_subsample['Hits'].mean()) & (hof_subsample['HOF'] == 1)]))"
   ]
  },
  {
   "cell_type": "code",
   "execution_count": 17,
   "id": "76c268bd-0c05-4575-90a5-3b65753309d7",
   "metadata": {},
   "outputs": [
    {
     "name": "stdout",
     "output_type": "stream",
     "text": [
      "12\n"
     ]
    }
   ],
   "source": [
    "print(len(hof_subsample.loc[(hof_subsample['Hits'] <= hof_subsample['Hits'].mean()) & (hof_subsample['HOF'] == 1)]))"
   ]
  },
  {
   "cell_type": "code",
   "execution_count": 18,
   "id": "a0f97f8b-0eb9-4beb-9bb4-e3591df6859a",
   "metadata": {},
   "outputs": [
    {
     "name": "stdout",
     "output_type": "stream",
     "text": [
      "74\n"
     ]
    }
   ],
   "source": [
    "print(len(hof_subsample.loc[hof_subsample['HOF'] == 1]))"
   ]
  },
  {
   "cell_type": "code",
   "execution_count": 19,
   "id": "ec58f15f-8958-4c7d-80ec-9fcb1f14bb8e",
   "metadata": {},
   "outputs": [
    {
     "name": "stdout",
     "output_type": "stream",
     "text": [
      "91\n"
     ]
    }
   ],
   "source": [
    "print(len(hof_subsample.loc[(hof_subsample['Hits'] > hof_subsample['Hits'].mean()) & (hof_subsample['HOF'] == 0)]))"
   ]
  },
  {
   "cell_type": "code",
   "execution_count": 20,
   "id": "d24425fa-eba0-410f-b2fd-90dff214a195",
   "metadata": {},
   "outputs": [
    {
     "name": "stdout",
     "output_type": "stream",
     "text": [
      "222\n"
     ]
    }
   ],
   "source": [
    "print(len(hof_subsample.loc[(hof_subsample['Hits'] <= hof_subsample['Hits'].mean()) & (hof_subsample['HOF'] == 0)]))"
   ]
  },
  {
   "cell_type": "code",
   "execution_count": 21,
   "id": "09d3b90b-bf6b-40e3-86eb-5e9e8039c44b",
   "metadata": {},
   "outputs": [
    {
     "name": "stdout",
     "output_type": "stream",
     "text": [
      "313\n"
     ]
    }
   ],
   "source": [
    "print(len(hof_subsample.loc[hof_subsample['HOF'] == 0]))"
   ]
  },
  {
   "cell_type": "code",
   "execution_count": null,
   "id": "0ea6cbd7-5587-49c7-82f4-020ba6f79bda",
   "metadata": {},
   "outputs": [],
   "source": []
  }
 ],
 "metadata": {
  "kernelspec": {
   "display_name": "Python 3 (ipykernel)",
   "language": "python",
   "name": "python3"
  },
  "language_info": {
   "codemirror_mode": {
    "name": "ipython",
    "version": 3
   },
   "file_extension": ".py",
   "mimetype": "text/x-python",
   "name": "python",
   "nbconvert_exporter": "python",
   "pygments_lexer": "ipython3",
   "version": "3.9.6"
  }
 },
 "nbformat": 4,
 "nbformat_minor": 5
}
