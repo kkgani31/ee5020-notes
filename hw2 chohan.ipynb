{
 "cells": [
  {
   "cell_type": "markdown",
   "id": "d7ce36c6-8674-4062-ba82-79a7590ef47c",
   "metadata": {
    "tags": []
   },
   "source": [
    "# EE 5020 Homework 2: Statistical inference (frequentist)\n",
    "\n",
    "Name: Ganesh Anirudh Kasa Kota\n",
    "\n",
    "CIN: 401975311"
   ]
  },
  {
   "cell_type": "markdown",
   "id": "9e776d9a-583b-4534-8e9f-b8b7c592d6ad",
   "metadata": {
    "tags": []
   },
   "source": [
    "## Overview\n",
    "\n",
    "In this homework, you will practice applying your statistical inference skills on different datasets within the book. Like the previous homework's Section 2, this set of problems will be presented as datasets and associated research questions for you to answer with your own Markdown and Code cells.\n",
    "\n",
    "## Rubric for this homework\n",
    "\n",
    "Make sure you write down the reasoning and method of creation for any additional columns or transformations of data you need to create.  Additionally, make sure to justify any conclusions you make to answer questions with statistical tests.  Make sure you justify the statistical test chosen as well (for instance, unpaired vs. paired t-test).\n",
    "\n",
    "- 25% organization and flow of justification for statistical inference\n",
    "- 25% organization and flow of Python code\n",
    "- 25% correct statistical inference\n",
    "- 25% correct Python code"
   ]
  },
  {
   "cell_type": "markdown",
   "id": "afd5cc86-6141-42fb-b5ff-3cf63e92567a",
   "metadata": {
    "tags": []
   },
   "source": [
    "## Global imports\n",
    "\n",
    "Write your imports here so you don't have to write imports below."
   ]
  },
  {
   "cell_type": "code",
   "execution_count": 1,
   "id": "bdf24eac-2f0d-4f50-b148-ee056763edfe",
   "metadata": {},
   "outputs": [],
   "source": [
    "import pandas as pd\n",
    "import seaborn as sns\n",
    "import numpy as np\n",
    "import matplotlib.pyplot as plt"
   ]
  },
  {
   "cell_type": "markdown",
   "id": "5f0fed40-7bc4-41b0-b009-9a6cd9d164ce",
   "metadata": {
    "tags": []
   },
   "source": [
    "## Problem 1\n",
    "\n",
    "**Dataset:** `as_datasets/hof.csv`\n",
    "\n",
    "**Dataset description:** A data set containing number of hits and hall of fame status of various baseball players\n",
    "\n",
    "**Write and discuss the steps to answering the following research question:** Subsample the full dataset again by the last two digits of your CIN floor divided by 4. Is it more likely for a hall of famer to have more hits than a non-hall of famer?"
   ]
  },
  {
   "cell_type": "code",
   "execution_count": 12,
   "id": "fe77e056-ab7e-47a7-8adc-906525a6f4c1",
   "metadata": {},
   "outputs": [],
   "source": [
    "HOFdata = pd.read_csv('hof.csv') "
   ]
  },
  {
   "cell_type": "code",
   "execution_count": 13,
   "id": "25205fc2-c062-47c1-85b7-f5572a9a7057",
   "metadata": {},
   "outputs": [],
   "source": [
    "def cin_subsample_dataframe(df_input: pd.DataFrame, cin: int) -> pd.DataFrame:\n",
    "    last_two_digits = cin % 100\n",
    "    selection_value = last_two_digits // 4\n",
    "    selection_vector = np.arange(0, len(df_input), selection_value)\n",
    "    return df_input.iloc[selection_vector]"
   ]
  },
  {
   "cell_type": "code",
   "execution_count": 15,
   "id": "24bf8235-89c3-4c1c-b7d1-794a9c62ab7a",
   "metadata": {},
   "outputs": [
    {
     "data": {
      "text/html": [
       "<div>\n",
       "<style scoped>\n",
       "    .dataframe tbody tr th:only-of-type {\n",
       "        vertical-align: middle;\n",
       "    }\n",
       "\n",
       "    .dataframe tbody tr th {\n",
       "        vertical-align: top;\n",
       "    }\n",
       "\n",
       "    .dataframe thead th {\n",
       "        text-align: right;\n",
       "    }\n",
       "</style>\n",
       "<table border=\"1\" class=\"dataframe\">\n",
       "  <thead>\n",
       "    <tr style=\"text-align: right;\">\n",
       "      <th></th>\n",
       "      <th>Hits</th>\n",
       "      <th>HOF</th>\n",
       "    </tr>\n",
       "  </thead>\n",
       "  <tbody>\n",
       "    <tr>\n",
       "      <th>0</th>\n",
       "      <td>972</td>\n",
       "      <td>0</td>\n",
       "    </tr>\n",
       "    <tr>\n",
       "      <th>2</th>\n",
       "      <td>1007</td>\n",
       "      <td>0</td>\n",
       "    </tr>\n",
       "    <tr>\n",
       "      <th>4</th>\n",
       "      <td>1041</td>\n",
       "      <td>0</td>\n",
       "    </tr>\n",
       "    <tr>\n",
       "      <th>6</th>\n",
       "      <td>1046</td>\n",
       "      <td>0</td>\n",
       "    </tr>\n",
       "    <tr>\n",
       "      <th>8</th>\n",
       "      <td>1051</td>\n",
       "      <td>0</td>\n",
       "    </tr>\n",
       "    <tr>\n",
       "      <th>...</th>\n",
       "      <td>...</td>\n",
       "      <td>...</td>\n",
       "    </tr>\n",
       "    <tr>\n",
       "      <th>764</th>\n",
       "      <td>3283</td>\n",
       "      <td>1</td>\n",
       "    </tr>\n",
       "    <tr>\n",
       "      <th>766</th>\n",
       "      <td>3319</td>\n",
       "      <td>1</td>\n",
       "    </tr>\n",
       "    <tr>\n",
       "      <th>768</th>\n",
       "      <td>3419</td>\n",
       "      <td>1</td>\n",
       "    </tr>\n",
       "    <tr>\n",
       "      <th>770</th>\n",
       "      <td>3630</td>\n",
       "      <td>1</td>\n",
       "    </tr>\n",
       "    <tr>\n",
       "      <th>772</th>\n",
       "      <td>4189</td>\n",
       "      <td>1</td>\n",
       "    </tr>\n",
       "  </tbody>\n",
       "</table>\n",
       "<p>387 rows × 2 columns</p>\n",
       "</div>"
      ],
      "text/plain": [
       "     Hits  HOF\n",
       "0     972    0\n",
       "2    1007    0\n",
       "4    1041    0\n",
       "6    1046    0\n",
       "8    1051    0\n",
       "..    ...  ...\n",
       "764  3283    1\n",
       "766  3319    1\n",
       "768  3419    1\n",
       "770  3630    1\n",
       "772  4189    1\n",
       "\n",
       "[387 rows x 2 columns]"
      ]
     },
     "execution_count": 15,
     "metadata": {},
     "output_type": "execute_result"
    }
   ],
   "source": [
    "hof_subsample=cin_subsample_dataframe(HOFdata,401975311)\n",
    "hof_subsample"
   ]
  },
  {
   "cell_type": "markdown",
   "id": "f7d85e72-fa5d-4a43-a76f-b5e8ed53f9af",
   "metadata": {},
   "source": [
    "## Problem 2\n",
    "\n",
    "**Dataset:** `as_datasets/bac.csv`\n",
    "\n",
    "**Dataset description:** Data on blood alcohol content (BAC) and whether the subject passed or failed the standardized field sobriety test\n",
    "\n",
    "**Write and discuss the steps to answering the following research question:** How accurate is a police officer's sobriety test? In other words, do subjects who fail the sobriety test have higher BAC than subjects who passed the sobriety test?"
   ]
  },
  {
   "cell_type": "code",
   "execution_count": 3,
   "id": "a52df794-c92e-4930-9cef-967a628bf3e6",
   "metadata": {},
   "outputs": [],
   "source": [
    "BACdata = pd.read_csv('bac.csv')    "
   ]
  },
  {
   "cell_type": "code",
   "execution_count": 4,
   "id": "c931171a-23e3-45b9-ba8c-8b5b5faeeb6c",
   "metadata": {},
   "outputs": [
    {
     "data": {
      "text/html": [
       "<div>\n",
       "<style scoped>\n",
       "    .dataframe tbody tr th:only-of-type {\n",
       "        vertical-align: middle;\n",
       "    }\n",
       "\n",
       "    .dataframe tbody tr th {\n",
       "        vertical-align: top;\n",
       "    }\n",
       "\n",
       "    .dataframe thead th {\n",
       "        text-align: right;\n",
       "    }\n",
       "</style>\n",
       "<table border=\"1\" class=\"dataframe\">\n",
       "  <thead>\n",
       "    <tr style=\"text-align: right;\">\n",
       "      <th></th>\n",
       "      <th>Subject</th>\n",
       "      <th>BAC</th>\n",
       "      <th>PASS</th>\n",
       "      <th>forpass</th>\n",
       "      <th>pred</th>\n",
       "      <th>pass.ols</th>\n",
       "      <th>PASS.OLS</th>\n",
       "    </tr>\n",
       "  </thead>\n",
       "  <tbody>\n",
       "    <tr>\n",
       "      <th>0</th>\n",
       "      <td>54</td>\n",
       "      <td>0.000344</td>\n",
       "      <td>1</td>\n",
       "      <td>0.518128</td>\n",
       "      <td>0.971148</td>\n",
       "      <td>0</td>\n",
       "      <td>0</td>\n",
       "    </tr>\n",
       "    <tr>\n",
       "      <th>1</th>\n",
       "      <td>94</td>\n",
       "      <td>0.000523</td>\n",
       "      <td>1</td>\n",
       "      <td>0.464620</td>\n",
       "      <td>0.970857</td>\n",
       "      <td>0</td>\n",
       "      <td>0</td>\n",
       "    </tr>\n",
       "    <tr>\n",
       "      <th>2</th>\n",
       "      <td>72</td>\n",
       "      <td>0.001530</td>\n",
       "      <td>1</td>\n",
       "      <td>0.797098</td>\n",
       "      <td>0.969166</td>\n",
       "      <td>0</td>\n",
       "      <td>1</td>\n",
       "    </tr>\n",
       "    <tr>\n",
       "      <th>3</th>\n",
       "      <td>1</td>\n",
       "      <td>0.001819</td>\n",
       "      <td>1</td>\n",
       "      <td>0.327069</td>\n",
       "      <td>0.968663</td>\n",
       "      <td>0</td>\n",
       "      <td>0</td>\n",
       "    </tr>\n",
       "    <tr>\n",
       "      <th>4</th>\n",
       "      <td>49</td>\n",
       "      <td>0.001850</td>\n",
       "      <td>1</td>\n",
       "      <td>0.546285</td>\n",
       "      <td>0.968608</td>\n",
       "      <td>0</td>\n",
       "      <td>0</td>\n",
       "    </tr>\n",
       "  </tbody>\n",
       "</table>\n",
       "</div>"
      ],
      "text/plain": [
       "   Subject       BAC  PASS   forpass      pred  pass.ols  PASS.OLS\n",
       "0       54  0.000344     1  0.518128  0.971148         0         0\n",
       "1       94  0.000523     1  0.464620  0.970857         0         0\n",
       "2       72  0.001530     1  0.797098  0.969166         0         1\n",
       "3        1  0.001819     1  0.327069  0.968663         0         0\n",
       "4       49  0.001850     1  0.546285  0.968608         0         0"
      ]
     },
     "execution_count": 4,
     "metadata": {},
     "output_type": "execute_result"
    }
   ],
   "source": [
    "BACdata.head()"
   ]
  },
  {
   "cell_type": "code",
   "execution_count": 5,
   "id": "06d7b7fc",
   "metadata": {},
   "outputs": [
    {
     "name": "stdout",
     "output_type": "stream",
     "text": [
      "<class 'pandas.core.frame.DataFrame'>\n",
      "RangeIndex: 100 entries, 0 to 99\n",
      "Data columns (total 7 columns):\n",
      " #   Column    Non-Null Count  Dtype  \n",
      "---  ------    --------------  -----  \n",
      " 0   Subject   100 non-null    int64  \n",
      " 1   BAC       100 non-null    float64\n",
      " 2   PASS      100 non-null    int64  \n",
      " 3   forpass   100 non-null    float64\n",
      " 4   pred      100 non-null    float64\n",
      " 5   pass.ols  100 non-null    int64  \n",
      " 6   PASS.OLS  100 non-null    int64  \n",
      "dtypes: float64(3), int64(4)\n",
      "memory usage: 5.6 KB\n"
     ]
    }
   ],
   "source": [
    "BACdata.info()"
   ]
  },
  {
   "cell_type": "code",
   "execution_count": 10,
   "id": "0523ccab",
   "metadata": {},
   "outputs": [
    {
     "data": {
      "text/plain": [
       "(0.099219449, 0.004256091)"
      ]
     },
     "execution_count": 10,
     "metadata": {},
     "output_type": "execute_result"
    }
   ],
   "source": [
    "BACdata[BACdata['PASS']==0]['BAC'].max(),BACdata[BACdata['PASS']==0]['BAC'].min()"
   ]
  },
  {
   "cell_type": "code",
   "execution_count": 11,
   "id": "3700cd32",
   "metadata": {},
   "outputs": [
    {
     "data": {
      "text/plain": [
       "(0.079576723, 0.000344084)"
      ]
     },
     "execution_count": 11,
     "metadata": {},
     "output_type": "execute_result"
    }
   ],
   "source": [
    "BACdata[BACdata['PASS']==1]['BAC'].max(),BACdata[BACdata['PASS']==1]['BAC'].min()"
   ]
  },
  {
   "cell_type": "markdown",
   "id": "3273efc0-fdf7-489f-b1d6-b02ac407ac31",
   "metadata": {},
   "source": [
    "## Problem 3\n",
    "\n",
    "**Dataset:** `as_datasets/caffeine.csv`\n",
    "\n",
    "**Dataset description:** Endurance times of 9 athletes when given 5 mg and 13 mg of caffeine\n",
    "\n",
    "**Write and discuss the steps to answering the following research question:** Does a higher concentration of actually prolong the endurance time of an athlete?"
   ]
  },
  {
   "cell_type": "code",
   "execution_count": 39,
   "id": "16de257d-a707-455b-81e8-bb48bd7332e0",
   "metadata": {},
   "outputs": [],
   "source": [
    "CAFdata = pd.read_csv('caffeine.csv')"
   ]
  },
  {
   "cell_type": "code",
   "execution_count": 54,
   "id": "797b428f-c8c5-4cf9-bd77-a618d4c623e7",
   "metadata": {},
   "outputs": [
    {
     "data": {
      "text/html": [
       "<div>\n",
       "<style scoped>\n",
       "    .dataframe tbody tr th:only-of-type {\n",
       "        vertical-align: middle;\n",
       "    }\n",
       "\n",
       "    .dataframe tbody tr th {\n",
       "        vertical-align: top;\n",
       "    }\n",
       "\n",
       "    .dataframe thead th {\n",
       "        text-align: right;\n",
       "    }\n",
       "</style>\n",
       "<table border=\"1\" class=\"dataframe\">\n",
       "  <thead>\n",
       "    <tr style=\"text-align: right;\">\n",
       "      <th></th>\n",
       "      <th>mg5</th>\n",
       "      <th>mg13</th>\n",
       "    </tr>\n",
       "  </thead>\n",
       "  <tbody>\n",
       "    <tr>\n",
       "      <th>0</th>\n",
       "      <td>35.05</td>\n",
       "      <td>36.20</td>\n",
       "    </tr>\n",
       "    <tr>\n",
       "      <th>1</th>\n",
       "      <td>44.50</td>\n",
       "      <td>46.48</td>\n",
       "    </tr>\n",
       "    <tr>\n",
       "      <th>2</th>\n",
       "      <td>73.25</td>\n",
       "      <td>69.47</td>\n",
       "    </tr>\n",
       "    <tr>\n",
       "      <th>3</th>\n",
       "      <td>66.20</td>\n",
       "      <td>70.54</td>\n",
       "    </tr>\n",
       "    <tr>\n",
       "      <th>4</th>\n",
       "      <td>42.47</td>\n",
       "      <td>37.55</td>\n",
       "    </tr>\n",
       "  </tbody>\n",
       "</table>\n",
       "</div>"
      ],
      "text/plain": [
       "     mg5   mg13\n",
       "0  35.05  36.20\n",
       "1  44.50  46.48\n",
       "2  73.25  69.47\n",
       "3  66.20  70.54\n",
       "4  42.47  37.55"
      ]
     },
     "execution_count": 54,
     "metadata": {},
     "output_type": "execute_result"
    }
   ],
   "source": [
    "CAFdata.head()"
   ]
  },
  {
   "cell_type": "code",
   "execution_count": 47,
   "id": "e43a2763",
   "metadata": {},
   "outputs": [
    {
     "data": {
      "text/plain": [
       "(9, 2)"
      ]
     },
     "execution_count": 47,
     "metadata": {},
     "output_type": "execute_result"
    }
   ],
   "source": [
    "CAFdata.shape"
   ]
  },
  {
   "cell_type": "code",
   "execution_count": null,
   "id": "245cb7ea",
   "metadata": {},
   "outputs": [],
   "source": [
    "#ATHELETE 9 HAS THE HIGHEST CONCENTRATION"
   ]
  },
  {
   "cell_type": "code",
   "execution_count": null,
   "id": "693c379e",
   "metadata": {},
   "outputs": [],
   "source": []
  },
  {
   "cell_type": "markdown",
   "id": "cdeb4b2b-97a3-4a69-94f3-c848a3b69a2f",
   "metadata": {},
   "source": [
    "## Problem 4\n",
    "\n",
    "**Dataset:** `as_datasets/rent.csv`\n",
    "\n",
    "**Dataset description:** Monthly rent of 10 randomly selected apartments with less than 100 sq ft in 6 American cities\n",
    "\n",
    "**Write and discuss the steps to answering the following research question:** Which cities have similar monthly rent means?"
   ]
  },
  {
   "cell_type": "code",
   "execution_count": 3,
   "id": "078f298c-4033-4686-82d2-419ffc971826",
   "metadata": {},
   "outputs": [],
   "source": [
    "RENTdata = pd.read_csv('rent.csv')"
   ]
  },
  {
   "cell_type": "code",
   "execution_count": 4,
   "id": "1b3aa325",
   "metadata": {},
   "outputs": [
    {
     "data": {
      "text/html": [
       "<div>\n",
       "<style scoped>\n",
       "    .dataframe tbody tr th:only-of-type {\n",
       "        vertical-align: middle;\n",
       "    }\n",
       "\n",
       "    .dataframe tbody tr th {\n",
       "        vertical-align: top;\n",
       "    }\n",
       "\n",
       "    .dataframe thead th {\n",
       "        text-align: right;\n",
       "    }\n",
       "</style>\n",
       "<table border=\"1\" class=\"dataframe\">\n",
       "  <thead>\n",
       "    <tr style=\"text-align: right;\">\n",
       "      <th></th>\n",
       "      <th>Santa Monica CA</th>\n",
       "      <th>Boise ID</th>\n",
       "      <th>Tucson AZ</th>\n",
       "      <th>Detroit MI</th>\n",
       "      <th>Pittsburgh PA</th>\n",
       "      <th>Orlando FL</th>\n",
       "    </tr>\n",
       "  </thead>\n",
       "  <tbody>\n",
       "    <tr>\n",
       "      <th>0</th>\n",
       "      <td>10230</td>\n",
       "      <td>1600</td>\n",
       "      <td>2495</td>\n",
       "      <td>3195</td>\n",
       "      <td>2480</td>\n",
       "      <td>2242</td>\n",
       "    </tr>\n",
       "    <tr>\n",
       "      <th>1</th>\n",
       "      <td>10000</td>\n",
       "      <td>1500</td>\n",
       "      <td>2200</td>\n",
       "      <td>2695</td>\n",
       "      <td>2435</td>\n",
       "      <td>2000</td>\n",
       "    </tr>\n",
       "    <tr>\n",
       "      <th>2</th>\n",
       "      <td>9000</td>\n",
       "      <td>1029</td>\n",
       "      <td>2150</td>\n",
       "      <td>2595</td>\n",
       "      <td>2405</td>\n",
       "      <td>1912</td>\n",
       "    </tr>\n",
       "    <tr>\n",
       "      <th>3</th>\n",
       "      <td>8500</td>\n",
       "      <td>1025</td>\n",
       "      <td>1800</td>\n",
       "      <td>2495</td>\n",
       "      <td>2350</td>\n",
       "      <td>1895</td>\n",
       "    </tr>\n",
       "    <tr>\n",
       "      <th>4</th>\n",
       "      <td>8250</td>\n",
       "      <td>980</td>\n",
       "      <td>1650</td>\n",
       "      <td>2495</td>\n",
       "      <td>2320</td>\n",
       "      <td>1800</td>\n",
       "    </tr>\n",
       "  </tbody>\n",
       "</table>\n",
       "</div>"
      ],
      "text/plain": [
       "   Santa Monica CA  Boise ID  Tucson AZ  Detroit MI  Pittsburgh PA  Orlando FL\n",
       "0            10230      1600       2495        3195           2480        2242\n",
       "1            10000      1500       2200        2695           2435        2000\n",
       "2             9000      1029       2150        2595           2405        1912\n",
       "3             8500      1025       1800        2495           2350        1895\n",
       "4             8250       980       1650        2495           2320        1800"
      ]
     },
     "execution_count": 4,
     "metadata": {},
     "output_type": "execute_result"
    }
   ],
   "source": [
    "RENTdata.head()"
   ]
  },
  {
   "cell_type": "code",
   "execution_count": 11,
   "id": "d342109c",
   "metadata": {},
   "outputs": [
    {
     "data": {
      "text/plain": [
       "(10, 6)"
      ]
     },
     "execution_count": 11,
     "metadata": {},
     "output_type": "execute_result"
    }
   ],
   "source": [
    "RENTdata.shape"
   ]
  },
  {
   "cell_type": "code",
   "execution_count": 28,
   "id": "07d09e67",
   "metadata": {},
   "outputs": [
    {
     "data": {
      "text/html": [
       "<div>\n",
       "<style scoped>\n",
       "    .dataframe tbody tr th:only-of-type {\n",
       "        vertical-align: middle;\n",
       "    }\n",
       "\n",
       "    .dataframe tbody tr th {\n",
       "        vertical-align: top;\n",
       "    }\n",
       "\n",
       "    .dataframe thead th {\n",
       "        text-align: right;\n",
       "    }\n",
       "</style>\n",
       "<table border=\"1\" class=\"dataframe\">\n",
       "  <thead>\n",
       "    <tr style=\"text-align: right;\">\n",
       "      <th></th>\n",
       "      <th>Santa Monica CA</th>\n",
       "      <th>Boise ID</th>\n",
       "      <th>Tucson AZ</th>\n",
       "      <th>Detroit MI</th>\n",
       "      <th>Pittsburgh PA</th>\n",
       "      <th>Orlando FL</th>\n",
       "    </tr>\n",
       "  </thead>\n",
       "  <tbody>\n",
       "    <tr>\n",
       "      <th>count</th>\n",
       "      <td>10.000000</td>\n",
       "      <td>10.000000</td>\n",
       "      <td>10.000000</td>\n",
       "      <td>10.000000</td>\n",
       "      <td>10.000000</td>\n",
       "      <td>10.000000</td>\n",
       "    </tr>\n",
       "    <tr>\n",
       "      <th>mean</th>\n",
       "      <td>7929.500000</td>\n",
       "      <td>1078.400000</td>\n",
       "      <td>1789.500000</td>\n",
       "      <td>2096.500000</td>\n",
       "      <td>2344.100000</td>\n",
       "      <td>1825.900000</td>\n",
       "    </tr>\n",
       "    <tr>\n",
       "      <th>std</th>\n",
       "      <td>1572.680744</td>\n",
       "      <td>253.125002</td>\n",
       "      <td>363.153243</td>\n",
       "      <td>664.308538</td>\n",
       "      <td>72.520419</td>\n",
       "      <td>191.608658</td>\n",
       "    </tr>\n",
       "    <tr>\n",
       "      <th>min</th>\n",
       "      <td>5815.000000</td>\n",
       "      <td>900.000000</td>\n",
       "      <td>1500.000000</td>\n",
       "      <td>1400.000000</td>\n",
       "      <td>2265.000000</td>\n",
       "      <td>1625.000000</td>\n",
       "    </tr>\n",
       "    <tr>\n",
       "      <th>25%</th>\n",
       "      <td>6625.000000</td>\n",
       "      <td>931.250000</td>\n",
       "      <td>1500.000000</td>\n",
       "      <td>1491.250000</td>\n",
       "      <td>2293.750000</td>\n",
       "      <td>1673.750000</td>\n",
       "    </tr>\n",
       "    <tr>\n",
       "      <th>50%</th>\n",
       "      <td>8125.000000</td>\n",
       "      <td>965.000000</td>\n",
       "      <td>1625.000000</td>\n",
       "      <td>2085.000000</td>\n",
       "      <td>2318.000000</td>\n",
       "      <td>1782.500000</td>\n",
       "    </tr>\n",
       "    <tr>\n",
       "      <th>75%</th>\n",
       "      <td>8875.000000</td>\n",
       "      <td>1028.000000</td>\n",
       "      <td>2062.500000</td>\n",
       "      <td>2570.000000</td>\n",
       "      <td>2391.250000</td>\n",
       "      <td>1907.750000</td>\n",
       "    </tr>\n",
       "    <tr>\n",
       "      <th>max</th>\n",
       "      <td>10230.000000</td>\n",
       "      <td>1600.000000</td>\n",
       "      <td>2495.000000</td>\n",
       "      <td>3195.000000</td>\n",
       "      <td>2480.000000</td>\n",
       "      <td>2242.000000</td>\n",
       "    </tr>\n",
       "  </tbody>\n",
       "</table>\n",
       "</div>"
      ],
      "text/plain": [
       "       Santa Monica CA     Boise ID    Tucson AZ   Detroit MI  Pittsburgh PA  \\\n",
       "count        10.000000    10.000000    10.000000    10.000000      10.000000   \n",
       "mean       7929.500000  1078.400000  1789.500000  2096.500000    2344.100000   \n",
       "std        1572.680744   253.125002   363.153243   664.308538      72.520419   \n",
       "min        5815.000000   900.000000  1500.000000  1400.000000    2265.000000   \n",
       "25%        6625.000000   931.250000  1500.000000  1491.250000    2293.750000   \n",
       "50%        8125.000000   965.000000  1625.000000  2085.000000    2318.000000   \n",
       "75%        8875.000000  1028.000000  2062.500000  2570.000000    2391.250000   \n",
       "max       10230.000000  1600.000000  2495.000000  3195.000000    2480.000000   \n",
       "\n",
       "        Orlando FL  \n",
       "count    10.000000  \n",
       "mean   1825.900000  \n",
       "std     191.608658  \n",
       "min    1625.000000  \n",
       "25%    1673.750000  \n",
       "50%    1782.500000  \n",
       "75%    1907.750000  \n",
       "max    2242.000000  "
      ]
     },
     "execution_count": 28,
     "metadata": {},
     "output_type": "execute_result"
    }
   ],
   "source": [
    "RENTdata.describe()"
   ]
  },
  {
   "cell_type": "code",
   "execution_count": 15,
   "id": "1443622f",
   "metadata": {},
   "outputs": [
    {
     "data": {
      "text/plain": [
       "Santa Monica CA    7929.5\n",
       "Boise ID           1078.4\n",
       "Tucson AZ          1789.5\n",
       "Detroit MI         2096.5\n",
       "Pittsburgh PA      2344.1\n",
       "Orlando FL         1825.9\n",
       "dtype: float64"
      ]
     },
     "execution_count": 15,
     "metadata": {},
     "output_type": "execute_result"
    }
   ],
   "source": [
    "#CALCULATED AVG TO CHECK PRICES OF EACH CITY\n",
    "RENTdata.mean()"
   ]
  },
  {
   "cell_type": "code",
   "execution_count": null,
   "id": "7c871089",
   "metadata": {},
   "outputs": [],
   "source": [
    "#By Calculating Avg Prices of Apartments we can find that Tucson & Orlando has almost similar prices"
   ]
  },
  {
   "cell_type": "code",
   "execution_count": 25,
   "id": "b7c33c00",
   "metadata": {},
   "outputs": [],
   "source": [
    "df4 = RENTdata.mean()"
   ]
  },
  {
   "cell_type": "code",
   "execution_count": 26,
   "id": "ff823372",
   "metadata": {},
   "outputs": [
    {
     "data": {
      "image/png": "[encoded data removed]",
      "text/plain": [
       "<Figure size 2160x1080 with 1 Axes>"
      ]
     },
     "metadata": {
      "needs_background": "light"
     },
     "output_type": "display_data"
    }
   ],
   "source": [
    "RENTdata[['Santa Monica CA','Boise ID','Tucson AZ','Detroit MI','Pittsburgh PA','Orlando FL']].plot(kind='density')\n",
    "plt.xlabel('df4')\n",
    "plt.rcParams[\"figure.figsize\"] = (30, 15)\n",
    "plt.show()\n"
   ]
  },
  {
   "cell_type": "code",
   "execution_count": 35,
   "id": "b3752f75",
   "metadata": {},
   "outputs": [
    {
     "data": {
      "text/plain": [
       "<AxesSubplot:ylabel='Count'>"
      ]
     },
     "execution_count": 35,
     "metadata": {},
     "output_type": "execute_result"
    },
    {
     "data": {
      "image/png": "[encoded data removed]",
      "text/plain": [
       "<Figure size 2160x1080 with 1 Axes>"
      ]
     },
     "metadata": {
      "needs_background": "light"
     },
     "output_type": "display_data"
    }
   ],
   "source": [
    "sns.histplot(data=RENTdata)"
   ]
  },
  {
   "cell_type": "code",
   "execution_count": null,
   "id": "37d707e0",
   "metadata": {},
   "outputs": [],
   "source": []
  },
  {
   "cell_type": "markdown",
   "id": "daca46c3-d6d9-4072-8c36-595ed9a6175a",
   "metadata": {},
   "source": [
    "## Problem 5\n",
    "\n",
    "**Dataset:** `as_datasets/gpa.csv`\n",
    "\n",
    "**Dataset description:** A toy data set containing the heights and gpa of 35 students\n",
    "\n",
    "**Write and discuss the steps to answering the following research question:** Is there a GPA difference between with students in each quartile (25%) of height?  In other words, do students who are in the bottom 25% of height have a different GPA than students who are in the 25-50% or 50-75% or 75-100% of height?"
   ]
  },
  {
   "cell_type": "code",
   "execution_count": 3,
   "id": "323027e9-bd7e-423e-b969-b0b48b447923",
   "metadata": {},
   "outputs": [],
   "source": [
    "GPAdata = pd.read_csv('gpa.csv')"
   ]
  },
  {
   "cell_type": "code",
   "execution_count": 5,
   "id": "c022447b",
   "metadata": {},
   "outputs": [
    {
     "data": {
      "text/plain": [
       "(35, 2)"
      ]
     },
     "execution_count": 5,
     "metadata": {},
     "output_type": "execute_result"
    }
   ],
   "source": [
    "GPAdata.shape"
   ]
  },
  {
   "cell_type": "code",
   "execution_count": 19,
   "id": "0ff96e8e",
   "metadata": {},
   "outputs": [],
   "source": [
    "# splitting dataframe by row index\n",
    "GPA_1 = GPAdata.iloc[:8,:]\n",
    "GPA_2 = GPAdata.iloc[9:16,:]\n",
    "GPA_3 = GPAdata.iloc[17:25,:]\n",
    "GPA_4 = GPAdata.iloc[26:,:]"
   ]
  },
  {
   "cell_type": "code",
   "execution_count": 28,
   "id": "a88f65ce",
   "metadata": {},
   "outputs": [
    {
     "data": {
      "text/plain": [
       "height    64.37500\n",
       "gpa        3.04625\n",
       "dtype: float64"
      ]
     },
     "execution_count": 28,
     "metadata": {},
     "output_type": "execute_result"
    }
   ],
   "source": [
    "#TOP 25% PERCENT OF PEOPLE\n",
    "GPA_1.mean()"
   ]
  },
  {
   "cell_type": "code",
   "execution_count": 29,
   "id": "f5a0273c",
   "metadata": {},
   "outputs": [
    {
     "data": {
      "text/plain": [
       "height    67.428571\n",
       "gpa        2.620000\n",
       "dtype: float64"
      ]
     },
     "execution_count": 29,
     "metadata": {},
     "output_type": "execute_result"
    }
   ],
   "source": [
    "#25 - 50% of PEOPLE \n",
    "GPA_2.mean()"
   ]
  },
  {
   "cell_type": "code",
   "execution_count": 30,
   "id": "d82e90bc",
   "metadata": {},
   "outputs": [
    {
     "data": {
      "text/plain": [
       "height    68.5625\n",
       "gpa        3.1475\n",
       "dtype: float64"
      ]
     },
     "execution_count": 30,
     "metadata": {},
     "output_type": "execute_result"
    }
   ],
   "source": [
    "#50 - 75% OF PEOPLE\n",
    "GPA_3.mean()"
   ]
  },
  {
   "cell_type": "code",
   "execution_count": 31,
   "id": "75d37a92",
   "metadata": {},
   "outputs": [
    {
     "data": {
      "text/plain": [
       "height    67.50\n",
       "gpa        3.03\n",
       "dtype: float64"
      ]
     },
     "execution_count": 31,
     "metadata": {},
     "output_type": "execute_result"
    }
   ],
   "source": [
    "#75 - 100% OF PEOPLE \n",
    "GPA_4.mean()"
   ]
  },
  {
   "cell_type": "code",
   "execution_count": 37,
   "id": "edb51f98",
   "metadata": {},
   "outputs": [
    {
     "name": "stdout",
     "output_type": "stream",
     "text": [
      "height    64.37500\n",
      "gpa        3.04625\n",
      "dtype: float64\n",
      "height    67.428571\n",
      "gpa        2.620000\n",
      "dtype: float64\n",
      "height    68.5625\n",
      "gpa        3.1475\n",
      "dtype: float64\n",
      "height    67.50\n",
      "gpa        3.03\n",
      "dtype: float64\n"
     ]
    }
   ],
   "source": [
    "print(np.mean(GPA_1))\n",
    "print(np.mean(GPA_2))\n",
    "print(np.mean(GPA_3))\n",
    "print(np.mean(GPA_4))"
   ]
  },
  {
   "cell_type": "code",
   "execution_count": null,
   "id": "87f50760",
   "metadata": {},
   "outputs": [],
   "source": [
    "#75-100% People has Highest "
   ]
  }
 ],
 "metadata": {
  "kernelspec": {
   "display_name": "Python 3 (ipykernel)",
   "language": "python",
   "name": "python3"
  },
  "language_info": {
   "codemirror_mode": {
    "name": "ipython",
    "version": 3
   },
   "file_extension": ".py",
   "mimetype": "text/x-python",
   "name": "python",
   "nbconvert_exporter": "python",
   "pygments_lexer": "ipython3",
   "version": "3.9.6"
  }
 },
 "nbformat": 4,
 "nbformat_minor": 5
}
